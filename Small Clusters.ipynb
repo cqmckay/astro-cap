{
 "metadata": {
  "name": "",
  "signature": "sha256:93208fed7b23d8d70470809ec3f4bc0126565c3e693fff4e26c1c96146d16677"
 },
 "nbformat": 3,
 "nbformat_minor": 0,
 "worksheets": [
  {
   "cells": [
    {
     "cell_type": "markdown",
     "metadata": {},
     "source": [
      "Small Clusters.ipynb\n",
      "\n",
      "Created by Nicholas Miller on 11/18/14\n",
      "Copyright (c) 2014 Nicholas Miller. All rights reserved.\n",
      "\n",
      "  This file allows manipulation of cluster outputs but in the ensemble setting and so we can adjust things before proceeding."
     ]
    },
    {
     "cell_type": "code",
     "collapsed": false,
     "input": [
      "%pylab inline\n",
      "import uuid\n",
      "import pickle\n",
      "import datetime\n",
      "\n",
      "import starlibrary\n",
      "from IPython.parallel import Client\n",
      "rc = Client(profile=\"Miller\")\n",
      "len(rc.ids)\n",
      "\n",
      "lbv = rc.load_balanced_view()"
     ],
     "language": "python",
     "metadata": {},
     "outputs": []
    },
    {
     "cell_type": "code",
     "collapsed": false,
     "input": [
      "#Functions\n",
      "\n",
      "def run_ensemble(rc=rc, nruns=10, nstars=100, kingmodel=True, **kwargs):\n",
      "    starttime = datetime.datetime.now()\n",
      "    print \"Starting at \", starttime\n",
      "    lbv = rc.load_balanced_view()\n",
      "    runs = [starlibrary.Run(nstars=nstars, kingmodel=kingmodel, **kwargs)]*nruns\n",
      "\n",
      "    print \"Launching %d runs\" % nruns\n",
      "    results = lbv.map(starlibrary.single_run, runs)\n",
      "    results.wait()\n",
      "    \n",
      "    ensemble_uuid = uuid.uuid1()\n",
      "    ensemble_results_file_name = str(ensemble_uuid)+\".ensemble\"\n",
      "    ensemble_results_file = open(ensemble_results_file_name, \"wb\")\n",
      "\n",
      "    print \"Storing results in %s\" %ensemble_results_file_name\n",
      "    resultlist = results[:]\n",
      "    pickle.dump(resultlist, ensemble_results_file)\n",
      "    \n",
      "    endtime = datetime.datetime.now()\n",
      "    print \"Finished at \", endtime\n",
      "    print \"Elapsed time: \", endtime - starttime \n",
      "    \n",
      "def story_to_str(slist):\n",
      "    p=0\n",
      "    parts=[]\n",
      "    stringlist=[]\n",
      "\n",
      "    for obj in slist[0].story_subobjects:\n",
      "        if obj.kind =='Log':\n",
      "            log = obj.story_lines\n",
      "        elif obj.kind == 'Dynamics':\n",
      "            dynamic = obj.story_vals\n",
      "        elif obj.kind == 'Star':\n",
      "            star = obj.story_vals\n",
      "        elif obj.kind == 'Particle':\n",
      "            p+=1\n",
      "            for attr in obj.story_subobjects:\n",
      "                if attr.story_vals != {}:\n",
      "                    parts.append(attr.story_vals)               \n",
      "\n",
      "    line1 = '(Particle\\n  N = ' +str(p)+ '\\n(Log'\n",
      "    line2 = '\\n'+'  initial_mass = 1\\n  initial_rtidal_over_rvirial = 2.61303\\n  initial_total_energy = -0.25\\n  initial_rvirial = 1'+'\\n)Log\\n(Dynamics'+'\\n'+'  system_time  =  {system_time}\\n  m  =  {m}\\n  r  =  {r}\\n  v  =  {v}\\n  com_time = {com_time}\\n  com_pos = {com_pos}\\n  com_vel = {com_vel}\\n  total_energy = {total_energy}'.format(**dynamic)+'\\n'+')Dynamics\\n(Hydro\\n)Hydro\\n(Star'+'\\n'+'  mass_scale     =  {mass_scale}\\n  size_scale     =  {size_scale}\\n  time_scale     =  {time_scale}'.format(**star)+'\\n'+')Star\\n(Particle\\n  N = 1\\n(Log\\n)Log\\n(Dynamics'\n",
      "    line3 = ')Dynamics\\n(Hydro\\n)Hydro\\n(Star\\n)Star\\n)Particle\\n(Particle\\n  N = 1\\n(Log\\n)Log\\n(Dynamics'\n",
      "    line4 = ')Dynamics\\n(Hydro\\n)Hydro\\n(Star\\n)Star\\n)Particle\\n)Particle\\n'\n",
      "\n",
      "    stringlist.append(line1)\n",
      "\n",
      "    for attributes in log:\n",
      "        stringlist.append('\\n'+ attributes)\n",
      "    \n",
      "    stringlist.append(line2)\n",
      "\n",
      "    for i in xrange(0,p-1):\n",
      "        aline = \"  m  =  {m}\\n  r  =  {r}\\n  v  =  {v}\\n\".format(**parts[i])\n",
      "        stringlist.append('\\n'+aline+line3)\n",
      "\n",
      "    bline = \"  m  =  {m}\\n  r  =  {r}\\n  v  =  {v}\\n\".format(**parts[p-1])\n",
      "    stringlist.append('\\n'+bline+line4)\n",
      "\n",
      "\n",
      "    newout = ', '.join(map(str, stringlist))\n",
      "    newout = newout.replace(', \\n', '\\n')\n",
      "    return newout"
     ],
     "language": "python",
     "metadata": {},
     "outputs": []
    },
    {
     "cell_type": "code",
     "collapsed": false,
     "input": [
      "run_ensemble(rc, nstars=30, nruns=5, kingmodel=True, masstype=2, exponent=-1, binarypercent=.1, binarypoplower = 1.0, binarypopupper = 10)"
     ],
     "language": "python",
     "metadata": {},
     "outputs": []
    },
    {
     "cell_type": "code",
     "collapsed": false,
     "input": [],
     "language": "python",
     "metadata": {},
     "outputs": []
    },
    {
     "cell_type": "code",
     "collapsed": false,
     "input": [],
     "language": "python",
     "metadata": {},
     "outputs": []
    },
    {
     "cell_type": "code",
     "collapsed": false,
     "input": [],
     "language": "python",
     "metadata": {},
     "outputs": []
    },
    {
     "cell_type": "code",
     "collapsed": false,
     "input": [],
     "language": "python",
     "metadata": {},
     "outputs": []
    },
    {
     "cell_type": "code",
     "collapsed": false,
     "input": [],
     "language": "python",
     "metadata": {},
     "outputs": []
    },
    {
     "cell_type": "code",
     "collapsed": false,
     "input": [],
     "language": "python",
     "metadata": {},
     "outputs": []
    },
    {
     "cell_type": "code",
     "collapsed": false,
     "input": [],
     "language": "python",
     "metadata": {},
     "outputs": []
    },
    {
     "cell_type": "code",
     "collapsed": false,
     "input": [],
     "language": "python",
     "metadata": {},
     "outputs": []
    },
    {
     "cell_type": "code",
     "collapsed": false,
     "input": [],
     "language": "python",
     "metadata": {},
     "outputs": []
    }
   ],
   "metadata": {}
  }
 ]
}