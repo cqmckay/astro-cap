



<!DOCTYPE html>
<html lang="en" class="">
  <head prefix="og: http://ogp.me/ns# fb: http://ogp.me/ns/fb# object: http://ogp.me/ns/object# article: http://ogp.me/ns/article# profile: http://ogp.me/ns/profile#">
    <meta charset='utf-8'>
    <meta http-equiv="X-UA-Compatible" content="IE=edge">
    <meta http-equiv="Content-Language" content="en">
    
    
    <title>astro-cap/Ensemble Generation.ipynb at master · nickmillr/astro-cap · GitHub</title>
    <link rel="search" type="application/opensearchdescription+xml" href="/opensearch.xml" title="GitHub">
    <link rel="fluid-icon" href="https://github.com/fluidicon.png" title="GitHub">
    <link rel="apple-touch-icon" sizes="57x57" href="/apple-touch-icon-114.png">
    <link rel="apple-touch-icon" sizes="114x114" href="/apple-touch-icon-114.png">
    <link rel="apple-touch-icon" sizes="72x72" href="/apple-touch-icon-144.png">
    <link rel="apple-touch-icon" sizes="144x144" href="/apple-touch-icon-144.png">
    <meta property="fb:app_id" content="1401488693436528">

      <meta content="@github" name="twitter:site" /><meta content="summary" name="twitter:card" /><meta content="nickmillr/astro-cap" name="twitter:title" /><meta content="Contribute to astro-cap development by creating an account on GitHub." name="twitter:description" /><meta content="https://avatars1.githubusercontent.com/u/8726934?v=2&amp;s=400" name="twitter:image:src" />
<meta content="GitHub" property="og:site_name" /><meta content="object" property="og:type" /><meta content="https://avatars1.githubusercontent.com/u/8726934?v=2&amp;s=400" property="og:image" /><meta content="nickmillr/astro-cap" property="og:title" /><meta content="https://github.com/nickmillr/astro-cap" property="og:url" /><meta content="Contribute to astro-cap development by creating an account on GitHub." property="og:description" />

      <meta name="browser-stats-url" content="/_stats">
    <link rel="assets" href="https://assets-cdn.github.com/">
    <link rel="conduit-xhr" href="https://ghconduit.com:25035">
    
    <meta name="pjax-timeout" content="1000">

    <meta name="msapplication-TileImage" content="/windows-tile.png">
    <meta name="msapplication-TileColor" content="#ffffff">
    <meta name="selected-link" value="repo_source" data-pjax-transient>
      <meta name="google-analytics" content="UA-3769691-2">

    <meta content="collector.githubapp.com" name="octolytics-host" /><meta content="collector-cdn.github.com" name="octolytics-script-host" /><meta content="github" name="octolytics-app-id" /><meta content="CD859003:292C:F912D0:54400E6E" name="octolytics-dimension-request_id" />
    
    <meta content="Rails, view, blob#show" name="analytics-event" />

    
    
    <link rel="icon" type="image/x-icon" href="https://assets-cdn.github.com/favicon.ico">


    <meta content="authenticity_token" name="csrf-param" />
<meta content="IrtCQzLnIbLLif7mjHP/bDPMDhfQdhZEZYVHjaBzlJROS57hJ/MpXr9rKElCFm4CcZVY3wqHnCQRSTm1Uvu9YQ==" name="csrf-token" />

    <link href="https://assets-cdn.github.com/assets/github-70d73ee874849f7ef47d397ee1ba2e462a8e8ad53be6d7c38ef36b6d361624f8.css" media="all" rel="stylesheet" type="text/css" />
    <link href="https://assets-cdn.github.com/assets/github2-3ebba0b471930aee0bd8edd79574cf4d4d54837219d7cb90258c16c42520b31b.css" media="all" rel="stylesheet" type="text/css" />
    
    


    <meta http-equiv="x-pjax-version" content="af6e2c4abb5d57e40612d5354683d8c6">

      
  <meta name="description" content="Contribute to astro-cap development by creating an account on GitHub.">
  <meta name="go-import" content="github.com/nickmillr/astro-cap git https://github.com/nickmillr/astro-cap.git">

  <meta content="8726934" name="octolytics-dimension-user_id" /><meta content="nickmillr" name="octolytics-dimension-user_login" /><meta content="24695656" name="octolytics-dimension-repository_id" /><meta content="nickmillr/astro-cap" name="octolytics-dimension-repository_nwo" /><meta content="true" name="octolytics-dimension-repository_public" /><meta content="false" name="octolytics-dimension-repository_is_fork" /><meta content="24695656" name="octolytics-dimension-repository_network_root_id" /><meta content="nickmillr/astro-cap" name="octolytics-dimension-repository_network_root_nwo" />
  <link href="https://github.com/nickmillr/astro-cap/commits/master.atom" rel="alternate" title="Recent Commits to astro-cap:master" type="application/atom+xml">

  </head>


  <body class="logged_out  env-production  vis-public page-blob">
    <a href="#start-of-content" tabindex="1" class="accessibility-aid js-skip-to-content">Skip to content</a>
    <div class="wrapper">
      
      
      
      


      
      <div class="header header-logged-out" role="banner">
  <div class="container clearfix">

    <a class="header-logo-wordmark" href="https://github.com/" ga-data-click="(Logged out) Header, go to homepage, icon:logo-wordmark">
      <span class="mega-octicon octicon-logo-github"></span>
    </a>

    <div class="header-actions" role="navigation">
        <a class="button primary" href="/join" data-ga-click="(Logged out) Header, clicked Sign up, text:sign-up">Sign up</a>
      <a class="button signin" href="/login?return_to=%2Fnickmillr%2Fastro-cap%2Fblob%2Fmaster%2FEnsemble%2520Generation.ipynb" data-ga-click="(Logged out) Header, clicked Sign in, text:sign-in">Sign in</a>
    </div>

    <div class="site-search repo-scope js-site-search" role="search">
      <form accept-charset="UTF-8" action="/nickmillr/astro-cap/search" class="js-site-search-form" data-global-search-url="/search" data-repo-search-url="/nickmillr/astro-cap/search" method="get"><div style="margin:0;padding:0;display:inline"><input name="utf8" type="hidden" value="&#x2713;" /></div>
  <input type="text"
    class="js-site-search-field is-clearable"
    data-hotkey="s"
    name="q"
    placeholder="Search"
    data-global-scope-placeholder="Search GitHub"
    data-repo-scope-placeholder="Search"
    tabindex="1"
    autocapitalize="off">
  <div class="scope-badge">This repository</div>
</form>
    </div>

      <ul class="header-nav left" role="navigation">
          <li class="header-nav-item">
            <a class="header-nav-link" href="/explore" data-ga-click="(Logged out) Header, go to explore, text:explore">Explore</a>
          </li>
          <li class="header-nav-item">
            <a class="header-nav-link" href="/features" data-ga-click="(Logged out) Header, go to features, text:features">Features</a>
          </li>
          <li class="header-nav-item">
            <a class="header-nav-link" href="https://enterprise.github.com/" data-ga-click="(Logged out) Header, go to enterprise, text:enterprise">Enterprise</a>
          </li>
          <li class="header-nav-item">
            <a class="header-nav-link" href="/blog" data-ga-click="(Logged out) Header, go to blog, text:blog">Blog</a>
          </li>
      </ul>

  </div>
</div>



      <div id="start-of-content" class="accessibility-aid"></div>
          <div class="site" itemscope itemtype="http://schema.org/WebPage">
    <div id="js-flash-container">
      
    </div>
    <div class="pagehead repohead instapaper_ignore readability-menu">
      <div class="container">
        
<ul class="pagehead-actions">


  <li>
      <a href="/login?return_to=%2Fnickmillr%2Fastro-cap"
    class="minibutton with-count star-button tooltipped tooltipped-n"
    aria-label="You must be signed in to star a repository" rel="nofollow">
    <span class="octicon octicon-star"></span>
    Star
  </a>

    <a class="social-count js-social-count" href="/nickmillr/astro-cap/stargazers">
      0
    </a>

  </li>

    <li>
      <a href="/login?return_to=%2Fnickmillr%2Fastro-cap"
        class="minibutton with-count js-toggler-target fork-button tooltipped tooltipped-n"
        aria-label="You must be signed in to fork a repository" rel="nofollow">
        <span class="octicon octicon-repo-forked"></span>
        Fork
      </a>
      <a href="/nickmillr/astro-cap/network" class="social-count">
        1
      </a>
    </li>
</ul>

        <h1 itemscope itemtype="http://data-vocabulary.org/Breadcrumb" class="entry-title public">
          <span class="mega-octicon octicon-repo"></span>
          <span class="author"><a href="/nickmillr" class="url fn" itemprop="url" rel="author"><span itemprop="title">nickmillr</span></a></span><!--
       --><span class="path-divider">/</span><!--
       --><strong><a href="/nickmillr/astro-cap" class="js-current-repository js-repo-home-link">astro-cap</a></strong>

          <span class="page-context-loader">
            <img alt="" height="16" src="https://assets-cdn.github.com/images/spinners/octocat-spinner-32.gif" width="16" />
          </span>

        </h1>
      </div><!-- /.container -->
    </div><!-- /.repohead -->

    <div class="container">
      <div class="repository-with-sidebar repo-container new-discussion-timeline  ">
        <div class="repository-sidebar clearfix">
            
<div class="sunken-menu vertical-right repo-nav js-repo-nav js-sidenav-container-pjax js-octicon-loaders" role="navigation" data-issue-count-url="/nickmillr/astro-cap/issues/counts" data-pjax-container-selector="#js-repo-pjax-container">
  <div class="sunken-menu-contents">
    <ul class="sunken-menu-group">
      <li class="tooltipped tooltipped-w" aria-label="Code">
        <a href="/nickmillr/astro-cap" aria-label="Code" class="selected js-selected-navigation-item sunken-menu-item" data-hotkey="g c" data-pjax="true" data-selected-links="repo_source repo_downloads repo_commits repo_releases repo_tags repo_branches /nickmillr/astro-cap">
          <span class="octicon octicon-code"></span> <span class="full-word">Code</span>
          <img alt="" class="mini-loader" height="16" src="https://assets-cdn.github.com/images/spinners/octocat-spinner-32.gif" width="16" />
</a>      </li>

        <li class="tooltipped tooltipped-w" aria-label="Issues">
          <a href="/nickmillr/astro-cap/issues" aria-label="Issues" class="js-selected-navigation-item sunken-menu-item js-disable-pjax" data-hotkey="g i" data-selected-links="repo_issues repo_labels repo_milestones /nickmillr/astro-cap/issues">
            <span class="octicon octicon-issue-opened"></span> <span class="full-word">Issues</span>
            <span class="js-issue-replace-counter"></span>
            <img alt="" class="mini-loader" height="16" src="https://assets-cdn.github.com/images/spinners/octocat-spinner-32.gif" width="16" />
</a>        </li>

      <li class="tooltipped tooltipped-w" aria-label="Pull Requests">
        <a href="/nickmillr/astro-cap/pulls" aria-label="Pull Requests" class="js-selected-navigation-item sunken-menu-item js-disable-pjax" data-hotkey="g p" data-selected-links="repo_pulls /nickmillr/astro-cap/pulls">
            <span class="octicon octicon-git-pull-request"></span> <span class="full-word">Pull Requests</span>
            <span class="js-pull-replace-counter"></span>
            <img alt="" class="mini-loader" height="16" src="https://assets-cdn.github.com/images/spinners/octocat-spinner-32.gif" width="16" />
</a>      </li>


    </ul>
    <div class="sunken-menu-separator"></div>
    <ul class="sunken-menu-group">

      <li class="tooltipped tooltipped-w" aria-label="Pulse">
        <a href="/nickmillr/astro-cap/pulse/weekly" aria-label="Pulse" class="js-selected-navigation-item sunken-menu-item" data-pjax="true" data-selected-links="pulse /nickmillr/astro-cap/pulse/weekly">
          <span class="octicon octicon-pulse"></span> <span class="full-word">Pulse</span>
          <img alt="" class="mini-loader" height="16" src="https://assets-cdn.github.com/images/spinners/octocat-spinner-32.gif" width="16" />
</a>      </li>

      <li class="tooltipped tooltipped-w" aria-label="Graphs">
        <a href="/nickmillr/astro-cap/graphs" aria-label="Graphs" class="js-selected-navigation-item sunken-menu-item" data-pjax="true" data-selected-links="repo_graphs repo_contributors /nickmillr/astro-cap/graphs">
          <span class="octicon octicon-graph"></span> <span class="full-word">Graphs</span>
          <img alt="" class="mini-loader" height="16" src="https://assets-cdn.github.com/images/spinners/octocat-spinner-32.gif" width="16" />
</a>      </li>
    </ul>


  </div>
</div>

              <div class="only-with-full-nav">
                
  
<div class="clone-url open"
  data-protocol-type="http"
  data-url="/users/set_protocol?protocol_selector=http&amp;protocol_type=clone">
  <h3><span class="text-emphasized">HTTPS</span> clone URL</h3>
  <div class="input-group">
    <input type="text" class="input-mini input-monospace js-url-field"
           value="https://github.com/nickmillr/astro-cap.git" readonly="readonly">
    <span class="input-group-button">
      <button aria-label="Copy to clipboard" class="js-zeroclipboard minibutton zeroclipboard-button" data-clipboard-text="https://github.com/nickmillr/astro-cap.git" data-copied-hint="Copied!" type="button"><span class="octicon octicon-clippy"></span></button>
    </span>
  </div>
</div>

  
<div class="clone-url "
  data-protocol-type="subversion"
  data-url="/users/set_protocol?protocol_selector=subversion&amp;protocol_type=clone">
  <h3><span class="text-emphasized">Subversion</span> checkout URL</h3>
  <div class="input-group">
    <input type="text" class="input-mini input-monospace js-url-field"
           value="https://github.com/nickmillr/astro-cap" readonly="readonly">
    <span class="input-group-button">
      <button aria-label="Copy to clipboard" class="js-zeroclipboard minibutton zeroclipboard-button" data-clipboard-text="https://github.com/nickmillr/astro-cap" data-copied-hint="Copied!" type="button"><span class="octicon octicon-clippy"></span></button>
    </span>
  </div>
</div>


<p class="clone-options">You can clone with
      <a href="#" class="js-clone-selector" data-protocol="http">HTTPS</a>
      or <a href="#" class="js-clone-selector" data-protocol="subversion">Subversion</a>.
  <a href="https://help.github.com/articles/which-remote-url-should-i-use" class="help tooltipped tooltipped-n" aria-label="Get help on which URL is right for you.">
    <span class="octicon octicon-question"></span>
  </a>
</p>



                <a href="/nickmillr/astro-cap/archive/master.zip"
                   class="minibutton sidebar-button"
                   aria-label="Download the contents of nickmillr/astro-cap as a zip file"
                   title="Download the contents of nickmillr/astro-cap as a zip file"
                   rel="nofollow">
                  <span class="octicon octicon-cloud-download"></span>
                  Download ZIP
                </a>
              </div>
        </div><!-- /.repository-sidebar -->

        <div id="js-repo-pjax-container" class="repository-content context-loader-container" data-pjax-container>
          

<a href="/nickmillr/astro-cap/blob/f0990f2ebd6a41738eac77d2754c2b46a5849345/Ensemble%20Generation.ipynb" class="hidden js-permalink-shortcut" data-hotkey="y">Permalink</a>

<!-- blob contrib key: blob_contributors:v21:c366528b01e096a51c68fe555cef28e4 -->

<div class="file-navigation">
  
<div class="select-menu js-menu-container js-select-menu left">
  <span class="minibutton select-menu-button js-menu-target css-truncate" data-hotkey="w"
    data-master-branch="master"
    data-ref="master"
    title="master"
    role="button" aria-label="Switch branches or tags" tabindex="0" aria-haspopup="true">
    <span class="octicon octicon-git-branch"></span>
    <i>branch:</i>
    <span class="js-select-button css-truncate-target">master</span>
  </span>

  <div class="select-menu-modal-holder js-menu-content js-navigation-container" data-pjax aria-hidden="true">

    <div class="select-menu-modal">
      <div class="select-menu-header">
        <span class="select-menu-title">Switch branches/tags</span>
        <span class="octicon octicon-x js-menu-close" role="button" aria-label="Close"></span>
      </div> <!-- /.select-menu-header -->

      <div class="select-menu-filters">
        <div class="select-menu-text-filter">
          <input type="text" aria-label="Filter branches/tags" id="context-commitish-filter-field" class="js-filterable-field js-navigation-enable" placeholder="Filter branches/tags">
        </div>
        <div class="select-menu-tabs">
          <ul>
            <li class="select-menu-tab">
              <a href="#" data-tab-filter="branches" class="js-select-menu-tab">Branches</a>
            </li>
            <li class="select-menu-tab">
              <a href="#" data-tab-filter="tags" class="js-select-menu-tab">Tags</a>
            </li>
          </ul>
        </div><!-- /.select-menu-tabs -->
      </div><!-- /.select-menu-filters -->

      <div class="select-menu-list select-menu-tab-bucket js-select-menu-tab-bucket" data-tab-filter="branches">

        <div data-filterable-for="context-commitish-filter-field" data-filterable-type="substring">


            <div class="select-menu-item js-navigation-item selected">
              <span class="select-menu-item-icon octicon octicon-check"></span>
              <a href="/nickmillr/astro-cap/blob/master/Ensemble%20Generation.ipynb"
                 data-name="master"
                 data-skip-pjax="true"
                 rel="nofollow"
                 class="js-navigation-open select-menu-item-text css-truncate-target"
                 title="master">master</a>
            </div> <!-- /.select-menu-item -->
        </div>

          <div class="select-menu-no-results">Nothing to show</div>
      </div> <!-- /.select-menu-list -->

      <div class="select-menu-list select-menu-tab-bucket js-select-menu-tab-bucket" data-tab-filter="tags">
        <div data-filterable-for="context-commitish-filter-field" data-filterable-type="substring">


        </div>

        <div class="select-menu-no-results">Nothing to show</div>
      </div> <!-- /.select-menu-list -->

    </div> <!-- /.select-menu-modal -->
  </div> <!-- /.select-menu-modal-holder -->
</div> <!-- /.select-menu -->

  <div class="button-group right">
    <a href="/nickmillr/astro-cap/find/master"
          class="js-show-file-finder minibutton empty-icon tooltipped tooltipped-s"
          data-pjax
          data-hotkey="t"
          aria-label="Quickly jump between files">
      <span class="octicon octicon-list-unordered"></span>
    </a>
    <button class="js-zeroclipboard minibutton zeroclipboard-button"
          data-clipboard-text="Ensemble Generation.ipynb"
          aria-label="Copy to clipboard"
          data-copied-hint="Copied!">
      <span class="octicon octicon-clippy"></span>
    </button>
  </div>

  <div class="breadcrumb">
    <span class='repo-root js-repo-root'><span itemscope="" itemtype="http://data-vocabulary.org/Breadcrumb"><a href="/nickmillr/astro-cap" class="" data-branch="master" data-direction="back" data-pjax="true" itemscope="url"><span itemprop="title">astro-cap</span></a></span></span><span class="separator"> / </span><strong class="final-path">Ensemble Generation.ipynb</strong>
  </div>
</div>


  <div class="commit commit-loader file-history-tease js-deferred-content" data-url="/nickmillr/astro-cap/contributors/master/Ensemble%20Generation.ipynb">
    <div class="file-history-tease-header">
      Fetching contributors&hellip;
    </div>

    <div class="participation">
      <p class="loader-loading"><img alt="" height="16" src="https://assets-cdn.github.com/images/spinners/octocat-spinner-32-EAF2F5.gif" width="16" /></p>
      <p class="loader-error">Cannot retrieve contributors at this time</p>
    </div>
  </div>

<div class="file-box">
  <div class="file">
    <div class="meta clearfix">
      <div class="info file-name">
          <span>1148 lines (1148 sloc)</span>
          <span class="meta-divider"></span>
        <span>112.546 kb</span>
      </div>
      <div class="actions">
        <div class="button-group">
          <a href="/nickmillr/astro-cap/raw/master/Ensemble%20Generation.ipynb" class="minibutton " id="raw-url">Raw</a>
            <a href="/nickmillr/astro-cap/blame/master/Ensemble%20Generation.ipynb" class="minibutton js-update-url-with-hash">Blame</a>
          <a href="/nickmillr/astro-cap/commits/master/Ensemble%20Generation.ipynb" class="minibutton " rel="nofollow">History</a>
        </div><!-- /.button-group -->


            <a class="octicon-button disabled tooltipped tooltipped-w" href="#"
               aria-label="You must be signed in to make or propose changes"><span class="octicon octicon-pencil"></span></a>

          <a class="octicon-button danger disabled tooltipped tooltipped-w" href="#"
             aria-label="You must be signed in to make or propose changes">
          <span class="octicon octicon-trashcan"></span>
        </a>
      </div><!-- /.actions -->
    </div>
    
  <div class="blob-wrapper data type-text">
      <table class="highlight tab-size-8 js-file-line-container">
      <tr>
        <td id="L1" class="blob-num js-line-number" data-line-number="1"></td>
        <td id="LC1" class="blob-code js-file-line">{</td>
      </tr>
      <tr>
        <td id="L2" class="blob-num js-line-number" data-line-number="2"></td>
        <td id="LC2" class="blob-code js-file-line"> &quot;metadata&quot;: {</td>
      </tr>
      <tr>
        <td id="L3" class="blob-num js-line-number" data-line-number="3"></td>
        <td id="LC3" class="blob-code js-file-line">  &quot;name&quot;: &quot;&quot;</td>
      </tr>
      <tr>
        <td id="L4" class="blob-num js-line-number" data-line-number="4"></td>
        <td id="LC4" class="blob-code js-file-line"> },</td>
      </tr>
      <tr>
        <td id="L5" class="blob-num js-line-number" data-line-number="5"></td>
        <td id="LC5" class="blob-code js-file-line"> &quot;nbformat&quot;: 3,</td>
      </tr>
      <tr>
        <td id="L6" class="blob-num js-line-number" data-line-number="6"></td>
        <td id="LC6" class="blob-code js-file-line"> &quot;nbformat_minor&quot;: 0,</td>
      </tr>
      <tr>
        <td id="L7" class="blob-num js-line-number" data-line-number="7"></td>
        <td id="LC7" class="blob-code js-file-line"> &quot;worksheets&quot;: [</td>
      </tr>
      <tr>
        <td id="L8" class="blob-num js-line-number" data-line-number="8"></td>
        <td id="LC8" class="blob-code js-file-line">  {</td>
      </tr>
      <tr>
        <td id="L9" class="blob-num js-line-number" data-line-number="9"></td>
        <td id="LC9" class="blob-code js-file-line">   &quot;cells&quot;: [</td>
      </tr>
      <tr>
        <td id="L10" class="blob-num js-line-number" data-line-number="10"></td>
        <td id="LC10" class="blob-code js-file-line">    {</td>
      </tr>
      <tr>
        <td id="L11" class="blob-num js-line-number" data-line-number="11"></td>
        <td id="LC11" class="blob-code js-file-line">     &quot;cell_type&quot;: &quot;code&quot;,</td>
      </tr>
      <tr>
        <td id="L12" class="blob-num js-line-number" data-line-number="12"></td>
        <td id="LC12" class="blob-code js-file-line">     &quot;collapsed&quot;: false,</td>
      </tr>
      <tr>
        <td id="L13" class="blob-num js-line-number" data-line-number="13"></td>
        <td id="LC13" class="blob-code js-file-line">     &quot;input&quot;: [</td>
      </tr>
      <tr>
        <td id="L14" class="blob-num js-line-number" data-line-number="14"></td>
        <td id="LC14" class="blob-code js-file-line">      &quot;%pylab inline\n&quot;,</td>
      </tr>
      <tr>
        <td id="L15" class="blob-num js-line-number" data-line-number="15"></td>
        <td id="LC15" class="blob-code js-file-line">      &quot;import uuid\n&quot;,</td>
      </tr>
      <tr>
        <td id="L16" class="blob-num js-line-number" data-line-number="16"></td>
        <td id="LC16" class="blob-code js-file-line">      &quot;import pickle\n&quot;,</td>
      </tr>
      <tr>
        <td id="L17" class="blob-num js-line-number" data-line-number="17"></td>
        <td id="LC17" class="blob-code js-file-line">      &quot;import datetime\n&quot;,</td>
      </tr>
      <tr>
        <td id="L18" class="blob-num js-line-number" data-line-number="18"></td>
        <td id="LC18" class="blob-code js-file-line">      &quot;\n&quot;,</td>
      </tr>
      <tr>
        <td id="L19" class="blob-num js-line-number" data-line-number="19"></td>
        <td id="LC19" class="blob-code js-file-line">      &quot;import starlibrary\n&quot;,</td>
      </tr>
      <tr>
        <td id="L20" class="blob-num js-line-number" data-line-number="20"></td>
        <td id="LC20" class="blob-code js-file-line">      &quot;from IPython.parallel import Client\n&quot;,</td>
      </tr>
      <tr>
        <td id="L21" class="blob-num js-line-number" data-line-number="21"></td>
        <td id="LC21" class="blob-code js-file-line">      &quot;rc = Client(profile=\&quot;Miller\&quot;)\n&quot;,</td>
      </tr>
      <tr>
        <td id="L22" class="blob-num js-line-number" data-line-number="22"></td>
        <td id="LC22" class="blob-code js-file-line">      &quot;len(rc.ids)&quot;</td>
      </tr>
      <tr>
        <td id="L23" class="blob-num js-line-number" data-line-number="23"></td>
        <td id="LC23" class="blob-code js-file-line">     ],</td>
      </tr>
      <tr>
        <td id="L24" class="blob-num js-line-number" data-line-number="24"></td>
        <td id="LC24" class="blob-code js-file-line">     &quot;language&quot;: &quot;python&quot;,</td>
      </tr>
      <tr>
        <td id="L25" class="blob-num js-line-number" data-line-number="25"></td>
        <td id="LC25" class="blob-code js-file-line">     &quot;metadata&quot;: {},</td>
      </tr>
      <tr>
        <td id="L26" class="blob-num js-line-number" data-line-number="26"></td>
        <td id="LC26" class="blob-code js-file-line">     &quot;outputs&quot;: [</td>
      </tr>
      <tr>
        <td id="L27" class="blob-num js-line-number" data-line-number="27"></td>
        <td id="LC27" class="blob-code js-file-line">      {</td>
      </tr>
      <tr>
        <td id="L28" class="blob-num js-line-number" data-line-number="28"></td>
        <td id="LC28" class="blob-code js-file-line">       &quot;output_type&quot;: &quot;stream&quot;,</td>
      </tr>
      <tr>
        <td id="L29" class="blob-num js-line-number" data-line-number="29"></td>
        <td id="LC29" class="blob-code js-file-line">       &quot;stream&quot;: &quot;stdout&quot;,</td>
      </tr>
      <tr>
        <td id="L30" class="blob-num js-line-number" data-line-number="30"></td>
        <td id="LC30" class="blob-code js-file-line">       &quot;text&quot;: [</td>
      </tr>
      <tr>
        <td id="L31" class="blob-num js-line-number" data-line-number="31"></td>
        <td id="LC31" class="blob-code js-file-line">        &quot;Populating the interactive namespace from numpy and matplotlib\n&quot;</td>
      </tr>
      <tr>
        <td id="L32" class="blob-num js-line-number" data-line-number="32"></td>
        <td id="LC32" class="blob-code js-file-line">       ]</td>
      </tr>
      <tr>
        <td id="L33" class="blob-num js-line-number" data-line-number="33"></td>
        <td id="LC33" class="blob-code js-file-line">      },</td>
      </tr>
      <tr>
        <td id="L34" class="blob-num js-line-number" data-line-number="34"></td>
        <td id="LC34" class="blob-code js-file-line">      {</td>
      </tr>
      <tr>
        <td id="L35" class="blob-num js-line-number" data-line-number="35"></td>
        <td id="LC35" class="blob-code js-file-line">       &quot;metadata&quot;: {},</td>
      </tr>
      <tr>
        <td id="L36" class="blob-num js-line-number" data-line-number="36"></td>
        <td id="LC36" class="blob-code js-file-line">       &quot;output_type&quot;: &quot;pyout&quot;,</td>
      </tr>
      <tr>
        <td id="L37" class="blob-num js-line-number" data-line-number="37"></td>
        <td id="LC37" class="blob-code js-file-line">       &quot;prompt_number&quot;: 6,</td>
      </tr>
      <tr>
        <td id="L38" class="blob-num js-line-number" data-line-number="38"></td>
        <td id="LC38" class="blob-code js-file-line">       &quot;text&quot;: [</td>
      </tr>
      <tr>
        <td id="L39" class="blob-num js-line-number" data-line-number="39"></td>
        <td id="LC39" class="blob-code js-file-line">        &quot;0&quot;</td>
      </tr>
      <tr>
        <td id="L40" class="blob-num js-line-number" data-line-number="40"></td>
        <td id="LC40" class="blob-code js-file-line">       ]</td>
      </tr>
      <tr>
        <td id="L41" class="blob-num js-line-number" data-line-number="41"></td>
        <td id="LC41" class="blob-code js-file-line">      }</td>
      </tr>
      <tr>
        <td id="L42" class="blob-num js-line-number" data-line-number="42"></td>
        <td id="LC42" class="blob-code js-file-line">     ],</td>
      </tr>
      <tr>
        <td id="L43" class="blob-num js-line-number" data-line-number="43"></td>
        <td id="LC43" class="blob-code js-file-line">     &quot;prompt_number&quot;: 6</td>
      </tr>
      <tr>
        <td id="L44" class="blob-num js-line-number" data-line-number="44"></td>
        <td id="LC44" class="blob-code js-file-line">    },</td>
      </tr>
      <tr>
        <td id="L45" class="blob-num js-line-number" data-line-number="45"></td>
        <td id="LC45" class="blob-code js-file-line">    {</td>
      </tr>
      <tr>
        <td id="L46" class="blob-num js-line-number" data-line-number="46"></td>
        <td id="LC46" class="blob-code js-file-line">     &quot;cell_type&quot;: &quot;code&quot;,</td>
      </tr>
      <tr>
        <td id="L47" class="blob-num js-line-number" data-line-number="47"></td>
        <td id="LC47" class="blob-code js-file-line">     &quot;collapsed&quot;: false,</td>
      </tr>
      <tr>
        <td id="L48" class="blob-num js-line-number" data-line-number="48"></td>
        <td id="LC48" class="blob-code js-file-line">     &quot;input&quot;: [</td>
      </tr>
      <tr>
        <td id="L49" class="blob-num js-line-number" data-line-number="49"></td>
        <td id="LC49" class="blob-code js-file-line">      &quot;lbv = rc.load_balanced_view()&quot;</td>
      </tr>
      <tr>
        <td id="L50" class="blob-num js-line-number" data-line-number="50"></td>
        <td id="LC50" class="blob-code js-file-line">     ],</td>
      </tr>
      <tr>
        <td id="L51" class="blob-num js-line-number" data-line-number="51"></td>
        <td id="LC51" class="blob-code js-file-line">     &quot;language&quot;: &quot;python&quot;,</td>
      </tr>
      <tr>
        <td id="L52" class="blob-num js-line-number" data-line-number="52"></td>
        <td id="LC52" class="blob-code js-file-line">     &quot;metadata&quot;: {},</td>
      </tr>
      <tr>
        <td id="L53" class="blob-num js-line-number" data-line-number="53"></td>
        <td id="LC53" class="blob-code js-file-line">     &quot;outputs&quot;: [],</td>
      </tr>
      <tr>
        <td id="L54" class="blob-num js-line-number" data-line-number="54"></td>
        <td id="LC54" class="blob-code js-file-line">     &quot;prompt_number&quot;: 9</td>
      </tr>
      <tr>
        <td id="L55" class="blob-num js-line-number" data-line-number="55"></td>
        <td id="LC55" class="blob-code js-file-line">    },</td>
      </tr>
      <tr>
        <td id="L56" class="blob-num js-line-number" data-line-number="56"></td>
        <td id="LC56" class="blob-code js-file-line">    {</td>
      </tr>
      <tr>
        <td id="L57" class="blob-num js-line-number" data-line-number="57"></td>
        <td id="LC57" class="blob-code js-file-line">     &quot;cell_type&quot;: &quot;code&quot;,</td>
      </tr>
      <tr>
        <td id="L58" class="blob-num js-line-number" data-line-number="58"></td>
        <td id="LC58" class="blob-code js-file-line">     &quot;collapsed&quot;: false,</td>
      </tr>
      <tr>
        <td id="L59" class="blob-num js-line-number" data-line-number="59"></td>
        <td id="LC59" class="blob-code js-file-line">     &quot;input&quot;: [</td>
      </tr>
      <tr>
        <td id="L60" class="blob-num js-line-number" data-line-number="60"></td>
        <td id="LC60" class="blob-code js-file-line">      &quot;def run_ensemble(rc=rc, nruns=10, nstars=100, kingmodel=True, **kwargs):\n&quot;,</td>
      </tr>
      <tr>
        <td id="L61" class="blob-num js-line-number" data-line-number="61"></td>
        <td id="LC61" class="blob-code js-file-line">      &quot;    starttime = datetime.datetime.now()\n&quot;,</td>
      </tr>
      <tr>
        <td id="L62" class="blob-num js-line-number" data-line-number="62"></td>
        <td id="LC62" class="blob-code js-file-line">      &quot;    print \&quot;Starting at \&quot;, starttime\n&quot;,</td>
      </tr>
      <tr>
        <td id="L63" class="blob-num js-line-number" data-line-number="63"></td>
        <td id="LC63" class="blob-code js-file-line">      &quot;    lbv = rc.load_balanced_view()\n&quot;,</td>
      </tr>
      <tr>
        <td id="L64" class="blob-num js-line-number" data-line-number="64"></td>
        <td id="LC64" class="blob-code js-file-line">      &quot;    runs = [starlibrary.Run(nstars=nstars, kingmodel=kingmodel, **kwargs)]*nruns\n&quot;,</td>
      </tr>
      <tr>
        <td id="L65" class="blob-num js-line-number" data-line-number="65"></td>
        <td id="LC65" class="blob-code js-file-line">      &quot;\n&quot;,</td>
      </tr>
      <tr>
        <td id="L66" class="blob-num js-line-number" data-line-number="66"></td>
        <td id="LC66" class="blob-code js-file-line">      &quot;    print \&quot;Launching %d runs\&quot; % nruns\n&quot;,</td>
      </tr>
      <tr>
        <td id="L67" class="blob-num js-line-number" data-line-number="67"></td>
        <td id="LC67" class="blob-code js-file-line">      &quot;    results = lbv.map(starlibrary.single_run, runs)\n&quot;,</td>
      </tr>
      <tr>
        <td id="L68" class="blob-num js-line-number" data-line-number="68"></td>
        <td id="LC68" class="blob-code js-file-line">      &quot;    results.wait()\n&quot;,</td>
      </tr>
      <tr>
        <td id="L69" class="blob-num js-line-number" data-line-number="69"></td>
        <td id="LC69" class="blob-code js-file-line">      &quot;    \n&quot;,</td>
      </tr>
      <tr>
        <td id="L70" class="blob-num js-line-number" data-line-number="70"></td>
        <td id="LC70" class="blob-code js-file-line">      &quot;    ensemble_uuid = uuid.uuid1()\n&quot;,</td>
      </tr>
      <tr>
        <td id="L71" class="blob-num js-line-number" data-line-number="71"></td>
        <td id="LC71" class="blob-code js-file-line">      &quot;    ensemble_results_file_name = str(ensemble_uuid)+\&quot;.ensemble\&quot;\n&quot;,</td>
      </tr>
      <tr>
        <td id="L72" class="blob-num js-line-number" data-line-number="72"></td>
        <td id="LC72" class="blob-code js-file-line">      &quot;    ensemble_results_file = open(ensemble_results_file_name, \&quot;wb\&quot;)\n&quot;,</td>
      </tr>
      <tr>
        <td id="L73" class="blob-num js-line-number" data-line-number="73"></td>
        <td id="LC73" class="blob-code js-file-line">      &quot;\n&quot;,</td>
      </tr>
      <tr>
        <td id="L74" class="blob-num js-line-number" data-line-number="74"></td>
        <td id="LC74" class="blob-code js-file-line">      &quot;    print \&quot;Storing results in %s\&quot; %ensemble_results_file_name\n&quot;,</td>
      </tr>
      <tr>
        <td id="L75" class="blob-num js-line-number" data-line-number="75"></td>
        <td id="LC75" class="blob-code js-file-line">      &quot;    resultlist = results[:]\n&quot;,</td>
      </tr>
      <tr>
        <td id="L76" class="blob-num js-line-number" data-line-number="76"></td>
        <td id="LC76" class="blob-code js-file-line">      &quot;    pickle.dump(resultlist, ensemble_results_file)\n&quot;,</td>
      </tr>
      <tr>
        <td id="L77" class="blob-num js-line-number" data-line-number="77"></td>
        <td id="LC77" class="blob-code js-file-line">      &quot;    \n&quot;,</td>
      </tr>
      <tr>
        <td id="L78" class="blob-num js-line-number" data-line-number="78"></td>
        <td id="LC78" class="blob-code js-file-line">      &quot;    endtime = datetime.datetime.now()\n&quot;,</td>
      </tr>
      <tr>
        <td id="L79" class="blob-num js-line-number" data-line-number="79"></td>
        <td id="LC79" class="blob-code js-file-line">      &quot;    print \&quot;Finished at \&quot;, endtime\n&quot;,</td>
      </tr>
      <tr>
        <td id="L80" class="blob-num js-line-number" data-line-number="80"></td>
        <td id="LC80" class="blob-code js-file-line">      &quot;    print \&quot;Elapsed time: \&quot;, endtime - starttime &quot;</td>
      </tr>
      <tr>
        <td id="L81" class="blob-num js-line-number" data-line-number="81"></td>
        <td id="LC81" class="blob-code js-file-line">     ],</td>
      </tr>
      <tr>
        <td id="L82" class="blob-num js-line-number" data-line-number="82"></td>
        <td id="LC82" class="blob-code js-file-line">     &quot;language&quot;: &quot;python&quot;,</td>
      </tr>
      <tr>
        <td id="L83" class="blob-num js-line-number" data-line-number="83"></td>
        <td id="LC83" class="blob-code js-file-line">     &quot;metadata&quot;: {},</td>
      </tr>
      <tr>
        <td id="L84" class="blob-num js-line-number" data-line-number="84"></td>
        <td id="LC84" class="blob-code js-file-line">     &quot;outputs&quot;: [],</td>
      </tr>
      <tr>
        <td id="L85" class="blob-num js-line-number" data-line-number="85"></td>
        <td id="LC85" class="blob-code js-file-line">     &quot;prompt_number&quot;: 10</td>
      </tr>
      <tr>
        <td id="L86" class="blob-num js-line-number" data-line-number="86"></td>
        <td id="LC86" class="blob-code js-file-line">    },</td>
      </tr>
      <tr>
        <td id="L87" class="blob-num js-line-number" data-line-number="87"></td>
        <td id="LC87" class="blob-code js-file-line">    {</td>
      </tr>
      <tr>
        <td id="L88" class="blob-num js-line-number" data-line-number="88"></td>
        <td id="LC88" class="blob-code js-file-line">     &quot;cell_type&quot;: &quot;markdown&quot;,</td>
      </tr>
      <tr>
        <td id="L89" class="blob-num js-line-number" data-line-number="89"></td>
        <td id="LC89" class="blob-code js-file-line">     &quot;metadata&quot;: {},</td>
      </tr>
      <tr>
        <td id="L90" class="blob-num js-line-number" data-line-number="90"></td>
        <td id="LC90" class="blob-code js-file-line">     &quot;source&quot;: [</td>
      </tr>
      <tr>
        <td id="L91" class="blob-num js-line-number" data-line-number="91"></td>
        <td id="LC91" class="blob-code js-file-line">      &quot;______________________________________________&quot;</td>
      </tr>
      <tr>
        <td id="L92" class="blob-num js-line-number" data-line-number="92"></td>
        <td id="LC92" class="blob-code js-file-line">     ]</td>
      </tr>
      <tr>
        <td id="L93" class="blob-num js-line-number" data-line-number="93"></td>
        <td id="LC93" class="blob-code js-file-line">    },</td>
      </tr>
      <tr>
        <td id="L94" class="blob-num js-line-number" data-line-number="94"></td>
        <td id="LC94" class="blob-code js-file-line">    {</td>
      </tr>
      <tr>
        <td id="L95" class="blob-num js-line-number" data-line-number="95"></td>
        <td id="LC95" class="blob-code js-file-line">     &quot;cell_type&quot;: &quot;heading&quot;,</td>
      </tr>
      <tr>
        <td id="L96" class="blob-num js-line-number" data-line-number="96"></td>
        <td id="LC96" class="blob-code js-file-line">     &quot;level&quot;: 4,</td>
      </tr>
      <tr>
        <td id="L97" class="blob-num js-line-number" data-line-number="97"></td>
        <td id="LC97" class="blob-code js-file-line">     &quot;metadata&quot;: {},</td>
      </tr>
      <tr>
        <td id="L98" class="blob-num js-line-number" data-line-number="98"></td>
        <td id="LC98" class="blob-code js-file-line">     &quot;source&quot;: [</td>
      </tr>
      <tr>
        <td id="L99" class="blob-num js-line-number" data-line-number="99"></td>
        <td id="LC99" class="blob-code js-file-line">      &quot;Generation 1 (10/13/14)&quot;</td>
      </tr>
      <tr>
        <td id="L100" class="blob-num js-line-number" data-line-number="100"></td>
        <td id="LC100" class="blob-code js-file-line">     ]</td>
      </tr>
      <tr>
        <td id="L101" class="blob-num js-line-number" data-line-number="101"></td>
        <td id="LC101" class="blob-code js-file-line">    },</td>
      </tr>
      <tr>
        <td id="L102" class="blob-num js-line-number" data-line-number="102"></td>
        <td id="LC102" class="blob-code js-file-line">    {</td>
      </tr>
      <tr>
        <td id="L103" class="blob-num js-line-number" data-line-number="103"></td>
        <td id="LC103" class="blob-code js-file-line">     &quot;cell_type&quot;: &quot;code&quot;,</td>
      </tr>
      <tr>
        <td id="L104" class="blob-num js-line-number" data-line-number="104"></td>
        <td id="LC104" class="blob-code js-file-line">     &quot;collapsed&quot;: false,</td>
      </tr>
      <tr>
        <td id="L105" class="blob-num js-line-number" data-line-number="105"></td>
        <td id="LC105" class="blob-code js-file-line">     &quot;input&quot;: [</td>
      </tr>
      <tr>
        <td id="L106" class="blob-num js-line-number" data-line-number="106"></td>
        <td id="LC106" class="blob-code js-file-line">      &quot;starlibrary.list_ensembles()&quot;</td>
      </tr>
      <tr>
        <td id="L107" class="blob-num js-line-number" data-line-number="107"></td>
        <td id="LC107" class="blob-code js-file-line">     ],</td>
      </tr>
      <tr>
        <td id="L108" class="blob-num js-line-number" data-line-number="108"></td>
        <td id="LC108" class="blob-code js-file-line">     &quot;language&quot;: &quot;python&quot;,</td>
      </tr>
      <tr>
        <td id="L109" class="blob-num js-line-number" data-line-number="109"></td>
        <td id="LC109" class="blob-code js-file-line">     &quot;metadata&quot;: {},</td>
      </tr>
      <tr>
        <td id="L110" class="blob-num js-line-number" data-line-number="110"></td>
        <td id="LC110" class="blob-code js-file-line">     &quot;outputs&quot;: [</td>
      </tr>
      <tr>
        <td id="L111" class="blob-num js-line-number" data-line-number="111"></td>
        <td id="LC111" class="blob-code js-file-line">      {</td>
      </tr>
      <tr>
        <td id="L112" class="blob-num js-line-number" data-line-number="112"></td>
        <td id="LC112" class="blob-code js-file-line">       &quot;output_type&quot;: &quot;stream&quot;,</td>
      </tr>
      <tr>
        <td id="L113" class="blob-num js-line-number" data-line-number="113"></td>
        <td id="LC113" class="blob-code js-file-line">       &quot;stream&quot;: &quot;stdout&quot;,</td>
      </tr>
      <tr>
        <td id="L114" class="blob-num js-line-number" data-line-number="114"></td>
        <td id="LC114" class="blob-code js-file-line">       &quot;text&quot;: [</td>
      </tr>
      <tr>
        <td id="L115" class="blob-num js-line-number" data-line-number="115"></td>
        <td id="LC115" class="blob-code js-file-line">        &quot;8 ensembles:\n&quot;,</td>
      </tr>
      <tr>
        <td id="L116" class="blob-num js-line-number" data-line-number="116"></td>
        <td id="LC116" class="blob-code js-file-line">        &quot;\n&quot;,</td>
      </tr>
      <tr>
        <td id="L117" class="blob-num js-line-number" data-line-number="117"></td>
        <td id="LC117" class="blob-code js-file-line">        &quot;./31e868b8-497c-11e4-89fc-90e2ba0993e2.ensemble -- King model; 5 runs 1000 stars \n&quot;,</td>
      </tr>
      <tr>
        <td id="L118" class="blob-num js-line-number" data-line-number="118"></td>
        <td id="LC118" class="blob-code js-file-line">        &quot;./5b37b454-49bc-11e4-a2d0-90e2ba0993e2.ensemble -- King model; 2 runs 20 stars \n&quot;,</td>
      </tr>
      <tr>
        <td id="L119" class="blob-num js-line-number" data-line-number="119"></td>
        <td id="LC119" class="blob-code js-file-line">        &quot;./3a2d362e-4996-11e4-8018-90e2ba0993e2.ensemble -- King model; 5 runs 10 stars \n&quot;,</td>
      </tr>
      <tr>
        <td id="L120" class="blob-num js-line-number" data-line-number="120"></td>
        <td id="LC120" class="blob-code js-file-line">        &quot;./7aa6a2b6-5338-11e4-8483-90e2ba0993e2.ensemble -- King model; 160 runs 2600 stars \n&quot;,</td>
      </tr>
      <tr>
        <td id="L121" class="blob-num js-line-number" data-line-number="121"></td>
        <td id="LC121" class="blob-code js-file-line">        &quot;./168a2528-48ac-11e4-9c1c-90e2ba0993e2.ensemble -- Plummer model; 10 runs 100 stars \n&quot;,</td>
      </tr>
      <tr>
        <td id="L122" class="blob-num js-line-number" data-line-number="122"></td>
        <td id="LC122" class="blob-code js-file-line">        &quot;./674341a8-4996-11e4-8018-90e2ba0993e2.ensemble -- King model; 80 runs 20 stars \n&quot;,</td>
      </tr>
      <tr>
        <td id="L123" class="blob-num js-line-number" data-line-number="123"></td>
        <td id="LC123" class="blob-code js-file-line">        &quot;./69aee354-4976-11e4-89fc-90e2ba0993e2.ensemble -- King model; 1 runs 10 stars \n&quot;,</td>
      </tr>
      <tr>
        <td id="L124" class="blob-num js-line-number" data-line-number="124"></td>
        <td id="LC124" class="blob-code js-file-line">        &quot;./bea6bf0e-53ac-11e4-8483-90e2ba0993e2.ensemble -- King model; 160 runs 2600 stars &quot;</td>
      </tr>
      <tr>
        <td id="L125" class="blob-num js-line-number" data-line-number="125"></td>
        <td id="LC125" class="blob-code js-file-line">       ]</td>
      </tr>
      <tr>
        <td id="L126" class="blob-num js-line-number" data-line-number="126"></td>
        <td id="LC126" class="blob-code js-file-line">      },</td>
      </tr>
      <tr>
        <td id="L127" class="blob-num js-line-number" data-line-number="127"></td>
        <td id="LC127" class="blob-code js-file-line">      {</td>
      </tr>
      <tr>
        <td id="L128" class="blob-num js-line-number" data-line-number="128"></td>
        <td id="LC128" class="blob-code js-file-line">       &quot;output_type&quot;: &quot;stream&quot;,</td>
      </tr>
      <tr>
        <td id="L129" class="blob-num js-line-number" data-line-number="129"></td>
        <td id="LC129" class="blob-code js-file-line">       &quot;stream&quot;: &quot;stdout&quot;,</td>
      </tr>
      <tr>
        <td id="L130" class="blob-num js-line-number" data-line-number="130"></td>
        <td id="LC130" class="blob-code js-file-line">       &quot;text&quot;: [</td>
      </tr>
      <tr>
        <td id="L131" class="blob-num js-line-number" data-line-number="131"></td>
        <td id="LC131" class="blob-code js-file-line">        &quot;\n&quot;</td>
      </tr>
      <tr>
        <td id="L132" class="blob-num js-line-number" data-line-number="132"></td>
        <td id="LC132" class="blob-code js-file-line">       ]</td>
      </tr>
      <tr>
        <td id="L133" class="blob-num js-line-number" data-line-number="133"></td>
        <td id="LC133" class="blob-code js-file-line">      }</td>
      </tr>
      <tr>
        <td id="L134" class="blob-num js-line-number" data-line-number="134"></td>
        <td id="LC134" class="blob-code js-file-line">     ],</td>
      </tr>
      <tr>
        <td id="L135" class="blob-num js-line-number" data-line-number="135"></td>
        <td id="LC135" class="blob-code js-file-line">     &quot;prompt_number&quot;: 11</td>
      </tr>
      <tr>
        <td id="L136" class="blob-num js-line-number" data-line-number="136"></td>
        <td id="LC136" class="blob-code js-file-line">    },</td>
      </tr>
      <tr>
        <td id="L137" class="blob-num js-line-number" data-line-number="137"></td>
        <td id="LC137" class="blob-code js-file-line">    {</td>
      </tr>
      <tr>
        <td id="L138" class="blob-num js-line-number" data-line-number="138"></td>
        <td id="LC138" class="blob-code js-file-line">     &quot;cell_type&quot;: &quot;markdown&quot;,</td>
      </tr>
      <tr>
        <td id="L139" class="blob-num js-line-number" data-line-number="139"></td>
        <td id="LC139" class="blob-code js-file-line">     &quot;metadata&quot;: {},</td>
      </tr>
      <tr>
        <td id="L140" class="blob-num js-line-number" data-line-number="140"></td>
        <td id="LC140" class="blob-code js-file-line">     &quot;source&quot;: [</td>
      </tr>
      <tr>
        <td id="L141" class="blob-num js-line-number" data-line-number="141"></td>
        <td id="LC141" class="blob-code js-file-line">      &quot;The Cluster below should be a 2600 star cluster run 160 times, using mass type 2, meaning millerscalo with $ \\alpha = 0 $. We have a 10 percent 1-10 kT binary population we plan to use for each cluster.&quot;</td>
      </tr>
      <tr>
        <td id="L142" class="blob-num js-line-number" data-line-number="142"></td>
        <td id="LC142" class="blob-code js-file-line">     ]</td>
      </tr>
      <tr>
        <td id="L143" class="blob-num js-line-number" data-line-number="143"></td>
        <td id="LC143" class="blob-code js-file-line">    },</td>
      </tr>
      <tr>
        <td id="L144" class="blob-num js-line-number" data-line-number="144"></td>
        <td id="LC144" class="blob-code js-file-line">    {</td>
      </tr>
      <tr>
        <td id="L145" class="blob-num js-line-number" data-line-number="145"></td>
        <td id="LC145" class="blob-code js-file-line">     &quot;cell_type&quot;: &quot;code&quot;,</td>
      </tr>
      <tr>
        <td id="L146" class="blob-num js-line-number" data-line-number="146"></td>
        <td id="LC146" class="blob-code js-file-line">     &quot;collapsed&quot;: false,</td>
      </tr>
      <tr>
        <td id="L147" class="blob-num js-line-number" data-line-number="147"></td>
        <td id="LC147" class="blob-code js-file-line">     &quot;input&quot;: [</td>
      </tr>
      <tr>
        <td id="L148" class="blob-num js-line-number" data-line-number="148"></td>
        <td id="LC148" class="blob-code js-file-line">      &quot;#run_ensemble(rc, nstars=2600, nruns=160, kingmodel=True, masstype=2, exponent=0, binarypercent=.1, binarypoplower = 1.0, binarypopupper = 10)&quot;</td>
      </tr>
      <tr>
        <td id="L149" class="blob-num js-line-number" data-line-number="149"></td>
        <td id="LC149" class="blob-code js-file-line">     ],</td>
      </tr>
      <tr>
        <td id="L150" class="blob-num js-line-number" data-line-number="150"></td>
        <td id="LC150" class="blob-code js-file-line">     &quot;language&quot;: &quot;python&quot;,</td>
      </tr>
      <tr>
        <td id="L151" class="blob-num js-line-number" data-line-number="151"></td>
        <td id="LC151" class="blob-code js-file-line">     &quot;metadata&quot;: {},</td>
      </tr>
      <tr>
        <td id="L152" class="blob-num js-line-number" data-line-number="152"></td>
        <td id="LC152" class="blob-code js-file-line">     &quot;outputs&quot;: [],</td>
      </tr>
      <tr>
        <td id="L153" class="blob-num js-line-number" data-line-number="153"></td>
        <td id="LC153" class="blob-code js-file-line">     &quot;prompt_number&quot;: &quot;*&quot;</td>
      </tr>
      <tr>
        <td id="L154" class="blob-num js-line-number" data-line-number="154"></td>
        <td id="LC154" class="blob-code js-file-line">    },</td>
      </tr>
      <tr>
        <td id="L155" class="blob-num js-line-number" data-line-number="155"></td>
        <td id="LC155" class="blob-code js-file-line">    {</td>
      </tr>
      <tr>
        <td id="L156" class="blob-num js-line-number" data-line-number="156"></td>
        <td id="LC156" class="blob-code js-file-line">     &quot;cell_type&quot;: &quot;code&quot;,</td>
      </tr>
      <tr>
        <td id="L157" class="blob-num js-line-number" data-line-number="157"></td>
        <td id="LC157" class="blob-code js-file-line">     &quot;collapsed&quot;: false,</td>
      </tr>
      <tr>
        <td id="L158" class="blob-num js-line-number" data-line-number="158"></td>
        <td id="LC158" class="blob-code js-file-line">     &quot;input&quot;: [</td>
      </tr>
      <tr>
        <td id="L159" class="blob-num js-line-number" data-line-number="159"></td>
        <td id="LC159" class="blob-code js-file-line">      &quot;ensfile = open(&#39;7aa6a2b6-5338-11e4-8483-90e2ba0993e2.ensemble&#39;, &#39;rb&#39;)\n&quot;,</td>
      </tr>
      <tr>
        <td id="L160" class="blob-num js-line-number" data-line-number="160"></td>
        <td id="LC160" class="blob-code js-file-line">      &quot;runslist = pickle.load(ensfile)\n&quot;,</td>
      </tr>
      <tr>
        <td id="L161" class="blob-num js-line-number" data-line-number="161"></td>
        <td id="LC161" class="blob-code js-file-line">      &quot;\n&quot;,</td>
      </tr>
      <tr>
        <td id="L162" class="blob-num js-line-number" data-line-number="162"></td>
        <td id="LC162" class="blob-code js-file-line">      &quot;fname = starlibrary.animate_run(runslist[8])\n&quot;,</td>
      </tr>
      <tr>
        <td id="L163" class="blob-num js-line-number" data-line-number="163"></td>
        <td id="LC163" class="blob-code js-file-line">      &quot;from IPython.display import HTML\n&quot;,</td>
      </tr>
      <tr>
        <td id="L164" class="blob-num js-line-number" data-line-number="164"></td>
        <td id="LC164" class="blob-code js-file-line">      &quot;video = open(fname, \&quot;rb\&quot;).read()\n&quot;,</td>
      </tr>
      <tr>
        <td id="L165" class="blob-num js-line-number" data-line-number="165"></td>
        <td id="LC165" class="blob-code js-file-line">      &quot;video_encoded = video.encode(\&quot;base64\&quot;)\n&quot;,</td>
      </tr>
      <tr>
        <td id="L166" class="blob-num js-line-number" data-line-number="166"></td>
        <td id="LC166" class="blob-code js-file-line">      &quot;video_tag = &#39;&lt;video controls alt=\&quot;test\&quot; src=\&quot;data:video/x-m4v;base64,{0}\&quot;&gt;&#39;.format(video_encoded)\n&quot;,</td>
      </tr>
      <tr>
        <td id="L167" class="blob-num js-line-number" data-line-number="167"></td>
        <td id="LC167" class="blob-code js-file-line">      &quot;HTML(data=video_tag)&quot;</td>
      </tr>
      <tr>
        <td id="L168" class="blob-num js-line-number" data-line-number="168"></td>
        <td id="LC168" class="blob-code js-file-line">     ],</td>
      </tr>
      <tr>
        <td id="L169" class="blob-num js-line-number" data-line-number="169"></td>
        <td id="LC169" class="blob-code js-file-line">     &quot;language&quot;: &quot;python&quot;,</td>
      </tr>
      <tr>
        <td id="L170" class="blob-num js-line-number" data-line-number="170"></td>
        <td id="LC170" class="blob-code js-file-line">     &quot;metadata&quot;: {},</td>
      </tr>
      <tr>
        <td id="L171" class="blob-num js-line-number" data-line-number="171"></td>
        <td id="LC171" class="blob-code js-file-line">     &quot;outputs&quot;: [</td>
      </tr>
      <tr>
        <td id="L172" class="blob-num js-line-number" data-line-number="172"></td>
        <td id="LC172" class="blob-code js-file-line">      {</td>
      </tr>
      <tr>
        <td id="L173" class="blob-num js-line-number" data-line-number="173"></td>
        <td id="LC173" class="blob-code js-file-line">       &quot;ename&quot;: &quot;XMLSyntaxError&quot;,</td>
      </tr>
      <tr>
        <td id="L174" class="blob-num js-line-number" data-line-number="174"></td>
        <td id="LC174" class="blob-code js-file-line">       &quot;evalue&quot;: &quot;error parsing attribute name, line 18, column 7&quot;,</td>
      </tr>
      <tr>
        <td id="L175" class="blob-num js-line-number" data-line-number="175"></td>
        <td id="LC175" class="blob-code js-file-line">       &quot;output_type&quot;: &quot;pyerr&quot;,</td>
      </tr>
      <tr>
        <td id="L176" class="blob-num js-line-number" data-line-number="176"></td>
        <td id="LC176" class="blob-code js-file-line">       &quot;traceback&quot;: [</td>
      </tr>
      <tr>
        <td id="L177" class="blob-num js-line-number" data-line-number="177"></td>
        <td id="LC177" class="blob-code js-file-line">        &quot;\u001b[1;36m  File \u001b[1;32m\&quot;&lt;string&gt;\&quot;\u001b[1;36m, line \u001b[1;32munknown\u001b[0m\n\u001b[1;31mXMLSyntaxError\u001b[0m\u001b[1;31m:\u001b[0m error parsing attribute name, line 18, column 7\n&quot;</td>
      </tr>
      <tr>
        <td id="L178" class="blob-num js-line-number" data-line-number="178"></td>
        <td id="LC178" class="blob-code js-file-line">       ]</td>
      </tr>
      <tr>
        <td id="L179" class="blob-num js-line-number" data-line-number="179"></td>
        <td id="LC179" class="blob-code js-file-line">      },</td>
      </tr>
      <tr>
        <td id="L180" class="blob-num js-line-number" data-line-number="180"></td>
        <td id="LC180" class="blob-code js-file-line">      {</td>
      </tr>
      <tr>
        <td id="L181" class="blob-num js-line-number" data-line-number="181"></td>
        <td id="LC181" class="blob-code js-file-line">       &quot;metadata&quot;: {},</td>
      </tr>
      <tr>
        <td id="L182" class="blob-num js-line-number" data-line-number="182"></td>
        <td id="LC182" class="blob-code js-file-line">       &quot;output_type&quot;: &quot;display_data&quot;,</td>
      </tr>
      <tr>
        <td id="L183" class="blob-num js-line-number" data-line-number="183"></td>
        <td id="LC183" class="blob-code js-file-line">       &quot;png&quot;: &quot;iVBORw0KGgoAAAANSUhEUgAAAt4AAALeCAYAAACdlBZfAAAABHNCSVQICAgIfAhkiAAAAAlwSFlz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\nBS59njXWKQhtAAAAAElFTkSuQmCC\n&quot;,</td>
      </tr>
      <tr>
        <td id="L184" class="blob-num js-line-number" data-line-number="184"></td>
        <td id="LC184" class="blob-code js-file-line">       &quot;text&quot;: [</td>
      </tr>
      <tr>
        <td id="L185" class="blob-num js-line-number" data-line-number="185"></td>
        <td id="LC185" class="blob-code js-file-line">        &quot;&lt;matplotlib.figure.Figure at 0x3b3f650&gt;&quot;</td>
      </tr>
      <tr>
        <td id="L186" class="blob-num js-line-number" data-line-number="186"></td>
        <td id="LC186" class="blob-code js-file-line">       ]</td>
      </tr>
      <tr>
        <td id="L187" class="blob-num js-line-number" data-line-number="187"></td>
        <td id="LC187" class="blob-code js-file-line">      }</td>
      </tr>
      <tr>
        <td id="L188" class="blob-num js-line-number" data-line-number="188"></td>
        <td id="LC188" class="blob-code js-file-line">     ],</td>
      </tr>
      <tr>
        <td id="L189" class="blob-num js-line-number" data-line-number="189"></td>
        <td id="LC189" class="blob-code js-file-line">     &quot;prompt_number&quot;: 12</td>
      </tr>
      <tr>
        <td id="L190" class="blob-num js-line-number" data-line-number="190"></td>
        <td id="LC190" class="blob-code js-file-line">    },</td>
      </tr>
      <tr>
        <td id="L191" class="blob-num js-line-number" data-line-number="191"></td>
        <td id="LC191" class="blob-code js-file-line">    {</td>
      </tr>
      <tr>
        <td id="L192" class="blob-num js-line-number" data-line-number="192"></td>
        <td id="LC192" class="blob-code js-file-line">     &quot;cell_type&quot;: &quot;markdown&quot;,</td>
      </tr>
      <tr>
        <td id="L193" class="blob-num js-line-number" data-line-number="193"></td>
        <td id="LC193" class="blob-code js-file-line">     &quot;metadata&quot;: {},</td>
      </tr>
      <tr>
        <td id="L194" class="blob-num js-line-number" data-line-number="194"></td>
        <td id="LC194" class="blob-code js-file-line">     &quot;source&quot;: [</td>
      </tr>
      <tr>
        <td id="L195" class="blob-num js-line-number" data-line-number="195"></td>
        <td id="LC195" class="blob-code js-file-line">      &quot;Now we will change it to a power law spectrum with the salpeter exponent  $ \\alpha = 2.35 $&quot;</td>
      </tr>
      <tr>
        <td id="L196" class="blob-num js-line-number" data-line-number="196"></td>
        <td id="LC196" class="blob-code js-file-line">     ]</td>
      </tr>
      <tr>
        <td id="L197" class="blob-num js-line-number" data-line-number="197"></td>
        <td id="LC197" class="blob-code js-file-line">    },</td>
      </tr>
      <tr>
        <td id="L198" class="blob-num js-line-number" data-line-number="198"></td>
        <td id="LC198" class="blob-code js-file-line">    {</td>
      </tr>
      <tr>
        <td id="L199" class="blob-num js-line-number" data-line-number="199"></td>
        <td id="LC199" class="blob-code js-file-line">     &quot;cell_type&quot;: &quot;code&quot;,</td>
      </tr>
      <tr>
        <td id="L200" class="blob-num js-line-number" data-line-number="200"></td>
        <td id="LC200" class="blob-code js-file-line">     &quot;collapsed&quot;: false,</td>
      </tr>
      <tr>
        <td id="L201" class="blob-num js-line-number" data-line-number="201"></td>
        <td id="LC201" class="blob-code js-file-line">     &quot;input&quot;: [</td>
      </tr>
      <tr>
        <td id="L202" class="blob-num js-line-number" data-line-number="202"></td>
        <td id="LC202" class="blob-code js-file-line">      &quot;#run_ensemble(rc, nstars=2600, nruns=160, kingmodel=True, masstype=1, exponent=-2.35, binarypercent=.1, binarypoplower = 1.0, binarypopupper = 10)&quot;</td>
      </tr>
      <tr>
        <td id="L203" class="blob-num js-line-number" data-line-number="203"></td>
        <td id="LC203" class="blob-code js-file-line">     ],</td>
      </tr>
      <tr>
        <td id="L204" class="blob-num js-line-number" data-line-number="204"></td>
        <td id="LC204" class="blob-code js-file-line">     &quot;language&quot;: &quot;python&quot;,</td>
      </tr>
      <tr>
        <td id="L205" class="blob-num js-line-number" data-line-number="205"></td>
        <td id="LC205" class="blob-code js-file-line">     &quot;metadata&quot;: {},</td>
      </tr>
      <tr>
        <td id="L206" class="blob-num js-line-number" data-line-number="206"></td>
        <td id="LC206" class="blob-code js-file-line">     &quot;outputs&quot;: [</td>
      </tr>
      <tr>
        <td id="L207" class="blob-num js-line-number" data-line-number="207"></td>
        <td id="LC207" class="blob-code js-file-line">      {</td>
      </tr>
      <tr>
        <td id="L208" class="blob-num js-line-number" data-line-number="208"></td>
        <td id="LC208" class="blob-code js-file-line">       &quot;output_type&quot;: &quot;stream&quot;,</td>
      </tr>
      <tr>
        <td id="L209" class="blob-num js-line-number" data-line-number="209"></td>
        <td id="LC209" class="blob-code js-file-line">       &quot;stream&quot;: &quot;stdout&quot;,</td>
      </tr>
      <tr>
        <td id="L210" class="blob-num js-line-number" data-line-number="210"></td>
        <td id="LC210" class="blob-code js-file-line">       &quot;text&quot;: [</td>
      </tr>
      <tr>
        <td id="L211" class="blob-num js-line-number" data-line-number="211"></td>
        <td id="LC211" class="blob-code js-file-line">        &quot;Starting at  2014-10-14 00:37:56.765258\n&quot;,</td>
      </tr>
      <tr>
        <td id="L212" class="blob-num js-line-number" data-line-number="212"></td>
        <td id="LC212" class="blob-code js-file-line">        &quot;Launching 160 runs\n&quot;,</td>
      </tr>
      <tr>
        <td id="L213" class="blob-num js-line-number" data-line-number="213"></td>
        <td id="LC213" class="blob-code js-file-line">        &quot;Storing results in bea6bf0e-53ac-11e4-8483-90e2ba0993e2.ensemble&quot;</td>
      </tr>
      <tr>
        <td id="L214" class="blob-num js-line-number" data-line-number="214"></td>
        <td id="LC214" class="blob-code js-file-line">       ]</td>
      </tr>
      <tr>
        <td id="L215" class="blob-num js-line-number" data-line-number="215"></td>
        <td id="LC215" class="blob-code js-file-line">      },</td>
      </tr>
      <tr>
        <td id="L216" class="blob-num js-line-number" data-line-number="216"></td>
        <td id="LC216" class="blob-code js-file-line">      {</td>
      </tr>
      <tr>
        <td id="L217" class="blob-num js-line-number" data-line-number="217"></td>
        <td id="LC217" class="blob-code js-file-line">       &quot;output_type&quot;: &quot;stream&quot;,</td>
      </tr>
      <tr>
        <td id="L218" class="blob-num js-line-number" data-line-number="218"></td>
        <td id="LC218" class="blob-code js-file-line">       &quot;stream&quot;: &quot;stdout&quot;,</td>
      </tr>
      <tr>
        <td id="L219" class="blob-num js-line-number" data-line-number="219"></td>
        <td id="LC219" class="blob-code js-file-line">       &quot;text&quot;: [</td>
      </tr>
      <tr>
        <td id="L220" class="blob-num js-line-number" data-line-number="220"></td>
        <td id="LC220" class="blob-code js-file-line">        &quot;\n&quot;,</td>
      </tr>
      <tr>
        <td id="L221" class="blob-num js-line-number" data-line-number="221"></td>
        <td id="LC221" class="blob-code js-file-line">        &quot;Finished at  2014-10-14 10:16:52.628122\n&quot;,</td>
      </tr>
      <tr>
        <td id="L222" class="blob-num js-line-number" data-line-number="222"></td>
        <td id="LC222" class="blob-code js-file-line">        &quot;Elapsed time:  9:38:55.862864\n&quot;</td>
      </tr>
      <tr>
        <td id="L223" class="blob-num js-line-number" data-line-number="223"></td>
        <td id="LC223" class="blob-code js-file-line">       ]</td>
      </tr>
      <tr>
        <td id="L224" class="blob-num js-line-number" data-line-number="224"></td>
        <td id="LC224" class="blob-code js-file-line">      }</td>
      </tr>
      <tr>
        <td id="L225" class="blob-num js-line-number" data-line-number="225"></td>
        <td id="LC225" class="blob-code js-file-line">     ],</td>
      </tr>
      <tr>
        <td id="L226" class="blob-num js-line-number" data-line-number="226"></td>
        <td id="LC226" class="blob-code js-file-line">     &quot;prompt_number&quot;: 42</td>
      </tr>
      <tr>
        <td id="L227" class="blob-num js-line-number" data-line-number="227"></td>
        <td id="LC227" class="blob-code js-file-line">    },</td>
      </tr>
      <tr>
        <td id="L228" class="blob-num js-line-number" data-line-number="228"></td>
        <td id="LC228" class="blob-code js-file-line">    {</td>
      </tr>
      <tr>
        <td id="L229" class="blob-num js-line-number" data-line-number="229"></td>
        <td id="LC229" class="blob-code js-file-line">     &quot;cell_type&quot;: &quot;markdown&quot;,</td>
      </tr>
      <tr>
        <td id="L230" class="blob-num js-line-number" data-line-number="230"></td>
        <td id="LC230" class="blob-code js-file-line">     &quot;metadata&quot;: {},</td>
      </tr>
      <tr>
        <td id="L231" class="blob-num js-line-number" data-line-number="231"></td>
        <td id="LC231" class="blob-code js-file-line">     &quot;source&quot;: [</td>
      </tr>
      <tr>
        <td id="L232" class="blob-num js-line-number" data-line-number="232"></td>
        <td id="LC232" class="blob-code js-file-line">      &quot;______________________________________________&quot;</td>
      </tr>
      <tr>
        <td id="L233" class="blob-num js-line-number" data-line-number="233"></td>
        <td id="LC233" class="blob-code js-file-line">     ]</td>
      </tr>
      <tr>
        <td id="L234" class="blob-num js-line-number" data-line-number="234"></td>
        <td id="LC234" class="blob-code js-file-line">    },</td>
      </tr>
      <tr>
        <td id="L235" class="blob-num js-line-number" data-line-number="235"></td>
        <td id="LC235" class="blob-code js-file-line">    {</td>
      </tr>
      <tr>
        <td id="L236" class="blob-num js-line-number" data-line-number="236"></td>
        <td id="LC236" class="blob-code js-file-line">     &quot;cell_type&quot;: &quot;markdown&quot;,</td>
      </tr>
      <tr>
        <td id="L237" class="blob-num js-line-number" data-line-number="237"></td>
        <td id="LC237" class="blob-code js-file-line">     &quot;metadata&quot;: {},</td>
      </tr>
      <tr>
        <td id="L238" class="blob-num js-line-number" data-line-number="238"></td>
        <td id="LC238" class="blob-code js-file-line">     &quot;source&quot;: [</td>
      </tr>
      <tr>
        <td id="L239" class="blob-num js-line-number" data-line-number="239"></td>
        <td id="LC239" class="blob-code js-file-line">      &quot;______________________________________________&quot;</td>
      </tr>
      <tr>
        <td id="L240" class="blob-num js-line-number" data-line-number="240"></td>
        <td id="LC240" class="blob-code js-file-line">     ]</td>
      </tr>
      <tr>
        <td id="L241" class="blob-num js-line-number" data-line-number="241"></td>
        <td id="LC241" class="blob-code js-file-line">    },</td>
      </tr>
      <tr>
        <td id="L242" class="blob-num js-line-number" data-line-number="242"></td>
        <td id="LC242" class="blob-code js-file-line">    {</td>
      </tr>
      <tr>
        <td id="L243" class="blob-num js-line-number" data-line-number="243"></td>
        <td id="LC243" class="blob-code js-file-line">     &quot;cell_type&quot;: &quot;markdown&quot;,</td>
      </tr>
      <tr>
        <td id="L244" class="blob-num js-line-number" data-line-number="244"></td>
        <td id="LC244" class="blob-code js-file-line">     &quot;metadata&quot;: {},</td>
      </tr>
      <tr>
        <td id="L245" class="blob-num js-line-number" data-line-number="245"></td>
        <td id="LC245" class="blob-code js-file-line">     &quot;source&quot;: [</td>
      </tr>
      <tr>
        <td id="L246" class="blob-num js-line-number" data-line-number="246"></td>
        <td id="LC246" class="blob-code js-file-line">      &quot;______________________________________________&quot;</td>
      </tr>
      <tr>
        <td id="L247" class="blob-num js-line-number" data-line-number="247"></td>
        <td id="LC247" class="blob-code js-file-line">     ]</td>
      </tr>
      <tr>
        <td id="L248" class="blob-num js-line-number" data-line-number="248"></td>
        <td id="LC248" class="blob-code js-file-line">    },</td>
      </tr>
      <tr>
        <td id="L249" class="blob-num js-line-number" data-line-number="249"></td>
        <td id="LC249" class="blob-code js-file-line">    {</td>
      </tr>
      <tr>
        <td id="L250" class="blob-num js-line-number" data-line-number="250"></td>
        <td id="LC250" class="blob-code js-file-line">     &quot;cell_type&quot;: &quot;markdown&quot;,</td>
      </tr>
      <tr>
        <td id="L251" class="blob-num js-line-number" data-line-number="251"></td>
        <td id="LC251" class="blob-code js-file-line">     &quot;metadata&quot;: {},</td>
      </tr>
      <tr>
        <td id="L252" class="blob-num js-line-number" data-line-number="252"></td>
        <td id="LC252" class="blob-code js-file-line">     &quot;source&quot;: [</td>
      </tr>
      <tr>
        <td id="L253" class="blob-num js-line-number" data-line-number="253"></td>
        <td id="LC253" class="blob-code js-file-line">      &quot;______________________________________________&quot;</td>
      </tr>
      <tr>
        <td id="L254" class="blob-num js-line-number" data-line-number="254"></td>
        <td id="LC254" class="blob-code js-file-line">     ]</td>
      </tr>
      <tr>
        <td id="L255" class="blob-num js-line-number" data-line-number="255"></td>
        <td id="LC255" class="blob-code js-file-line">    },</td>
      </tr>
      <tr>
        <td id="L256" class="blob-num js-line-number" data-line-number="256"></td>
        <td id="LC256" class="blob-code js-file-line">    {</td>
      </tr>
      <tr>
        <td id="L257" class="blob-num js-line-number" data-line-number="257"></td>
        <td id="LC257" class="blob-code js-file-line">     &quot;cell_type&quot;: &quot;markdown&quot;,</td>
      </tr>
      <tr>
        <td id="L258" class="blob-num js-line-number" data-line-number="258"></td>
        <td id="LC258" class="blob-code js-file-line">     &quot;metadata&quot;: {},</td>
      </tr>
      <tr>
        <td id="L259" class="blob-num js-line-number" data-line-number="259"></td>
        <td id="LC259" class="blob-code js-file-line">     &quot;source&quot;: [</td>
      </tr>
      <tr>
        <td id="L260" class="blob-num js-line-number" data-line-number="260"></td>
        <td id="LC260" class="blob-code js-file-line">      &quot;___________________________________________________________________________&quot;</td>
      </tr>
      <tr>
        <td id="L261" class="blob-num js-line-number" data-line-number="261"></td>
        <td id="LC261" class="blob-code js-file-line">     ]</td>
      </tr>
      <tr>
        <td id="L262" class="blob-num js-line-number" data-line-number="262"></td>
        <td id="LC262" class="blob-code js-file-line">    },</td>
      </tr>
      <tr>
        <td id="L263" class="blob-num js-line-number" data-line-number="263"></td>
        <td id="LC263" class="blob-code js-file-line">    {</td>
      </tr>
      <tr>
        <td id="L264" class="blob-num js-line-number" data-line-number="264"></td>
        <td id="LC264" class="blob-code js-file-line">     &quot;cell_type&quot;: &quot;code&quot;,</td>
      </tr>
      <tr>
        <td id="L265" class="blob-num js-line-number" data-line-number="265"></td>
        <td id="LC265" class="blob-code js-file-line">     &quot;collapsed&quot;: false,</td>
      </tr>
      <tr>
        <td id="L266" class="blob-num js-line-number" data-line-number="266"></td>
        <td id="LC266" class="blob-code js-file-line">     &quot;input&quot;: [</td>
      </tr>
      <tr>
        <td id="L267" class="blob-num js-line-number" data-line-number="267"></td>
        <td id="LC267" class="blob-code js-file-line">      &quot;%load starlibrary.py&quot;</td>
      </tr>
      <tr>
        <td id="L268" class="blob-num js-line-number" data-line-number="268"></td>
        <td id="LC268" class="blob-code js-file-line">     ],</td>
      </tr>
      <tr>
        <td id="L269" class="blob-num js-line-number" data-line-number="269"></td>
        <td id="LC269" class="blob-code js-file-line">     &quot;language&quot;: &quot;python&quot;,</td>
      </tr>
      <tr>
        <td id="L270" class="blob-num js-line-number" data-line-number="270"></td>
        <td id="LC270" class="blob-code js-file-line">     &quot;metadata&quot;: {},</td>
      </tr>
      <tr>
        <td id="L271" class="blob-num js-line-number" data-line-number="271"></td>
        <td id="LC271" class="blob-code js-file-line">     &quot;outputs&quot;: [],</td>
      </tr>
      <tr>
        <td id="L272" class="blob-num js-line-number" data-line-number="272"></td>
        <td id="LC272" class="blob-code js-file-line">     &quot;prompt_number&quot;: 31</td>
      </tr>
      <tr>
        <td id="L273" class="blob-num js-line-number" data-line-number="273"></td>
        <td id="LC273" class="blob-code js-file-line">    },</td>
      </tr>
      <tr>
        <td id="L274" class="blob-num js-line-number" data-line-number="274"></td>
        <td id="LC274" class="blob-code js-file-line">    {</td>
      </tr>
      <tr>
        <td id="L275" class="blob-num js-line-number" data-line-number="275"></td>
        <td id="LC275" class="blob-code js-file-line">     &quot;cell_type&quot;: &quot;code&quot;,</td>
      </tr>
      <tr>
        <td id="L276" class="blob-num js-line-number" data-line-number="276"></td>
        <td id="LC276" class="blob-code js-file-line">     &quot;collapsed&quot;: false,</td>
      </tr>
      <tr>
        <td id="L277" class="blob-num js-line-number" data-line-number="277"></td>
        <td id="LC277" class="blob-code js-file-line">     &quot;input&quot;: [</td>
      </tr>
      <tr>
        <td id="L278" class="blob-num js-line-number" data-line-number="278"></td>
        <td id="LC278" class="blob-code js-file-line">      &quot;# File: starlibrary.py (modified from starlab.py)\n&quot;,</td>
      </tr>
      <tr>
        <td id="L279" class="blob-num js-line-number" data-line-number="279"></td>
        <td id="LC279" class="blob-code js-file-line">      &quot;# Name: Nicholas Miller\n&quot;,</td>
      </tr>
      <tr>
        <td id="L280" class="blob-num js-line-number" data-line-number="280"></td>
        <td id="LC280" class="blob-code js-file-line">      &quot;# Date: 10.10.14\n&quot;,</td>
      </tr>
      <tr>
        <td id="L281" class="blob-num js-line-number" data-line-number="281"></td>
        <td id="LC281" class="blob-code js-file-line">      &quot;# Desc: Program provides the necessary tools for cluster simulations\n&quot;,</td>
      </tr>
      <tr>
        <td id="L282" class="blob-num js-line-number" data-line-number="282"></td>
        <td id="LC282" class="blob-code js-file-line">      &quot;# \t\t(modified form Dr. Cavendish McKay&#39;s starlab.py file\n&quot;,</td>
      </tr>
      <tr>
        <td id="L283" class="blob-num js-line-number" data-line-number="283"></td>
        <td id="LC283" class="blob-code js-file-line">      &quot;# Usage: The program reads input containing details for cluster structure.\n&quot;,</td>
      </tr>
      <tr>
        <td id="L284" class="blob-num js-line-number" data-line-number="284"></td>
        <td id="LC284" class="blob-code js-file-line">      &quot;#        The program prompts cpus to simulate clusters and export output.\n&quot;,</td>
      </tr>
      <tr>
        <td id="L285" class="blob-num js-line-number" data-line-number="285"></td>
        <td id="LC285" class="blob-code js-file-line">      &quot;\n&quot;,</td>
      </tr>
      <tr>
        <td id="L286" class="blob-num js-line-number" data-line-number="286"></td>
        <td id="LC286" class="blob-code js-file-line">      &quot;# &lt;Imports&gt;\n&quot;,</td>
      </tr>
      <tr>
        <td id="L287" class="blob-num js-line-number" data-line-number="287"></td>
        <td id="LC287" class="blob-code js-file-line">      &quot;\n&quot;,</td>
      </tr>
      <tr>
        <td id="L288" class="blob-num js-line-number" data-line-number="288"></td>
        <td id="LC288" class="blob-code js-file-line">      &quot;from subprocess import Popen, PIPE\n&quot;,</td>
      </tr>
      <tr>
        <td id="L289" class="blob-num js-line-number" data-line-number="289"></td>
        <td id="LC289" class="blob-code js-file-line">      &quot;import os\n&quot;,</td>
      </tr>
      <tr>
        <td id="L290" class="blob-num js-line-number" data-line-number="290"></td>
        <td id="LC290" class="blob-code js-file-line">      &quot;import datetime\n&quot;,</td>
      </tr>
      <tr>
        <td id="L291" class="blob-num js-line-number" data-line-number="291"></td>
        <td id="LC291" class="blob-code js-file-line">      &quot;import re\n&quot;,</td>
      </tr>
      <tr>
        <td id="L292" class="blob-num js-line-number" data-line-number="292"></td>
        <td id="LC292" class="blob-code js-file-line">      &quot;import numpy as np\n&quot;,</td>
      </tr>
      <tr>
        <td id="L293" class="blob-num js-line-number" data-line-number="293"></td>
        <td id="LC293" class="blob-code js-file-line">      &quot;import pandas as pd\n&quot;,</td>
      </tr>
      <tr>
        <td id="L294" class="blob-num js-line-number" data-line-number="294"></td>
        <td id="LC294" class="blob-code js-file-line">      &quot;from lxml import etree\n&quot;,</td>
      </tr>
      <tr>
        <td id="L295" class="blob-num js-line-number" data-line-number="295"></td>
        <td id="LC295" class="blob-code js-file-line">      &quot;import uuid\n&quot;,</td>
      </tr>
      <tr>
        <td id="L296" class="blob-num js-line-number" data-line-number="296"></td>
        <td id="LC296" class="blob-code js-file-line">      &quot;import glob\n&quot;,</td>
      </tr>
      <tr>
        <td id="L297" class="blob-num js-line-number" data-line-number="297"></td>
        <td id="LC297" class="blob-code js-file-line">      &quot;import pickle\n&quot;,</td>
      </tr>
      <tr>
        <td id="L298" class="blob-num js-line-number" data-line-number="298"></td>
        <td id="LC298" class="blob-code js-file-line">      &quot;#import pylab as plt\n&quot;,</td>
      </tr>
      <tr>
        <td id="L299" class="blob-num js-line-number" data-line-number="299"></td>
        <td id="LC299" class="blob-code js-file-line">      &quot;\n&quot;,</td>
      </tr>
      <tr>
        <td id="L300" class="blob-num js-line-number" data-line-number="300"></td>
        <td id="LC300" class="blob-code js-file-line">      &quot;\n&quot;,</td>
      </tr>
      <tr>
        <td id="L301" class="blob-num js-line-number" data-line-number="301"></td>
        <td id="LC301" class="blob-code js-file-line">      &quot;warehousepath = \&quot;.warehouse/\&quot;   \n&quot;,</td>
      </tr>
      <tr>
        <td id="L302" class="blob-num js-line-number" data-line-number="302"></td>
        <td id="LC302" class="blob-code js-file-line">      &quot;\n&quot;,</td>
      </tr>
      <tr>
        <td id="L303" class="blob-num js-line-number" data-line-number="303"></td>
        <td id="LC303" class="blob-code js-file-line">      &quot;\n&quot;,</td>
      </tr>
      <tr>
        <td id="L304" class="blob-num js-line-number" data-line-number="304"></td>
        <td id="LC304" class="blob-code js-file-line">      &quot;# &lt;Class creation&gt;\n&quot;,</td>
      </tr>
      <tr>
        <td id="L305" class="blob-num js-line-number" data-line-number="305"></td>
        <td id="LC305" class="blob-code js-file-line">      &quot;\n&quot;,</td>
      </tr>
      <tr>
        <td id="L306" class="blob-num js-line-number" data-line-number="306"></td>
        <td id="LC306" class="blob-code js-file-line">      &quot;class Story:\n&quot;,</td>
      </tr>
      <tr>
        <td id="L307" class="blob-num js-line-number" data-line-number="307"></td>
        <td id="LC307" class="blob-code js-file-line">      &quot;    def __init__(self):\n&quot;,</td>
      </tr>
      <tr>
        <td id="L308" class="blob-num js-line-number" data-line-number="308"></td>
        <td id="LC308" class="blob-code js-file-line">      &quot;        self.story_lines = []\n&quot;,</td>
      </tr>
      <tr>
        <td id="L309" class="blob-num js-line-number" data-line-number="309"></td>
        <td id="LC309" class="blob-code js-file-line">      &quot;        self.story_vals = dict()\n&quot;,</td>
      </tr>
      <tr>
        <td id="L310" class="blob-num js-line-number" data-line-number="310"></td>
        <td id="LC310" class="blob-code js-file-line">      &quot;        self.story_subobjects = []\n&quot;,</td>
      </tr>
      <tr>
        <td id="L311" class="blob-num js-line-number" data-line-number="311"></td>
        <td id="LC311" class="blob-code js-file-line">      &quot;        self.kind = None\n&quot;,</td>
      </tr>
      <tr>
        <td id="L312" class="blob-num js-line-number" data-line-number="312"></td>
        <td id="LC312" class="blob-code js-file-line">      &quot;        return\n&quot;,</td>
      </tr>
      <tr>
        <td id="L313" class="blob-num js-line-number" data-line-number="313"></td>
        <td id="LC313" class="blob-code js-file-line">      &quot;    def __str__(self):\n&quot;,</td>
      </tr>
      <tr>
        <td id="L314" class="blob-num js-line-number" data-line-number="314"></td>
        <td id="LC314" class="blob-code js-file-line">      &quot;        return \&quot;%s, %d lines, %d values, %d subobjects\&quot; % (self.kind, len(self.story_lines), len(self.story_vals.keys()), len(self.story_subobjects))\n&quot;,</td>
      </tr>
      <tr>
        <td id="L315" class="blob-num js-line-number" data-line-number="315"></td>
        <td id="LC315" class="blob-code js-file-line">      &quot;    def process_line(self, line):\n&quot;,</td>
      </tr>
      <tr>
        <td id="L316" class="blob-num js-line-number" data-line-number="316"></td>
        <td id="LC316" class="blob-code js-file-line">      &quot;        # if we can tokenize into an equality, store in the dict, otherwise as a line.\n&quot;,</td>
      </tr>
      <tr>
        <td id="L317" class="blob-num js-line-number" data-line-number="317"></td>
        <td id="LC317" class="blob-code js-file-line">      &quot;        chunks = re.split(&#39;=&#39;, line)\n&quot;,</td>
      </tr>
      <tr>
        <td id="L318" class="blob-num js-line-number" data-line-number="318"></td>
        <td id="LC318" class="blob-code js-file-line">      &quot;#        print chunks, len(chunks)\n&quot;,</td>
      </tr>
      <tr>
        <td id="L319" class="blob-num js-line-number" data-line-number="319"></td>
        <td id="LC319" class="blob-code js-file-line">      &quot;        if len(chunks) == 2:\n&quot;,</td>
      </tr>
      <tr>
        <td id="L320" class="blob-num js-line-number" data-line-number="320"></td>
        <td id="LC320" class="blob-code js-file-line">      &quot;            self.story_vals[chunks[0].strip()] = chunks[1].strip()\n&quot;,</td>
      </tr>
      <tr>
        <td id="L321" class="blob-num js-line-number" data-line-number="321"></td>
        <td id="LC321" class="blob-code js-file-line">      &quot;        else:\n&quot;,</td>
      </tr>
      <tr>
        <td id="L322" class="blob-num js-line-number" data-line-number="322"></td>
        <td id="LC322" class="blob-code js-file-line">      &quot;            self.story_lines.append(line)\n&quot;,</td>
      </tr>
      <tr>
        <td id="L323" class="blob-num js-line-number" data-line-number="323"></td>
        <td id="LC323" class="blob-code js-file-line">      &quot;\n&quot;,</td>
      </tr>
      <tr>
        <td id="L324" class="blob-num js-line-number" data-line-number="324"></td>
        <td id="LC324" class="blob-code js-file-line">      &quot;# &lt;set up the Run&gt;\n&quot;,</td>
      </tr>
      <tr>
        <td id="L325" class="blob-num js-line-number" data-line-number="325"></td>
        <td id="LC325" class="blob-code js-file-line">      &quot;class Run:\n&quot;,</td>
      </tr>
      <tr>
        <td id="L326" class="blob-num js-line-number" data-line-number="326"></td>
        <td id="LC326" class="blob-code js-file-line">      &quot;    def __init__(self, kingmodel=True, w0=1.5, nstars=2500, masstype=1, runlength=100, exponent=-2.35, binarypercent=.1, binarypoplower = 1.0, binarypopupper = 10):\n&quot;,</td>
      </tr>
      <tr>
        <td id="L327" class="blob-num js-line-number" data-line-number="327"></td>
        <td id="LC327" class="blob-code js-file-line">      &quot;\n&quot;,</td>
      </tr>
      <tr>
        <td id="L328" class="blob-num js-line-number" data-line-number="328"></td>
        <td id="LC328" class="blob-code js-file-line">      &quot;        self.kingmodel = kingmodel\n&quot;,</td>
      </tr>
      <tr>
        <td id="L329" class="blob-num js-line-number" data-line-number="329"></td>
        <td id="LC329" class="blob-code js-file-line">      &quot;        self.w0 = w0\n&quot;,</td>
      </tr>
      <tr>
        <td id="L330" class="blob-num js-line-number" data-line-number="330"></td>
        <td id="LC330" class="blob-code js-file-line">      &quot;        self.nstars = nstars\n&quot;,</td>
      </tr>
      <tr>
        <td id="L331" class="blob-num js-line-number" data-line-number="331"></td>
        <td id="LC331" class="blob-code js-file-line">      &quot;\n&quot;,</td>
      </tr>
      <tr>
        <td id="L332" class="blob-num js-line-number" data-line-number="332"></td>
        <td id="LC332" class="blob-code js-file-line">      &quot;        # mass scaling\n&quot;,</td>
      </tr>
      <tr>
        <td id="L333" class="blob-num js-line-number" data-line-number="333"></td>
        <td id="LC333" class="blob-code js-file-line">      &quot;        self.masstype=masstype\n&quot;,</td>
      </tr>
      <tr>
        <td id="L334" class="blob-num js-line-number" data-line-number="334"></td>
        <td id="LC334" class="blob-code js-file-line">      &quot;        self.exponent=exponent\n&quot;,</td>
      </tr>
      <tr>
        <td id="L335" class="blob-num js-line-number" data-line-number="335"></td>
        <td id="LC335" class="blob-code js-file-line">      &quot;        self.lowerlimit = 0.1\n&quot;,</td>
      </tr>
      <tr>
        <td id="L336" class="blob-num js-line-number" data-line-number="336"></td>
        <td id="LC336" class="blob-code js-file-line">      &quot;        self.upperlimit = 20\n&quot;,</td>
      </tr>
      <tr>
        <td id="L337" class="blob-num js-line-number" data-line-number="337"></td>
        <td id="LC337" class="blob-code js-file-line">      &quot;\n&quot;,</td>
      </tr>
      <tr>
        <td id="L338" class="blob-num js-line-number" data-line-number="338"></td>
        <td id="LC338" class="blob-code js-file-line">      &quot;        # binary scaling\n&quot;,</td>
      </tr>
      <tr>
        <td id="L339" class="blob-num js-line-number" data-line-number="339"></td>
        <td id="LC339" class="blob-code js-file-line">      &quot;        self.binarypercent = binarypercent\n&quot;,</td>
      </tr>
      <tr>
        <td id="L340" class="blob-num js-line-number" data-line-number="340"></td>
        <td id="LC340" class="blob-code js-file-line">      &quot;        self.binarylimit = 0.25\n&quot;,</td>
      </tr>
      <tr>
        <td id="L341" class="blob-num js-line-number" data-line-number="341"></td>
        <td id="LC341" class="blob-code js-file-line">      &quot;        self.binarypoplower = binarypoplower\n&quot;,</td>
      </tr>
      <tr>
        <td id="L342" class="blob-num js-line-number" data-line-number="342"></td>
        <td id="LC342" class="blob-code js-file-line">      &quot;        self.binarypopupper = binarypopupper\n&quot;,</td>
      </tr>
      <tr>
        <td id="L343" class="blob-num js-line-number" data-line-number="343"></td>
        <td id="LC343" class="blob-code js-file-line">      &quot;\n&quot;,</td>
      </tr>
      <tr>
        <td id="L344" class="blob-num js-line-number" data-line-number="344"></td>
        <td id="LC344" class="blob-code js-file-line">      &quot;        # kira parameters\n&quot;,</td>
      </tr>
      <tr>
        <td id="L345" class="blob-num js-line-number" data-line-number="345"></td>
        <td id="LC345" class="blob-code js-file-line">      &quot;        self.runlength=runlength\n&quot;,</td>
      </tr>
      <tr>
        <td id="L346" class="blob-num js-line-number" data-line-number="346"></td>
        <td id="LC346" class="blob-code js-file-line">      &quot;        self.diagout = 0.5\n&quot;,</td>
      </tr>
      <tr>
        <td id="L347" class="blob-num js-line-number" data-line-number="347"></td>
        <td id="LC347" class="blob-code js-file-line">      &quot;        self.dumpout = 0.5\n&quot;,</td>
      </tr>
      <tr>
        <td id="L348" class="blob-num js-line-number" data-line-number="348"></td>
        <td id="LC348" class="blob-code js-file-line">      &quot;        \n&quot;,</td>
      </tr>
      <tr>
        <td id="L349" class="blob-num js-line-number" data-line-number="349"></td>
        <td id="LC349" class="blob-code js-file-line">      &quot;# &lt;codecell&gt;\n&quot;,</td>
      </tr>
      <tr>
        <td id="L350" class="blob-num js-line-number" data-line-number="350"></td>
        <td id="LC350" class="blob-code js-file-line">      &quot;def parse_output(results):\n&quot;,</td>
      </tr>
      <tr>
        <td id="L351" class="blob-num js-line-number" data-line-number="351"></td>
        <td id="LC351" class="blob-code js-file-line">      &quot;    stories = []\n&quot;,</td>
      </tr>
      <tr>
        <td id="L352" class="blob-num js-line-number" data-line-number="352"></td>
        <td id="LC352" class="blob-code js-file-line">      &quot;    lines = re.split(\&quot;\\n\&quot;, results)\n&quot;,</td>
      </tr>
      <tr>
        <td id="L353" class="blob-num js-line-number" data-line-number="353"></td>
        <td id="LC353" class="blob-code js-file-line">      &quot;\n&quot;,</td>
      </tr>
      <tr>
        <td id="L354" class="blob-num js-line-number" data-line-number="354"></td>
        <td id="LC354" class="blob-code js-file-line">      &quot;    nextidx = -1\n&quot;,</td>
      </tr>
      <tr>
        <td id="L355" class="blob-num js-line-number" data-line-number="355"></td>
        <td id="LC355" class="blob-code js-file-line">      &quot;    \n&quot;,</td>
      </tr>
      <tr>
        <td id="L356" class="blob-num js-line-number" data-line-number="356"></td>
        <td id="LC356" class="blob-code js-file-line">      &quot;    for index, line in enumerate(lines):\n&quot;,</td>
      </tr>
      <tr>
        <td id="L357" class="blob-num js-line-number" data-line-number="357"></td>
        <td id="LC357" class="blob-code js-file-line">      &quot;        if index &gt;= nextidx:\n&quot;,</td>
      </tr>
      <tr>
        <td id="L358" class="blob-num js-line-number" data-line-number="358"></td>
        <td id="LC358" class="blob-code js-file-line">      &quot;            storystart = re.match(\&quot;^\\((\\w+)\&quot;,line)\n&quot;,</td>
      </tr>
      <tr>
        <td id="L359" class="blob-num js-line-number" data-line-number="359"></td>
        <td id="LC359" class="blob-code js-file-line">      &quot;            if storystart:\n&quot;,</td>
      </tr>
      <tr>
        <td id="L360" class="blob-num js-line-number" data-line-number="360"></td>
        <td id="LC360" class="blob-code js-file-line">      &quot;                #print \&quot;in parse_output, calling parse_lines:\&quot;, index, storystart.group(1)\n&quot;,</td>
      </tr>
      <tr>
        <td id="L361" class="blob-num js-line-number" data-line-number="361"></td>
        <td id="LC361" class="blob-code js-file-line">      &quot;                nextidx, newstory = parse_lines(lines, index+1, storystart.group(1))\n&quot;,</td>
      </tr>
      <tr>
        <td id="L362" class="blob-num js-line-number" data-line-number="362"></td>
        <td id="LC362" class="blob-code js-file-line">      &quot;                #print \&quot;in parse_output, back from parse_lines:\&quot;, nextidx, str(newstory)\n&quot;,</td>
      </tr>
      <tr>
        <td id="L363" class="blob-num js-line-number" data-line-number="363"></td>
        <td id="LC363" class="blob-code js-file-line">      &quot;                stories.append(newstory)\n&quot;,</td>
      </tr>
      <tr>
        <td id="L364" class="blob-num js-line-number" data-line-number="364"></td>
        <td id="LC364" class="blob-code js-file-line">      &quot;    return stories\n&quot;,</td>
      </tr>
      <tr>
        <td id="L365" class="blob-num js-line-number" data-line-number="365"></td>
        <td id="LC365" class="blob-code js-file-line">      &quot;\n&quot;,</td>
      </tr>
      <tr>
        <td id="L366" class="blob-num js-line-number" data-line-number="366"></td>
        <td id="LC366" class="blob-code js-file-line">      &quot;# &lt;codecell&gt;\n&quot;,</td>
      </tr>
      <tr>
        <td id="L367" class="blob-num js-line-number" data-line-number="367"></td>
        <td id="LC367" class="blob-code js-file-line">      &quot;\n&quot;,</td>
      </tr>
      <tr>
        <td id="L368" class="blob-num js-line-number" data-line-number="368"></td>
        <td id="LC368" class="blob-code js-file-line">      &quot;def parse_lines(lines, startidx, name):\n&quot;,</td>
      </tr>
      <tr>
        <td id="L369" class="blob-num js-line-number" data-line-number="369"></td>
        <td id="LC369" class="blob-code js-file-line">      &quot;    thestory = Story()\n&quot;,</td>
      </tr>
      <tr>
        <td id="L370" class="blob-num js-line-number" data-line-number="370"></td>
        <td id="LC370" class="blob-code js-file-line">      &quot;    thestory.kind = name\n&quot;,</td>
      </tr>
      <tr>
        <td id="L371" class="blob-num js-line-number" data-line-number="371"></td>
        <td id="LC371" class="blob-code js-file-line">      &quot;    nextidx = -1\n&quot;,</td>
      </tr>
      <tr>
        <td id="L372" class="blob-num js-line-number" data-line-number="372"></td>
        <td id="LC372" class="blob-code js-file-line">      &quot;    for index,line in enumerate(lines[startidx:]):\n&quot;,</td>
      </tr>
      <tr>
        <td id="L373" class="blob-num js-line-number" data-line-number="373"></td>
        <td id="LC373" class="blob-code js-file-line">      &quot;        if index &gt;= nextidx-startidx:\n&quot;,</td>
      </tr>
      <tr>
        <td id="L374" class="blob-num js-line-number" data-line-number="374"></td>
        <td id="LC374" class="blob-code js-file-line">      &quot;            #print \&quot;%s Line is %s\&quot;%(name, line)\n&quot;,</td>
      </tr>
      <tr>
        <td id="L375" class="blob-num js-line-number" data-line-number="375"></td>
        <td id="LC375" class="blob-code js-file-line">      &quot;            storystart = re.match(\&quot;^\\((\\w+)\&quot;,line)\n&quot;,</td>
      </tr>
      <tr>
        <td id="L376" class="blob-num js-line-number" data-line-number="376"></td>
        <td id="LC376" class="blob-code js-file-line">      &quot;            storyend = re.match(\&quot;\\)%s\&quot;%name, line)\n&quot;,</td>
      </tr>
      <tr>
        <td id="L377" class="blob-num js-line-number" data-line-number="377"></td>
        <td id="LC377" class="blob-code js-file-line">      &quot;            if storyend: # we&#39;ve hit the end of our story; get out and pass it back up\n&quot;,</td>
      </tr>
      <tr>
        <td id="L378" class="blob-num js-line-number" data-line-number="378"></td>
        <td id="LC378" class="blob-code js-file-line">      &quot;                endindex = index\n&quot;,</td>
      </tr>
      <tr>
        <td id="L379" class="blob-num js-line-number" data-line-number="379"></td>
        <td id="LC379" class="blob-code js-file-line">      &quot;                break\n&quot;,</td>
      </tr>
      <tr>
        <td id="L380" class="blob-num js-line-number" data-line-number="380"></td>
        <td id="LC380" class="blob-code js-file-line">      &quot;            elif storystart: # new story; start up a new parse_lines\n&quot;,</td>
      </tr>
      <tr>
        <td id="L381" class="blob-num js-line-number" data-line-number="381"></td>
        <td id="LC381" class="blob-code js-file-line">      &quot;                #print \&quot;in parse_lines, calling parse_lines:\&quot;, startidx+index+1, storystart.group(1)\n&quot;,</td>
      </tr>
      <tr>
        <td id="L382" class="blob-num js-line-number" data-line-number="382"></td>
        <td id="LC382" class="blob-code js-file-line">      &quot;                nextidx, newstory = parse_lines(lines, startidx+index + 1, storystart.group(1))\n&quot;,</td>
      </tr>
      <tr>
        <td id="L383" class="blob-num js-line-number" data-line-number="383"></td>
        <td id="LC383" class="blob-code js-file-line">      &quot;                #print \&quot;back\&quot;, nextidx, str(newstory)\n&quot;,</td>
      </tr>
      <tr>
        <td id="L384" class="blob-num js-line-number" data-line-number="384"></td>
        <td id="LC384" class="blob-code js-file-line">      &quot;                thestory.story_subobjects.append(newstory)\n&quot;,</td>
      </tr>
      <tr>
        <td id="L385" class="blob-num js-line-number" data-line-number="385"></td>
        <td id="LC385" class="blob-code js-file-line">      &quot;            else:\n&quot;,</td>
      </tr>
      <tr>
        <td id="L386" class="blob-num js-line-number" data-line-number="386"></td>
        <td id="LC386" class="blob-code js-file-line">      &quot;                thestory.process_line(line)\n&quot;,</td>
      </tr>
      <tr>
        <td id="L387" class="blob-num js-line-number" data-line-number="387"></td>
        <td id="LC387" class="blob-code js-file-line">      &quot;    return endindex+startidx+1, thestory\n&quot;,</td>
      </tr>
      <tr>
        <td id="L388" class="blob-num js-line-number" data-line-number="388"></td>
        <td id="LC388" class="blob-code js-file-line">      &quot;\n&quot;,</td>
      </tr>
      <tr>
        <td id="L389" class="blob-num js-line-number" data-line-number="389"></td>
        <td id="LC389" class="blob-code js-file-line">      &quot;# &lt;codecell&gt;\n&quot;,</td>
      </tr>
      <tr>
        <td id="L390" class="blob-num js-line-number" data-line-number="390"></td>
        <td id="LC390" class="blob-code js-file-line">      &quot;\n&quot;,</td>
      </tr>
      <tr>
        <td id="L391" class="blob-num js-line-number" data-line-number="391"></td>
        <td id="LC391" class="blob-code js-file-line">      &quot;def extract_particle_dynamics(story):\n&quot;,</td>
      </tr>
      <tr>
        <td id="L392" class="blob-num js-line-number" data-line-number="392"></td>
        <td id="LC392" class="blob-code js-file-line">      &quot;    \&quot;\&quot;\&quot; recursively extract dynamics objects to get masses, positions, and velocities.\n&quot;,</td>
      </tr>
      <tr>
        <td id="L393" class="blob-num js-line-number" data-line-number="393"></td>
        <td id="LC393" class="blob-code js-file-line">      &quot;\n&quot;,</td>
      </tr>
      <tr>
        <td id="L394" class="blob-num js-line-number" data-line-number="394"></td>
        <td id="LC394" class="blob-code js-file-line">      &quot;    Be careful of particles with subparticles.\&quot;\&quot;\&quot;\n&quot;,</td>
      </tr>
      <tr>
        <td id="L395" class="blob-num js-line-number" data-line-number="395"></td>
        <td id="LC395" class="blob-code js-file-line">      &quot;    particles = []\n&quot;,</td>
      </tr>
      <tr>
        <td id="L396" class="blob-num js-line-number" data-line-number="396"></td>
        <td id="LC396" class="blob-code js-file-line">      &quot;    if story.kind == \&quot;Particle\&quot;:\n&quot;,</td>
      </tr>
      <tr>
        <td id="L397" class="blob-num js-line-number" data-line-number="397"></td>
        <td id="LC397" class="blob-code js-file-line">      &quot;        if len(story.story_subobjects) &gt; 4:\n&quot;,</td>
      </tr>
      <tr>
        <td id="L398" class="blob-num js-line-number" data-line-number="398"></td>
        <td id="LC398" class="blob-code js-file-line">      &quot;            # get r, v, as center of mass quantities\n&quot;,</td>
      </tr>
      <tr>
        <td id="L399" class="blob-num js-line-number" data-line-number="399"></td>
        <td id="LC399" class="blob-code js-file-line">      &quot;            for subobj in story.story_subobjects:\n&quot;,</td>
      </tr>
      <tr>
        <td id="L400" class="blob-num js-line-number" data-line-number="400"></td>
        <td id="LC400" class="blob-code js-file-line">      &quot;                if subobj.kind == &#39;Dynamics&#39;:\n&quot;,</td>
      </tr>
      <tr>
        <td id="L401" class="blob-num js-line-number" data-line-number="401"></td>
        <td id="LC401" class="blob-code js-file-line">      &quot;                    xcom, ycom, zcom = subobj.story_vals[&#39;r&#39;].split(\&quot; \&quot;)\n&quot;,</td>
      </tr>
      <tr>
        <td id="L402" class="blob-num js-line-number" data-line-number="402"></td>
        <td id="LC402" class="blob-code js-file-line">      &quot;                    vxcom, vycom, vzcom = subobj.story_vals[&#39;v&#39;].split(\&quot; \&quot;)\n&quot;,</td>
      </tr>
      <tr>
        <td id="L403" class="blob-num js-line-number" data-line-number="403"></td>
        <td id="LC403" class="blob-code js-file-line">      &quot;            # get relative positions and velocities of sub-particles\n&quot;,</td>
      </tr>
      <tr>
        <td id="L404" class="blob-num js-line-number" data-line-number="404"></td>
        <td id="LC404" class="blob-code js-file-line">      &quot;            subparticles = []\n&quot;,</td>
      </tr>
      <tr>
        <td id="L405" class="blob-num js-line-number" data-line-number="405"></td>
        <td id="LC405" class="blob-code js-file-line">      &quot;            for subobj in story.story_subobjects:\n&quot;,</td>
      </tr>
      <tr>
        <td id="L406" class="blob-num js-line-number" data-line-number="406"></td>
        <td id="LC406" class="blob-code js-file-line">      &quot;                if subobj.kind == &#39;Particle&#39;:\n&quot;,</td>
      </tr>
      <tr>
        <td id="L407" class="blob-num js-line-number" data-line-number="407"></td>
        <td id="LC407" class="blob-code js-file-line">      &quot;                    subparticles.extend(extract_particle_dynamics(subobj))\n&quot;,</td>
      </tr>
      <tr>
        <td id="L408" class="blob-num js-line-number" data-line-number="408"></td>
        <td id="LC408" class="blob-code js-file-line">      &quot;                    \n&quot;,</td>
      </tr>
      <tr>
        <td id="L409" class="blob-num js-line-number" data-line-number="409"></td>
        <td id="LC409" class="blob-code js-file-line">      &quot;            # add COM r, v to sub-particles, and append\n&quot;,</td>
      </tr>
      <tr>
        <td id="L410" class="blob-num js-line-number" data-line-number="410"></td>
        <td id="LC410" class="blob-code js-file-line">      &quot;            for particle in subparticles:\n&quot;,</td>
      </tr>
      <tr>
        <td id="L411" class="blob-num js-line-number" data-line-number="411"></td>
        <td id="LC411" class="blob-code js-file-line">      &quot;                particles.append((particle[0] + float(xcom),\n&quot;,</td>
      </tr>
      <tr>
        <td id="L412" class="blob-num js-line-number" data-line-number="412"></td>
        <td id="LC412" class="blob-code js-file-line">      &quot;                                  particle[1] + float(ycom),\n&quot;,</td>
      </tr>
      <tr>
        <td id="L413" class="blob-num js-line-number" data-line-number="413"></td>
        <td id="LC413" class="blob-code js-file-line">      &quot;                                  particle[2] + float(zcom),\n&quot;,</td>
      </tr>
      <tr>
        <td id="L414" class="blob-num js-line-number" data-line-number="414"></td>
        <td id="LC414" class="blob-code js-file-line">      &quot;                                  particle[3] + float(vxcom),\n&quot;,</td>
      </tr>
      <tr>
        <td id="L415" class="blob-num js-line-number" data-line-number="415"></td>
        <td id="LC415" class="blob-code js-file-line">      &quot;                                  particle[4] + float(vycom),\n&quot;,</td>
      </tr>
      <tr>
        <td id="L416" class="blob-num js-line-number" data-line-number="416"></td>
        <td id="LC416" class="blob-code js-file-line">      &quot;                                  particle[5] + float(vzcom),\n&quot;,</td>
      </tr>
      <tr>
        <td id="L417" class="blob-num js-line-number" data-line-number="417"></td>
        <td id="LC417" class="blob-code js-file-line">      &quot;                                  particle[6]))\n&quot;,</td>
      </tr>
      <tr>
        <td id="L418" class="blob-num js-line-number" data-line-number="418"></td>
        <td id="LC418" class="blob-code js-file-line">      &quot;        else: # only 4 subobjects, so this is an individual star\n&quot;,</td>
      </tr>
      <tr>
        <td id="L419" class="blob-num js-line-number" data-line-number="419"></td>
        <td id="LC419" class="blob-code js-file-line">      &quot;            for subobj in story.story_subobjects:\n&quot;,</td>
      </tr>
      <tr>
        <td id="L420" class="blob-num js-line-number" data-line-number="420"></td>
        <td id="LC420" class="blob-code js-file-line">      &quot;                if subobj.kind == &#39;Dynamics&#39;:\n&quot;,</td>
      </tr>
      <tr>
        <td id="L421" class="blob-num js-line-number" data-line-number="421"></td>
        <td id="LC421" class="blob-code js-file-line">      &quot;                    x,y,z = subobj.story_vals[&#39;r&#39;].split(\&quot; \&quot;)\n&quot;,</td>
      </tr>
      <tr>
        <td id="L422" class="blob-num js-line-number" data-line-number="422"></td>
        <td id="LC422" class="blob-code js-file-line">      &quot;                    vx,vy,vz = subobj.story_vals[&#39;v&#39;].split(\&quot; \&quot;)\n&quot;,</td>
      </tr>
      <tr>
        <td id="L423" class="blob-num js-line-number" data-line-number="423"></td>
        <td id="LC423" class="blob-code js-file-line">      &quot;                    m = subobj.story_vals[&#39;m&#39;]\n&quot;,</td>
      </tr>
      <tr>
        <td id="L424" class="blob-num js-line-number" data-line-number="424"></td>
        <td id="LC424" class="blob-code js-file-line">      &quot;                    particles.append((float(x), float(y), float(z), float(vx), float(vy), float(vz), float(m)) )\n&quot;,</td>
      </tr>
      <tr>
        <td id="L425" class="blob-num js-line-number" data-line-number="425"></td>
        <td id="LC425" class="blob-code js-file-line">      &quot;    return particles\n&quot;,</td>
      </tr>
      <tr>
        <td id="L426" class="blob-num js-line-number" data-line-number="426"></td>
        <td id="LC426" class="blob-code js-file-line">      &quot;    \n&quot;,</td>
      </tr>
      <tr>
        <td id="L427" class="blob-num js-line-number" data-line-number="427"></td>
        <td id="LC427" class="blob-code js-file-line">      &quot;# &lt;codecell&gt;\n&quot;,</td>
      </tr>
      <tr>
        <td id="L428" class="blob-num js-line-number" data-line-number="428"></td>
        <td id="LC428" class="blob-code js-file-line">      &quot;\n&quot;,</td>
      </tr>
      <tr>
        <td id="L429" class="blob-num js-line-number" data-line-number="429"></td>
        <td id="LC429" class="blob-code js-file-line">      &quot;def vis_story_3d(story_list):\n&quot;,</td>
      </tr>
      <tr>
        <td id="L430" class="blob-num js-line-number" data-line-number="430"></td>
        <td id="LC430" class="blob-code js-file-line">      &quot;    \&quot;\&quot;\&quot;visualize a story list. \&quot;\&quot;\&quot;\n&quot;,</td>
      </tr>
      <tr>
        <td id="L431" class="blob-num js-line-number" data-line-number="431"></td>
        <td id="LC431" class="blob-code js-file-line">      &quot;    \n&quot;,</td>
      </tr>
      <tr>
        <td id="L432" class="blob-num js-line-number" data-line-number="432"></td>
        <td id="LC432" class="blob-code js-file-line">      &quot;    xvals = []\n&quot;,</td>
      </tr>
      <tr>
        <td id="L433" class="blob-num js-line-number" data-line-number="433"></td>
        <td id="LC433" class="blob-code js-file-line">      &quot;    yvals = []\n&quot;,</td>
      </tr>
      <tr>
        <td id="L434" class="blob-num js-line-number" data-line-number="434"></td>
        <td id="LC434" class="blob-code js-file-line">      &quot;    zvals = []\n&quot;,</td>
      </tr>
      <tr>
        <td id="L435" class="blob-num js-line-number" data-line-number="435"></td>
        <td id="LC435" class="blob-code js-file-line">      &quot;    vxs = []\n&quot;,</td>
      </tr>
      <tr>
        <td id="L436" class="blob-num js-line-number" data-line-number="436"></td>
        <td id="LC436" class="blob-code js-file-line">      &quot;    vys = []\n&quot;,</td>
      </tr>
      <tr>
        <td id="L437" class="blob-num js-line-number" data-line-number="437"></td>
        <td id="LC437" class="blob-code js-file-line">      &quot;    vzs = []\n&quot;,</td>
      </tr>
      <tr>
        <td id="L438" class="blob-num js-line-number" data-line-number="438"></td>
        <td id="LC438" class="blob-code js-file-line">      &quot;    masses = []\n&quot;,</td>
      </tr>
      <tr>
        <td id="L439" class="blob-num js-line-number" data-line-number="439"></td>
        <td id="LC439" class="blob-code js-file-line">      &quot;    \n&quot;,</td>
      </tr>
      <tr>
        <td id="L440" class="blob-num js-line-number" data-line-number="440"></td>
        <td id="LC440" class="blob-code js-file-line">      &quot;    for story in story_list:\n&quot;,</td>
      </tr>
      <tr>
        <td id="L441" class="blob-num js-line-number" data-line-number="441"></td>
        <td id="LC441" class="blob-code js-file-line">      &quot;        partlist = extract_particle_dynamics(story)\n&quot;,</td>
      </tr>
      <tr>
        <td id="L442" class="blob-num js-line-number" data-line-number="442"></td>
        <td id="LC442" class="blob-code js-file-line">      &quot;        \n&quot;,</td>
      </tr>
      <tr>
        <td id="L443" class="blob-num js-line-number" data-line-number="443"></td>
        <td id="LC443" class="blob-code js-file-line">      &quot;    for particle in partlist:\n&quot;,</td>
      </tr>
      <tr>
        <td id="L444" class="blob-num js-line-number" data-line-number="444"></td>
        <td id="LC444" class="blob-code js-file-line">      &quot;        xvals.append(particle[0])\n&quot;,</td>
      </tr>
      <tr>
        <td id="L445" class="blob-num js-line-number" data-line-number="445"></td>
        <td id="LC445" class="blob-code js-file-line">      &quot;        yvals.append(particle[1])\n&quot;,</td>
      </tr>
      <tr>
        <td id="L446" class="blob-num js-line-number" data-line-number="446"></td>
        <td id="LC446" class="blob-code js-file-line">      &quot;        zvals.append(particle[2])\n&quot;,</td>
      </tr>
      <tr>
        <td id="L447" class="blob-num js-line-number" data-line-number="447"></td>
        <td id="LC447" class="blob-code js-file-line">      &quot;        vxs.append(particle[3])\n&quot;,</td>
      </tr>
      <tr>
        <td id="L448" class="blob-num js-line-number" data-line-number="448"></td>
        <td id="LC448" class="blob-code js-file-line">      &quot;        vys.append(particle[4])\n&quot;,</td>
      </tr>
      <tr>
        <td id="L449" class="blob-num js-line-number" data-line-number="449"></td>
        <td id="LC449" class="blob-code js-file-line">      &quot;        vzs.append(particle[5])\n&quot;,</td>
      </tr>
      <tr>
        <td id="L450" class="blob-num js-line-number" data-line-number="450"></td>
        <td id="LC450" class="blob-code js-file-line">      &quot;        masses.append(particle[6])\n&quot;,</td>
      </tr>
      <tr>
        <td id="L451" class="blob-num js-line-number" data-line-number="451"></td>
        <td id="LC451" class="blob-code js-file-line">      &quot;        \n&quot;,</td>
      </tr>
      <tr>
        <td id="L452" class="blob-num js-line-number" data-line-number="452"></td>
        <td id="LC452" class="blob-code js-file-line">      &quot;    # now do the plot\n&quot;,</td>
      </tr>
      <tr>
        <td id="L453" class="blob-num js-line-number" data-line-number="453"></td>
        <td id="LC453" class="blob-code js-file-line">      &quot;    fig = plt.figure(figsize=(10,10))\n&quot;,</td>
      </tr>
      <tr>
        <td id="L454" class="blob-num js-line-number" data-line-number="454"></td>
        <td id="LC454" class="blob-code js-file-line">      &quot;    ax = fig.gca(projection=&#39;3d&#39;)\n&quot;,</td>
      </tr>
      <tr>
        <td id="L455" class="blob-num js-line-number" data-line-number="455"></td>
        <td id="LC455" class="blob-code js-file-line">      &quot;    ax.plot(np.array(xvals), np.array(yvals), np.array(zvals), \&quot;.\&quot;)\n&quot;,</td>
      </tr>
      <tr>
        <td id="L456" class="blob-num js-line-number" data-line-number="456"></td>
        <td id="LC456" class="blob-code js-file-line">      &quot;\n&quot;,</td>
      </tr>
      <tr>
        <td id="L457" class="blob-num js-line-number" data-line-number="457"></td>
        <td id="LC457" class="blob-code js-file-line">      &quot;# &lt;codecell&gt;\n&quot;,</td>
      </tr>
      <tr>
        <td id="L458" class="blob-num js-line-number" data-line-number="458"></td>
        <td id="LC458" class="blob-code js-file-line">      &quot;\n&quot;,</td>
      </tr>
      <tr>
        <td id="L459" class="blob-num js-line-number" data-line-number="459"></td>
        <td id="LC459" class="blob-code js-file-line">      &quot;def premain(startn):\n&quot;,</td>
      </tr>
      <tr>
        <td id="L460" class="blob-num js-line-number" data-line-number="460"></td>
        <td id="LC460" class="blob-code js-file-line">      &quot;    \&quot;\&quot;\&quot;Run a plummer model for 10 dynamical times and return the number of stars remaining.\&quot;\&quot;\&quot;\n&quot;,</td>
      </tr>
      <tr>
        <td id="L461" class="blob-num js-line-number" data-line-number="461"></td>
        <td id="LC461" class="blob-code js-file-line">      &quot;    from subprocess import Popen, PIPE\n&quot;,</td>
      </tr>
      <tr>
        <td id="L462" class="blob-num js-line-number" data-line-number="462"></td>
        <td id="LC462" class="blob-code js-file-line">      &quot;    \n&quot;,</td>
      </tr>
      <tr>
        <td id="L463" class="blob-num js-line-number" data-line-number="463"></td>
        <td id="LC463" class="blob-code js-file-line">      &quot;    print \&quot;running %d particles\&quot; % startn\n&quot;,</td>
      </tr>
      <tr>
        <td id="L464" class="blob-num js-line-number" data-line-number="464"></td>
        <td id="LC464" class="blob-code js-file-line">      &quot;    cmds = []\n&quot;,</td>
      </tr>
      <tr>
        <td id="L465" class="blob-num js-line-number" data-line-number="465"></td>
        <td id="LC465" class="blob-code js-file-line">      &quot;\n&quot;,</td>
      </tr>
      <tr>
        <td id="L466" class="blob-num js-line-number" data-line-number="466"></td>
        <td id="LC466" class="blob-code js-file-line">      &quot;    cmds.append([\&quot;makeplummer\&quot;, \&quot;-n\&quot;, \&quot;%d\&quot;%startn, \&quot;-i\&quot;])\n&quot;,</td>
      </tr>
      <tr>
        <td id="L467" class="blob-num js-line-number" data-line-number="467"></td>
        <td id="LC467" class="blob-code js-file-line">      &quot;    cmds.append([\&quot;kira\&quot;, \&quot;-t\&quot;, \&quot;10\&quot;, \&quot;-d\&quot;, \&quot;1\&quot;, \&quot;-D\&quot;, \&quot;2\&quot;, \&quot;-n\&quot;, \&quot;10\&quot;, \&quot;-q\&quot;, \&quot;0.5\&quot;, \&quot;-G\&quot;, \&quot;2\&quot;])\n&quot;,</td>
      </tr>
      <tr>
        <td id="L468" class="blob-num js-line-number" data-line-number="468"></td>
        <td id="LC468" class="blob-code js-file-line">      &quot;    procs = []\n&quot;,</td>
      </tr>
      <tr>
        <td id="L469" class="blob-num js-line-number" data-line-number="469"></td>
        <td id="LC469" class="blob-code js-file-line">      &quot;    for index, cmd in enumerate(cmds):\n&quot;,</td>
      </tr>
      <tr>
        <td id="L470" class="blob-num js-line-number" data-line-number="470"></td>
        <td id="LC470" class="blob-code js-file-line">      &quot;        print index, cmd\n&quot;,</td>
      </tr>
      <tr>
        <td id="L471" class="blob-num js-line-number" data-line-number="471"></td>
        <td id="LC471" class="blob-code js-file-line">      &quot;        if index &gt; 0:\n&quot;,</td>
      </tr>
      <tr>
        <td id="L472" class="blob-num js-line-number" data-line-number="472"></td>
        <td id="LC472" class="blob-code js-file-line">      &quot;            procs.append(Popen(cmd, stdout=PIPE, stderr=PIPE, stdin=procs[index-1].stdout))\n&quot;,</td>
      </tr>
      <tr>
        <td id="L473" class="blob-num js-line-number" data-line-number="473"></td>
        <td id="LC473" class="blob-code js-file-line">      &quot;        else:\n&quot;,</td>
      </tr>
      <tr>
        <td id="L474" class="blob-num js-line-number" data-line-number="474"></td>
        <td id="LC474" class="blob-code js-file-line">      &quot;            procs.append(Popen(cmd, stdout=PIPE, stderr=PIPE))\n&quot;,</td>
      </tr>
      <tr>
        <td id="L475" class="blob-num js-line-number" data-line-number="475"></td>
        <td id="LC475" class="blob-code js-file-line">      &quot;    inp = procs[-1].stdout\n&quot;,</td>
      </tr>
      <tr>
        <td id="L476" class="blob-num js-line-number" data-line-number="476"></td>
        <td id="LC476" class="blob-code js-file-line">      &quot;    \n&quot;,</td>
      </tr>
      <tr>
        <td id="L477" class="blob-num js-line-number" data-line-number="477"></td>
        <td id="LC477" class="blob-code js-file-line">      &quot;    result = procs[-1].communicate()\n&quot;,</td>
      </tr>
      <tr>
        <td id="L478" class="blob-num js-line-number" data-line-number="478"></td>
        <td id="LC478" class="blob-code js-file-line">      &quot;    slist = parse_output(result[0])\n&quot;,</td>
      </tr>
      <tr>
        <td id="L479" class="blob-num js-line-number" data-line-number="479"></td>
        <td id="LC479" class="blob-code js-file-line">      &quot;    return len(extract_particle_dynamics(slist[-1]))\n&quot;,</td>
      </tr>
      <tr>
        <td id="L480" class="blob-num js-line-number" data-line-number="480"></td>
        <td id="LC480" class="blob-code js-file-line">      &quot;\n&quot;,</td>
      </tr>
      <tr>
        <td id="L481" class="blob-num js-line-number" data-line-number="481"></td>
        <td id="LC481" class="blob-code js-file-line">      &quot;# &lt;codecell&gt;\n&quot;,</td>
      </tr>
      <tr>
        <td id="L482" class="blob-num js-line-number" data-line-number="482"></td>
        <td id="LC482" class="blob-code js-file-line">      &quot;\n&quot;,</td>
      </tr>
      <tr>
        <td id="L483" class="blob-num js-line-number" data-line-number="483"></td>
        <td id="LC483" class="blob-code js-file-line">      &quot;def grab_energies(slist):\n&quot;,</td>
      </tr>
      <tr>
        <td id="L484" class="blob-num js-line-number" data-line-number="484"></td>
        <td id="LC484" class="blob-code js-file-line">      &quot;    times = []\n&quot;,</td>
      </tr>
      <tr>
        <td id="L485" class="blob-num js-line-number" data-line-number="485"></td>
        <td id="LC485" class="blob-code js-file-line">      &quot;    energies = []\n&quot;,</td>
      </tr>
      <tr>
        <td id="L486" class="blob-num js-line-number" data-line-number="486"></td>
        <td id="LC486" class="blob-code js-file-line">      &quot;    kinetics = []\n&quot;,</td>
      </tr>
      <tr>
        <td id="L487" class="blob-num js-line-number" data-line-number="487"></td>
        <td id="LC487" class="blob-code js-file-line">      &quot;    potentials = []\n&quot;,</td>
      </tr>
      <tr>
        <td id="L488" class="blob-num js-line-number" data-line-number="488"></td>
        <td id="LC488" class="blob-code js-file-line">      &quot;    for story in slist:\n&quot;,</td>
      </tr>
      <tr>
        <td id="L489" class="blob-num js-line-number" data-line-number="489"></td>
        <td id="LC489" class="blob-code js-file-line">      &quot;        times.append(float(slist.story_subobjects[1].story_vals[&#39;t&#39;]))\n&quot;,</td>
      </tr>
      <tr>
        <td id="L490" class="blob-num js-line-number" data-line-number="490"></td>
        <td id="LC490" class="blob-code js-file-line">      &quot;        energies.append(float(slist.story_subobjects[1].story_vals[&#39;total_energy&#39;]))\n&quot;,</td>
      </tr>
      <tr>
        <td id="L491" class="blob-num js-line-number" data-line-number="491"></td>
        <td id="LC491" class="blob-code js-file-line">      &quot;        kinetics.append(float(slist.story_subobjects[1].story_vals[&#39;kinetic_energy&#39;]))\n&quot;,</td>
      </tr>
      <tr>
        <td id="L492" class="blob-num js-line-number" data-line-number="492"></td>
        <td id="LC492" class="blob-code js-file-line">      &quot;        potentials.append(float(slist.story_subobjects[1].story_vals[&#39;potential_energy&#39;]))\n&quot;,</td>
      </tr>
      <tr>
        <td id="L493" class="blob-num js-line-number" data-line-number="493"></td>
        <td id="LC493" class="blob-code js-file-line">      &quot;    return times, energies, kinetics, potentials\n&quot;,</td>
      </tr>
      <tr>
        <td id="L494" class="blob-num js-line-number" data-line-number="494"></td>
        <td id="LC494" class="blob-code js-file-line">      &quot;# &lt;codecell&gt;\n&quot;,</td>
      </tr>
      <tr>
        <td id="L495" class="blob-num js-line-number" data-line-number="495"></td>
        <td id="LC495" class="blob-code js-file-line">      &quot;\n&quot;,</td>
      </tr>
      <tr>
        <td id="L496" class="blob-num js-line-number" data-line-number="496"></td>
        <td id="LC496" class="blob-code js-file-line">      &quot;def l2norm(E, U, T):\n&quot;,</td>
      </tr>
      <tr>
        <td id="L497" class="blob-num js-line-number" data-line-number="497"></td>
        <td id="LC497" class="blob-code js-file-line">      &quot;    U0 = 2*E[0]\n&quot;,</td>
      </tr>
      <tr>
        <td id="L498" class="blob-num js-line-number" data-line-number="498"></td>
        <td id="LC498" class="blob-code js-file-line">      &quot;    T0 = -E[0]\n&quot;,</td>
      </tr>
      <tr>
        <td id="L499" class="blob-num js-line-number" data-line-number="499"></td>
        <td id="LC499" class="blob-code js-file-line">      &quot;    l2U = sum((np.array(U)-U0)**2)\n&quot;,</td>
      </tr>
      <tr>
        <td id="L500" class="blob-num js-line-number" data-line-number="500"></td>
        <td id="LC500" class="blob-code js-file-line">      &quot;    l2T = sum((np.array(T)-T0)**2)\n&quot;,</td>
      </tr>
      <tr>
        <td id="L501" class="blob-num js-line-number" data-line-number="501"></td>
        <td id="LC501" class="blob-code js-file-line">      &quot;    return l2U, l2T\n&quot;,</td>
      </tr>
      <tr>
        <td id="L502" class="blob-num js-line-number" data-line-number="502"></td>
        <td id="LC502" class="blob-code js-file-line">      &quot;\n&quot;,</td>
      </tr>
      <tr>
        <td id="L503" class="blob-num js-line-number" data-line-number="503"></td>
        <td id="LC503" class="blob-code js-file-line">      &quot;# &lt;codecell&gt;\n&quot;,</td>
      </tr>
      <tr>
        <td id="L504" class="blob-num js-line-number" data-line-number="504"></td>
        <td id="LC504" class="blob-code js-file-line">      &quot;\n&quot;,</td>
      </tr>
      <tr>
        <td id="L505" class="blob-num js-line-number" data-line-number="505"></td>
        <td id="LC505" class="blob-code js-file-line">      &quot;def fs_process_commands(cmds):\n&quot;,</td>
      </tr>
      <tr>
        <td id="L506" class="blob-num js-line-number" data-line-number="506"></td>
        <td id="LC506" class="blob-code js-file-line">      &quot;    \&quot;\&quot;\&quot;Process commands, storing the results on the filesystem.\&quot;\&quot;\&quot;\n&quot;,</td>
      </tr>
      <tr>
        <td id="L507" class="blob-num js-line-number" data-line-number="507"></td>
        <td id="LC507" class="blob-code js-file-line">      &quot;    procs = []\n&quot;,</td>
      </tr>
      <tr>
        <td id="L508" class="blob-num js-line-number" data-line-number="508"></td>
        <td id="LC508" class="blob-code js-file-line">      &quot;    for index, cmd in enumerate(cmds):\n&quot;,</td>
      </tr>
      <tr>
        <td id="L509" class="blob-num js-line-number" data-line-number="509"></td>
        <td id="LC509" class="blob-code js-file-line">      &quot;        if index &gt; 0:\n&quot;,</td>
      </tr>
      <tr>
        <td id="L510" class="blob-num js-line-number" data-line-number="510"></td>
        <td id="LC510" class="blob-code js-file-line">      &quot;            procs.append(Popen(cmd, stdout=PIPE, stdin=procs[index-1].stdout))\n&quot;,</td>
      </tr>
      <tr>
        <td id="L511" class="blob-num js-line-number" data-line-number="511"></td>
        <td id="LC511" class="blob-code js-file-line">      &quot;        else:\n&quot;,</td>
      </tr>
      <tr>
        <td id="L512" class="blob-num js-line-number" data-line-number="512"></td>
        <td id="LC512" class="blob-code js-file-line">      &quot;            procs.append(Popen(cmd, stdout=PIPE))\n&quot;,</td>
      </tr>
      <tr>
        <td id="L513" class="blob-num js-line-number" data-line-number="513"></td>
        <td id="LC513" class="blob-code js-file-line">      &quot;        inp = procs[-1].stdout\n&quot;,</td>
      </tr>
      <tr>
        <td id="L514" class="blob-num js-line-number" data-line-number="514"></td>
        <td id="LC514" class="blob-code js-file-line">      &quot;    result = procs[-1].communicate()\n&quot;,</td>
      </tr>
      <tr>
        <td id="L515" class="blob-num js-line-number" data-line-number="515"></td>
        <td id="LC515" class="blob-code js-file-line">      &quot;\n&quot;,</td>
      </tr>
      <tr>
        <td id="L516" class="blob-num js-line-number" data-line-number="516"></td>
        <td id="LC516" class="blob-code js-file-line">      &quot;    theuuid = uuid.uuid1()\n&quot;,</td>
      </tr>
      <tr>
        <td id="L517" class="blob-num js-line-number" data-line-number="517"></td>
        <td id="LC517" class="blob-code js-file-line">      &quot;    storename = str(theuuid)+\&quot;.kiraout\&quot;\n&quot;,</td>
      </tr>
      <tr>
        <td id="L518" class="blob-num js-line-number" data-line-number="518"></td>
        <td id="LC518" class="blob-code js-file-line">      &quot;\n&quot;,</td>
      </tr>
      <tr>
        <td id="L519" class="blob-num js-line-number" data-line-number="519"></td>
        <td id="LC519" class="blob-code js-file-line">      &quot;    #if not os.path.isdir(warehousepath):\n&quot;,</td>
      </tr>
      <tr>
        <td id="L520" class="blob-num js-line-number" data-line-number="520"></td>
        <td id="LC520" class="blob-code js-file-line">      &quot;    #    os.makedirs(warehousepath)\n&quot;,</td>
      </tr>
      <tr>
        <td id="L521" class="blob-num js-line-number" data-line-number="521"></td>
        <td id="LC521" class="blob-code js-file-line">      &quot;\n&quot;,</td>
      </tr>
      <tr>
        <td id="L522" class="blob-num js-line-number" data-line-number="522"></td>
        <td id="LC522" class="blob-code js-file-line">      &quot;    store = open(warehousepath+storename, \&quot;w\&quot;)\n&quot;,</td>
      </tr>
      <tr>
        <td id="L523" class="blob-num js-line-number" data-line-number="523"></td>
        <td id="LC523" class="blob-code js-file-line">      &quot;        \n&quot;,</td>
      </tr>
      <tr>
        <td id="L524" class="blob-num js-line-number" data-line-number="524"></td>
        <td id="LC524" class="blob-code js-file-line">      &quot;    store.write(result[0])\n&quot;,</td>
      </tr>
      <tr>
        <td id="L525" class="blob-num js-line-number" data-line-number="525"></td>
        <td id="LC525" class="blob-code js-file-line">      &quot;    store.close()\n&quot;,</td>
      </tr>
      <tr>
        <td id="L526" class="blob-num js-line-number" data-line-number="526"></td>
        <td id="LC526" class="blob-code js-file-line">      &quot;    \n&quot;,</td>
      </tr>
      <tr>
        <td id="L527" class="blob-num js-line-number" data-line-number="527"></td>
        <td id="LC527" class="blob-code js-file-line">      &quot;    return theuuid\n&quot;,</td>
      </tr>
      <tr>
        <td id="L528" class="blob-num js-line-number" data-line-number="528"></td>
        <td id="LC528" class="blob-code js-file-line">      &quot;\n&quot;,</td>
      </tr>
      <tr>
        <td id="L529" class="blob-num js-line-number" data-line-number="529"></td>
        <td id="LC529" class="blob-code js-file-line">      &quot;# &lt;codecell&gt;\n&quot;,</td>
      </tr>
      <tr>
        <td id="L530" class="blob-num js-line-number" data-line-number="530"></td>
        <td id="LC530" class="blob-code js-file-line">      &quot;def fs_panel(storename):\n&quot;,</td>
      </tr>
      <tr>
        <td id="L531" class="blob-num js-line-number" data-line-number="531"></td>
        <td id="LC531" class="blob-code js-file-line">      &quot;    \&quot;\&quot;\&quot;Grab a story list from the filesystem and turn it into a pandas panel.\&quot;\&quot;\&quot;\n&quot;,</td>
      </tr>
      <tr>
        <td id="L532" class="blob-num js-line-number" data-line-number="532"></td>
        <td id="LC532" class="blob-code js-file-line">      &quot;    infile = open(storename, &#39;rb&#39;)\n&quot;,</td>
      </tr>
      <tr>
        <td id="L533" class="blob-num js-line-number" data-line-number="533"></td>
        <td id="LC533" class="blob-code js-file-line">      &quot;    partstart = re.compile(\&quot;^\\(Particle\&quot;)\n&quot;,</td>
      </tr>
      <tr>
        <td id="L534" class="blob-num js-line-number" data-line-number="534"></td>
        <td id="LC534" class="blob-code js-file-line">      &quot;    partend = re.compile(\&quot;^\\)Particle\&quot;)\n&quot;,</td>
      </tr>
      <tr>
        <td id="L535" class="blob-num js-line-number" data-line-number="535"></td>
        <td id="LC535" class="blob-code js-file-line">      &quot;    dynstart = re.compile(\&quot;^\\(Dynamics\&quot;)\n&quot;,</td>
      </tr>
      <tr>
        <td id="L536" class="blob-num js-line-number" data-line-number="536"></td>
        <td id="LC536" class="blob-code js-file-line">      &quot;    dynend = re.compile(\&quot;^\\)Dynamics\&quot;)\n&quot;,</td>
      </tr>
      <tr>
        <td id="L537" class="blob-num js-line-number" data-line-number="537"></td>
        <td id="LC537" class="blob-code js-file-line">      &quot;\n&quot;,</td>
      </tr>
      <tr>
        <td id="L538" class="blob-num js-line-number" data-line-number="538"></td>
        <td id="LC538" class="blob-code js-file-line">      &quot;    snap = 0\n&quot;,</td>
      </tr>
      <tr>
        <td id="L539" class="blob-num js-line-number" data-line-number="539"></td>
        <td id="LC539" class="blob-code js-file-line">      &quot;    insnap = False\n&quot;,</td>
      </tr>
      <tr>
        <td id="L540" class="blob-num js-line-number" data-line-number="540"></td>
        <td id="LC540" class="blob-code js-file-line">      &quot;    panbase = pd.Panel()\n&quot;,</td>
      </tr>
      <tr>
        <td id="L541" class="blob-num js-line-number" data-line-number="541"></td>
        <td id="LC541" class="blob-code js-file-line">      &quot;    \n&quot;,</td>
      </tr>
      <tr>
        <td id="L542" class="blob-num js-line-number" data-line-number="542"></td>
        <td id="LC542" class="blob-code js-file-line">      &quot;    for line in infile:\n&quot;,</td>
      </tr>
      <tr>
        <td id="L543" class="blob-num js-line-number" data-line-number="543"></td>
        <td id="LC543" class="blob-code js-file-line">      &quot;        if partstart.match(line):\n&quot;,</td>
      </tr>
      <tr>
        <td id="L544" class="blob-num js-line-number" data-line-number="544"></td>
        <td id="LC544" class="blob-code js-file-line">      &quot;            pass\n&quot;,</td>
      </tr>
      <tr>
        <td id="L545" class="blob-num js-line-number" data-line-number="545"></td>
        <td id="LC545" class="blob-code js-file-line">      &quot;        elif partend.match(line):\n&quot;,</td>
      </tr>
      <tr>
        <td id="L546" class="blob-num js-line-number" data-line-number="546"></td>
        <td id="LC546" class="blob-code js-file-line">      &quot;            pass\n&quot;,</td>
      </tr>
      <tr>
        <td id="L547" class="blob-num js-line-number" data-line-number="547"></td>
        <td id="LC547" class="blob-code js-file-line">      &quot;        elif dynstart.match(line):\n&quot;,</td>
      </tr>
      <tr>
        <td id="L548" class="blob-num js-line-number" data-line-number="548"></td>
        <td id="LC548" class="blob-code js-file-line">      &quot;            pass\n&quot;,</td>
      </tr>
      <tr>
        <td id="L549" class="blob-num js-line-number" data-line-number="549"></td>
        <td id="LC549" class="blob-code js-file-line">      &quot;        elif dynend.match(line):\n&quot;,</td>
      </tr>
      <tr>
        <td id="L550" class="blob-num js-line-number" data-line-number="550"></td>
        <td id="LC550" class="blob-code js-file-line">      &quot;            pass\n&quot;,</td>
      </tr>
      <tr>
        <td id="L551" class="blob-num js-line-number" data-line-number="551"></td>
        <td id="LC551" class="blob-code js-file-line">      &quot;        \n&quot;,</td>
      </tr>
      <tr>
        <td id="L552" class="blob-num js-line-number" data-line-number="552"></td>
        <td id="LC552" class="blob-code js-file-line">      &quot;    return pan\n&quot;,</td>
      </tr>
      <tr>
        <td id="L553" class="blob-num js-line-number" data-line-number="553"></td>
        <td id="LC553" class="blob-code js-file-line">      &quot;\n&quot;,</td>
      </tr>
      <tr>
        <td id="L554" class="blob-num js-line-number" data-line-number="554"></td>
        <td id="LC554" class="blob-code js-file-line">      &quot;\n&quot;,</td>
      </tr>
      <tr>
        <td id="L555" class="blob-num js-line-number" data-line-number="555"></td>
        <td id="LC555" class="blob-code js-file-line">      &quot;# &lt;codecell&gt;\n&quot;,</td>
      </tr>
      <tr>
        <td id="L556" class="blob-num js-line-number" data-line-number="556"></td>
        <td id="LC556" class="blob-code js-file-line">      &quot;def kiraout_to_xml(theuuid):\n&quot;,</td>
      </tr>
      <tr>
        <td id="L557" class="blob-num js-line-number" data-line-number="557"></td>
        <td id="LC557" class="blob-code js-file-line">      &quot;    storebase = str(theuuid)\n&quot;,</td>
      </tr>
      <tr>
        <td id="L558" class="blob-num js-line-number" data-line-number="558"></td>
        <td id="LC558" class="blob-code js-file-line">      &quot;    storename = str(theuuid)+\&quot;.kiraout\&quot;\n&quot;,</td>
      </tr>
      <tr>
        <td id="L559" class="blob-num js-line-number" data-line-number="559"></td>
        <td id="LC559" class="blob-code js-file-line">      &quot;    \n&quot;,</td>
      </tr>
      <tr>
        <td id="L560" class="blob-num js-line-number" data-line-number="560"></td>
        <td id="LC560" class="blob-code js-file-line">      &quot;    xmlframes = []\n&quot;,</td>
      </tr>
      <tr>
        <td id="L561" class="blob-num js-line-number" data-line-number="561"></td>
        <td id="LC561" class="blob-code js-file-line">      &quot;\n&quot;,</td>
      </tr>
      <tr>
        <td id="L562" class="blob-num js-line-number" data-line-number="562"></td>
        <td id="LC562" class="blob-code js-file-line">      &quot;    frame = 0\n&quot;,</td>
      </tr>
      <tr>
        <td id="L563" class="blob-num js-line-number" data-line-number="563"></td>
        <td id="LC563" class="blob-code js-file-line">      &quot;    nframes = 0\n&quot;,</td>
      </tr>
      <tr>
        <td id="L564" class="blob-num js-line-number" data-line-number="564"></td>
        <td id="LC564" class="blob-code js-file-line">      &quot;    level = 0\n&quot;,</td>
      </tr>
      <tr>
        <td id="L565" class="blob-num js-line-number" data-line-number="565"></td>
        <td id="LC565" class="blob-code js-file-line">      &quot;    \n&quot;,</td>
      </tr>
      <tr>
        <td id="L566" class="blob-num js-line-number" data-line-number="566"></td>
        <td id="LC566" class="blob-code js-file-line">      &quot;    store = open(warehousepath+storename, \&quot;rb\&quot;)\n&quot;,</td>
      </tr>
      <tr>
        <td id="L567" class="blob-num js-line-number" data-line-number="567"></td>
        <td id="LC567" class="blob-code js-file-line">      &quot;\n&quot;,</td>
      </tr>
      <tr>
        <td id="L568" class="blob-num js-line-number" data-line-number="568"></td>
        <td id="LC568" class="blob-code js-file-line">      &quot;    storystart = re.compile(\&quot;^\\((\\w+)\&quot;)\n&quot;,</td>
      </tr>
      <tr>
        <td id="L569" class="blob-num js-line-number" data-line-number="569"></td>
        <td id="LC569" class="blob-code js-file-line">      &quot;    storyend = re.compile(\&quot;^\\)(\\w+)\&quot;)\n&quot;,</td>
      </tr>
      <tr>
        <td id="L570" class="blob-num js-line-number" data-line-number="570"></td>
        <td id="LC570" class="blob-code js-file-line">      &quot;\n&quot;,</td>
      </tr>
      <tr>
        <td id="L571" class="blob-num js-line-number" data-line-number="571"></td>
        <td id="LC571" class="blob-code js-file-line">      &quot;    for line in store:\n&quot;,</td>
      </tr>
      <tr>
        <td id="L572" class="blob-num js-line-number" data-line-number="572"></td>
        <td id="LC572" class="blob-code js-file-line">      &quot;        if storystart.match(line):\n&quot;,</td>
      </tr>
      <tr>
        <td id="L573" class="blob-num js-line-number" data-line-number="573"></td>
        <td id="LC573" class="blob-code js-file-line">      &quot;            #print \&quot;entering: %s, %d\&quot; % (storystart.match(line).group(1), level)\n&quot;,</td>
      </tr>
      <tr>
        <td id="L574" class="blob-num js-line-number" data-line-number="574"></td>
        <td id="LC574" class="blob-code js-file-line">      &quot;            if level==0:\n&quot;,</td>
      </tr>
      <tr>
        <td id="L575" class="blob-num js-line-number" data-line-number="575"></td>
        <td id="LC575" class="blob-code js-file-line">      &quot;                nframes += 1\n&quot;,</td>
      </tr>
      <tr>
        <td id="L576" class="blob-num js-line-number" data-line-number="576"></td>
        <td id="LC576" class="blob-code js-file-line">      &quot;                xmlname = storebase + \&quot;.%d.xml\&quot; % frame\n&quot;,</td>
      </tr>
      <tr>
        <td id="L577" class="blob-num js-line-number" data-line-number="577"></td>
        <td id="LC577" class="blob-code js-file-line">      &quot;                xmlframes.append(xmlname)\n&quot;,</td>
      </tr>
      <tr>
        <td id="L578" class="blob-num js-line-number" data-line-number="578"></td>
        <td id="LC578" class="blob-code js-file-line">      &quot;                xmlfile = open(warehousepath+xmlname, \&quot;wb\&quot;)\n&quot;,</td>
      </tr>
      <tr>
        <td id="L579" class="blob-num js-line-number" data-line-number="579"></td>
        <td id="LC579" class="blob-code js-file-line">      &quot;                xmlfile.write(&#39;&lt;?xml version=\&quot;1.0\&quot; encoding=\&quot;ISO-8859-1\&quot;?&gt;&#39;)\n&quot;,</td>
      </tr>
      <tr>
        <td id="L580" class="blob-num js-line-number" data-line-number="580"></td>
        <td id="LC580" class="blob-code js-file-line">      &quot;            level += 1\n&quot;,</td>
      </tr>
      <tr>
        <td id="L581" class="blob-num js-line-number" data-line-number="581"></td>
        <td id="LC581" class="blob-code js-file-line">      &quot;            xmlfile.write(\&quot;&lt;%s&gt;\\n\&quot;%storystart.match(line).group(1))\n&quot;,</td>
      </tr>
      <tr>
        <td id="L582" class="blob-num js-line-number" data-line-number="582"></td>
        <td id="LC582" class="blob-code js-file-line">      &quot;        elif storyend.match(line):\n&quot;,</td>
      </tr>
      <tr>
        <td id="L583" class="blob-num js-line-number" data-line-number="583"></td>
        <td id="LC583" class="blob-code js-file-line">      &quot;            #print \&quot;leaving: %s, %d\&quot; % (storyend.match(line).group(1), level)\n&quot;,</td>
      </tr>
      <tr>
        <td id="L584" class="blob-num js-line-number" data-line-number="584"></td>
        <td id="LC584" class="blob-code js-file-line">      &quot;            level -= 1\n&quot;,</td>
      </tr>
      <tr>
        <td id="L585" class="blob-num js-line-number" data-line-number="585"></td>
        <td id="LC585" class="blob-code js-file-line">      &quot;            xmlfile.write(\&quot;&lt;/%s&gt;\\n\&quot;%storyend.match(line).group(1))\n&quot;,</td>
      </tr>
      <tr>
        <td id="L586" class="blob-num js-line-number" data-line-number="586"></td>
        <td id="LC586" class="blob-code js-file-line">      &quot;            if level == 0:\n&quot;,</td>
      </tr>
      <tr>
        <td id="L587" class="blob-num js-line-number" data-line-number="587"></td>
        <td id="LC587" class="blob-code js-file-line">      &quot;                frame += 1\n&quot;,</td>
      </tr>
      <tr>
        <td id="L588" class="blob-num js-line-number" data-line-number="588"></td>
        <td id="LC588" class="blob-code js-file-line">      &quot;                xmlfile.close()\n&quot;,</td>
      </tr>
      <tr>
        <td id="L589" class="blob-num js-line-number" data-line-number="589"></td>
        <td id="LC589" class="blob-code js-file-line">      &quot;        else:\n&quot;,</td>
      </tr>
      <tr>
        <td id="L590" class="blob-num js-line-number" data-line-number="590"></td>
        <td id="LC590" class="blob-code js-file-line">      &quot;            chunks = re.split(\&quot;=\&quot;, line)\n&quot;,</td>
      </tr>
      <tr>
        <td id="L591" class="blob-num js-line-number" data-line-number="591"></td>
        <td id="LC591" class="blob-code js-file-line">      &quot;            if len(chunks) == 2:\n&quot;,</td>
      </tr>
      <tr>
        <td id="L592" class="blob-num js-line-number" data-line-number="592"></td>
        <td id="LC592" class="blob-code js-file-line">      &quot;                xmlfile.write(\&quot;&lt;value %s=\\\&quot;%s\\\&quot; /&gt;\\n\&quot; %(re.sub(\&quot;\\,* \&quot;,\&quot;_\&quot;,chunks[0].strip()), chunks[1].strip()))\n&quot;,</td>
      </tr>
      <tr>
        <td id="L593" class="blob-num js-line-number" data-line-number="593"></td>
        <td id="LC593" class="blob-code js-file-line">      &quot;            else:\n&quot;,</td>
      </tr>
      <tr>
        <td id="L594" class="blob-num js-line-number" data-line-number="594"></td>
        <td id="LC594" class="blob-code js-file-line">      &quot;                xmlfile.write(line)\n&quot;,</td>
      </tr>
      <tr>
        <td id="L595" class="blob-num js-line-number" data-line-number="595"></td>
        <td id="LC595" class="blob-code js-file-line">      &quot;\n&quot;,</td>
      </tr>
      <tr>
        <td id="L596" class="blob-num js-line-number" data-line-number="596"></td>
        <td id="LC596" class="blob-code js-file-line">      &quot;    store.close()\n&quot;,</td>
      </tr>
      <tr>
        <td id="L597" class="blob-num js-line-number" data-line-number="597"></td>
        <td id="LC597" class="blob-code js-file-line">      &quot;    return nframes\n&quot;,</td>
      </tr>
      <tr>
        <td id="L598" class="blob-num js-line-number" data-line-number="598"></td>
        <td id="LC598" class="blob-code js-file-line">      &quot;\n&quot;,</td>
      </tr>
      <tr>
        <td id="L599" class="blob-num js-line-number" data-line-number="599"></td>
        <td id="LC599" class="blob-code js-file-line">      &quot;# &lt;codecell&gt;\n&quot;,</td>
      </tr>
      <tr>
        <td id="L600" class="blob-num js-line-number" data-line-number="600"></td>
        <td id="LC600" class="blob-code js-file-line">      &quot;\n&quot;,</td>
      </tr>
      <tr>
        <td id="L601" class="blob-num js-line-number" data-line-number="601"></td>
        <td id="LC601" class="blob-code js-file-line">      &quot;\n&quot;,</td>
      </tr>
      <tr>
        <td id="L602" class="blob-num js-line-number" data-line-number="602"></td>
        <td id="LC602" class="blob-code js-file-line">      &quot;def quantile_radius(pan, quant):\n&quot;,</td>
      </tr>
      <tr>
        <td id="L603" class="blob-num js-line-number" data-line-number="603"></td>
        <td id="LC603" class="blob-code js-file-line">      &quot;    \&quot;\&quot;\&quot;Get the average radius for a given mass quantile.\n&quot;,</td>
      </tr>
      <tr>
        <td id="L604" class="blob-num js-line-number" data-line-number="604"></td>
        <td id="LC604" class="blob-code js-file-line">      &quot;\n&quot;,</td>
      </tr>
      <tr>
        <td id="L605" class="blob-num js-line-number" data-line-number="605"></td>
        <td id="LC605" class="blob-code js-file-line">      &quot;    Compares the average radius for the given mass quantile 0% -&gt; quant\n&quot;,</td>
      </tr>
      <tr>
        <td id="L606" class="blob-num js-line-number" data-line-number="606"></td>
        <td id="LC606" class="blob-code js-file-line">      &quot;    with that of the complement ((1-quant) -&gt; 100%)\n&quot;,</td>
      </tr>
      <tr>
        <td id="L607" class="blob-num js-line-number" data-line-number="607"></td>
        <td id="LC607" class="blob-code js-file-line">      &quot;\n&quot;,</td>
      </tr>
      <tr>
        <td id="L608" class="blob-num js-line-number" data-line-number="608"></td>
        <td id="LC608" class="blob-code js-file-line">      &quot;    Takes inputs:\n&quot;,</td>
      </tr>
      <tr>
        <td id="L609" class="blob-num js-line-number" data-line-number="609"></td>
        <td id="LC609" class="blob-code js-file-line">      &quot;    pan -- pandas panel, where the item index is sorted by mass\n&quot;,</td>
      </tr>
      <tr>
        <td id="L610" class="blob-num js-line-number" data-line-number="610"></td>
        <td id="LC610" class="blob-code js-file-line">      &quot;    quant -- the quantile, in percent, to use.\n&quot;,</td>
      </tr>
      <tr>
        <td id="L611" class="blob-num js-line-number" data-line-number="611"></td>
        <td id="LC611" class="blob-code js-file-line">      &quot;\n&quot;,</td>
      </tr>
      <tr>
        <td id="L612" class="blob-num js-line-number" data-line-number="612"></td>
        <td id="LC612" class="blob-code js-file-line">      &quot;    returns a tuple of time series:\n&quot;,</td>
      </tr>
      <tr>
        <td id="L613" class="blob-num js-line-number" data-line-number="613"></td>
        <td id="LC613" class="blob-code js-file-line">      &quot;    (lightradius, heavyradius, light/heavy) \n&quot;,</td>
      </tr>
      <tr>
        <td id="L614" class="blob-num js-line-number" data-line-number="614"></td>
        <td id="LC614" class="blob-code js-file-line">      &quot;    \&quot;\&quot;\&quot;\n&quot;,</td>
      </tr>
      <tr>
        <td id="L615" class="blob-num js-line-number" data-line-number="615"></td>
        <td id="LC615" class="blob-code js-file-line">      &quot;    indices = sorted(pan.keys(), key=int)\n&quot;,</td>
      </tr>
      <tr>
        <td id="L616" class="blob-num js-line-number" data-line-number="616"></td>
        <td id="LC616" class="blob-code js-file-line">      &quot;    number = int(quant*len(indices))\n&quot;,</td>
      </tr>
      <tr>
        <td id="L617" class="blob-num js-line-number" data-line-number="617"></td>
        <td id="LC617" class="blob-code js-file-line">      &quot;    print \&quot;%d runs in requested quantile\&quot; % number\n&quot;,</td>
      </tr>
      <tr>
        <td id="L618" class="blob-num js-line-number" data-line-number="618"></td>
        <td id="LC618" class="blob-code js-file-line">      &quot;    heavyslice = [pan[index] for index in indices[:number]]\n&quot;,</td>
      </tr>
      <tr>
        <td id="L619" class="blob-num js-line-number" data-line-number="619"></td>
        <td id="LC619" class="blob-code js-file-line">      &quot;    lightslice = [pan[index] for index in indices[-number:]]\n&quot;,</td>
      </tr>
      <tr>
        <td id="L620" class="blob-num js-line-number" data-line-number="620"></td>
        <td id="LC620" class="blob-code js-file-line">      &quot;    \n&quot;,</td>
      </tr>
      <tr>
        <td id="L621" class="blob-num js-line-number" data-line-number="621"></td>
        <td id="LC621" class="blob-code js-file-line">      &quot;    print \&quot;heavy masses:\&quot;, [star[&#39;m&#39;][0] for star in heavyslice]\n&quot;,</td>
      </tr>
      <tr>
        <td id="L622" class="blob-num js-line-number" data-line-number="622"></td>
        <td id="LC622" class="blob-code js-file-line">      &quot;    print \&quot;light masses:\&quot;, [star[&#39;m&#39;][0] for star in lightslice]\n&quot;,</td>
      </tr>
      <tr>
        <td id="L623" class="blob-num js-line-number" data-line-number="623"></td>
        <td id="LC623" class="blob-code js-file-line">      &quot;    \n&quot;,</td>
      </tr>
      <tr>
        <td id="L624" class="blob-num js-line-number" data-line-number="624"></td>
        <td id="LC624" class="blob-code js-file-line">      &quot;    heavyr = np.zeros_like(heavyslice[0][&#39;radius&#39;].values)\n&quot;,</td>
      </tr>
      <tr>
        <td id="L625" class="blob-num js-line-number" data-line-number="625"></td>
        <td id="LC625" class="blob-code js-file-line">      &quot;    for star in heavyslice:\n&quot;,</td>
      </tr>
      <tr>
        <td id="L626" class="blob-num js-line-number" data-line-number="626"></td>
        <td id="LC626" class="blob-code js-file-line">      &quot;        heavyr += star[&#39;radius&#39;].values\n&quot;,</td>
      </tr>
      <tr>
        <td id="L627" class="blob-num js-line-number" data-line-number="627"></td>
        <td id="LC627" class="blob-code js-file-line">      &quot;    heavyr /= number\n&quot;,</td>
      </tr>
      <tr>
        <td id="L628" class="blob-num js-line-number" data-line-number="628"></td>
        <td id="LC628" class="blob-code js-file-line">      &quot;    \n&quot;,</td>
      </tr>
      <tr>
        <td id="L629" class="blob-num js-line-number" data-line-number="629"></td>
        <td id="LC629" class="blob-code js-file-line">      &quot;    lightr = np.zeros_like(lightslice[0][&#39;radius&#39;].values)\n&quot;,</td>
      </tr>
      <tr>
        <td id="L630" class="blob-num js-line-number" data-line-number="630"></td>
        <td id="LC630" class="blob-code js-file-line">      &quot;    for star in lightslice:\n&quot;,</td>
      </tr>
      <tr>
        <td id="L631" class="blob-num js-line-number" data-line-number="631"></td>
        <td id="LC631" class="blob-code js-file-line">      &quot;        lightr += star[&#39;radius&#39;].values\n&quot;,</td>
      </tr>
      <tr>
        <td id="L632" class="blob-num js-line-number" data-line-number="632"></td>
        <td id="LC632" class="blob-code js-file-line">      &quot;    lightr /= number\n&quot;,</td>
      </tr>
      <tr>
        <td id="L633" class="blob-num js-line-number" data-line-number="633"></td>
        <td id="LC633" class="blob-code js-file-line">      &quot;    \n&quot;,</td>
      </tr>
      <tr>
        <td id="L634" class="blob-num js-line-number" data-line-number="634"></td>
        <td id="LC634" class="blob-code js-file-line">      &quot;    ratio = lightr/heavyr\n&quot;,</td>
      </tr>
      <tr>
        <td id="L635" class="blob-num js-line-number" data-line-number="635"></td>
        <td id="LC635" class="blob-code js-file-line">      &quot;    return lightr, heavyr, ratio\n&quot;,</td>
      </tr>
      <tr>
        <td id="L636" class="blob-num js-line-number" data-line-number="636"></td>
        <td id="LC636" class="blob-code js-file-line">      &quot;\n&quot;,</td>
      </tr>
      <tr>
        <td id="L637" class="blob-num js-line-number" data-line-number="637"></td>
        <td id="LC637" class="blob-code js-file-line">      &quot;# &lt;codecell&gt;\n&quot;,</td>
      </tr>
      <tr>
        <td id="L638" class="blob-num js-line-number" data-line-number="638"></td>
        <td id="LC638" class="blob-code js-file-line">      &quot;\n&quot;,</td>
      </tr>
      <tr>
        <td id="L639" class="blob-num js-line-number" data-line-number="639"></td>
        <td id="LC639" class="blob-code js-file-line">      &quot;from matplotlib import animation\n&quot;,</td>
      </tr>
      <tr>
        <td id="L640" class="blob-num js-line-number" data-line-number="640"></td>
        <td id="LC640" class="blob-code js-file-line">      &quot;def animate_panel_old(pan, prng=10.0, filebase=&#39;basic_animation&#39;):\n&quot;,</td>
      </tr>
      <tr>
        <td id="L641" class="blob-num js-line-number" data-line-number="641"></td>
        <td id="LC641" class="blob-code js-file-line">      &quot;    \&quot;\&quot;\&quot;Turn a panel of star cluster evolution snapshots into a 3d animation.\n&quot;,</td>
      </tr>
      <tr>
        <td id="L642" class="blob-num js-line-number" data-line-number="642"></td>
        <td id="LC642" class="blob-code js-file-line">      &quot;\n&quot;,</td>
      </tr>
      <tr>
        <td id="L643" class="blob-num js-line-number" data-line-number="643"></td>
        <td id="LC643" class="blob-code js-file-line">      &quot;    Arguments are:\n&quot;,</td>
      </tr>
      <tr>
        <td id="L644" class="blob-num js-line-number" data-line-number="644"></td>
        <td id="LC644" class="blob-code js-file-line">      &quot;    pan: the panel\n&quot;,</td>
      </tr>
      <tr>
        <td id="L645" class="blob-num js-line-number" data-line-number="645"></td>
        <td id="LC645" class="blob-code js-file-line">      &quot;    prng: plot range for all three axes.\n&quot;,</td>
      </tr>
      <tr>
        <td id="L646" class="blob-num js-line-number" data-line-number="646"></td>
        <td id="LC646" class="blob-code js-file-line">      &quot;    filebase: the base name of the file for the animation.\n&quot;,</td>
      </tr>
      <tr>
        <td id="L647" class="blob-num js-line-number" data-line-number="647"></td>
        <td id="LC647" class="blob-code js-file-line">      &quot;\n&quot;,</td>
      </tr>
      <tr>
        <td id="L648" class="blob-num js-line-number" data-line-number="648"></td>
        <td id="LC648" class="blob-code js-file-line">      &quot;    returns:\n&quot;,</td>
      </tr>
      <tr>
        <td id="L649" class="blob-num js-line-number" data-line-number="649"></td>
        <td id="LC649" class="blob-code js-file-line">      &quot;    Nothing.\&quot;\&quot;\&quot;\n&quot;,</td>
      </tr>
      <tr>
        <td id="L650" class="blob-num js-line-number" data-line-number="650"></td>
        <td id="LC650" class="blob-code js-file-line">      &quot;    \n&quot;,</td>
      </tr>
      <tr>
        <td id="L651" class="blob-num js-line-number" data-line-number="651"></td>
        <td id="LC651" class="blob-code js-file-line">      &quot;    fig = plt.figure(figsize=(10,10))\n&quot;,</td>
      </tr>
      <tr>
        <td id="L652" class="blob-num js-line-number" data-line-number="652"></td>
        <td id="LC652" class="blob-code js-file-line">      &quot;    fig.subplots_adjust(left=0, right=1, bottom=0, top=1)\n&quot;,</td>
      </tr>
      <tr>
        <td id="L653" class="blob-num js-line-number" data-line-number="653"></td>
        <td id="LC653" class="blob-code js-file-line">      &quot;    ax = fig.gca(projection=&#39;3d&#39;)\n&quot;,</td>
      </tr>
      <tr>
        <td id="L654" class="blob-num js-line-number" data-line-number="654"></td>
        <td id="LC654" class="blob-code js-file-line">      &quot;    ax.set_autoscale_on(False)\n&quot;,</td>
      </tr>
      <tr>
        <td id="L655" class="blob-num js-line-number" data-line-number="655"></td>
        <td id="LC655" class="blob-code js-file-line">      &quot;    \n&quot;,</td>
      </tr>
      <tr>
        <td id="L656" class="blob-num js-line-number" data-line-number="656"></td>
        <td id="LC656" class="blob-code js-file-line">      &quot;    nframes = pan.shape[1]\n&quot;,</td>
      </tr>
      <tr>
        <td id="L657" class="blob-num js-line-number" data-line-number="657"></td>
        <td id="LC657" class="blob-code js-file-line">      &quot;    starfield, = ax.plot([], [], [],&#39;bo&#39;, ms=7)\n&quot;,</td>
      </tr>
      <tr>
        <td id="L658" class="blob-num js-line-number" data-line-number="658"></td>
        <td id="LC658" class="blob-code js-file-line">      &quot;    ax.set_xlim3d(-prng, prng)\n&quot;,</td>
      </tr>
      <tr>
        <td id="L659" class="blob-num js-line-number" data-line-number="659"></td>
        <td id="LC659" class="blob-code js-file-line">      &quot;    ax.set_ylim3d(-prng, prng)\n&quot;,</td>
      </tr>
      <tr>
        <td id="L660" class="blob-num js-line-number" data-line-number="660"></td>
        <td id="LC660" class="blob-code js-file-line">      &quot;    ax.set_zlim3d(-prng, prng)\n&quot;,</td>
      </tr>
      <tr>
        <td id="L661" class="blob-num js-line-number" data-line-number="661"></td>
        <td id="LC661" class="blob-code js-file-line">      &quot;\n&quot;,</td>
      </tr>
      <tr>
        <td id="L662" class="blob-num js-line-number" data-line-number="662"></td>
        <td id="LC662" class="blob-code js-file-line">      &quot;    def init():\n&quot;,</td>
      </tr>
      <tr>
        <td id="L663" class="blob-num js-line-number" data-line-number="663"></td>
        <td id="LC663" class="blob-code js-file-line">      &quot;        \&quot;\&quot;\&quot;initialize animation\&quot;\&quot;\&quot;\n&quot;,</td>
      </tr>
      <tr>
        <td id="L664" class="blob-num js-line-number" data-line-number="664"></td>
        <td id="LC664" class="blob-code js-file-line">      &quot;        starfield.set_data([], [])\n&quot;,</td>
      </tr>
      <tr>
        <td id="L665" class="blob-num js-line-number" data-line-number="665"></td>
        <td id="LC665" class="blob-code js-file-line">      &quot;        starfield.set_3d_properties(zs=[])\n&quot;,</td>
      </tr>
      <tr>
        <td id="L666" class="blob-num js-line-number" data-line-number="666"></td>
        <td id="LC666" class="blob-code js-file-line">      &quot;        return starfield\n&quot;,</td>
      </tr>
      <tr>
        <td id="L667" class="blob-num js-line-number" data-line-number="667"></td>
        <td id="LC667" class="blob-code js-file-line">      &quot;    \n&quot;,</td>
      </tr>
      <tr>
        <td id="L668" class="blob-num js-line-number" data-line-number="668"></td>
        <td id="LC668" class="blob-code js-file-line">      &quot;    def doframe(n):\n&quot;,</td>
      </tr>
      <tr>
        <td id="L669" class="blob-num js-line-number" data-line-number="669"></td>
        <td id="LC669" class="blob-code js-file-line">      &quot;        xvals = []\n&quot;,</td>
      </tr>
      <tr>
        <td id="L670" class="blob-num js-line-number" data-line-number="670"></td>
        <td id="LC670" class="blob-code js-file-line">      &quot;        yvals = []\n&quot;,</td>
      </tr>
      <tr>
        <td id="L671" class="blob-num js-line-number" data-line-number="671"></td>
        <td id="LC671" class="blob-code js-file-line">      &quot;        zvals = []\n&quot;,</td>
      </tr>
      <tr>
        <td id="L672" class="blob-num js-line-number" data-line-number="672"></td>
        <td id="LC672" class="blob-code js-file-line">      &quot;        masses = []\n&quot;,</td>
      </tr>
      <tr>
        <td id="L673" class="blob-num js-line-number" data-line-number="673"></td>
        <td id="LC673" class="blob-code js-file-line">      &quot;        \n&quot;,</td>
      </tr>
      <tr>
        <td id="L674" class="blob-num js-line-number" data-line-number="674"></td>
        <td id="LC674" class="blob-code js-file-line">      &quot;        for starid in pan.keys():\n&quot;,</td>
      </tr>
      <tr>
        <td id="L675" class="blob-num js-line-number" data-line-number="675"></td>
        <td id="LC675" class="blob-code js-file-line">      &quot;            xvals.append(pan[starid][&#39;r&#39;][n][0])\n&quot;,</td>
      </tr>
      <tr>
        <td id="L676" class="blob-num js-line-number" data-line-number="676"></td>
        <td id="LC676" class="blob-code js-file-line">      &quot;            yvals.append(pan[starid][&#39;r&#39;][n][1])\n&quot;,</td>
      </tr>
      <tr>
        <td id="L677" class="blob-num js-line-number" data-line-number="677"></td>
        <td id="LC677" class="blob-code js-file-line">      &quot;            zvals.append(pan[starid][&#39;r&#39;][n][2])\n&quot;,</td>
      </tr>
      <tr>
        <td id="L678" class="blob-num js-line-number" data-line-number="678"></td>
        <td id="LC678" class="blob-code js-file-line">      &quot;            masses.append(pan[starid][&#39;m&#39;][n])\n&quot;,</td>
      </tr>
      <tr>
        <td id="L679" class="blob-num js-line-number" data-line-number="679"></td>
        <td id="LC679" class="blob-code js-file-line">      &quot;    # not super happy with the colors yet.\n&quot;,</td>
      </tr>
      <tr>
        <td id="L680" class="blob-num js-line-number" data-line-number="680"></td>
        <td id="LC680" class="blob-code js-file-line">      &quot;        starfield.set_data(np.array(xvals), np.array(yvals))\n&quot;,</td>
      </tr>
      <tr>
        <td id="L681" class="blob-num js-line-number" data-line-number="681"></td>
        <td id="LC681" class="blob-code js-file-line">      &quot;        starfield.set_3d_properties(zs=np.array(zvals))\n&quot;,</td>
      </tr>
      <tr>
        <td id="L682" class="blob-num js-line-number" data-line-number="682"></td>
        <td id="LC682" class="blob-code js-file-line">      &quot;        return starfield\n&quot;,</td>
      </tr>
      <tr>
        <td id="L683" class="blob-num js-line-number" data-line-number="683"></td>
        <td id="LC683" class="blob-code js-file-line">      &quot;\n&quot;,</td>
      </tr>
      <tr>
        <td id="L684" class="blob-num js-line-number" data-line-number="684"></td>
        <td id="LC684" class="blob-code js-file-line">      &quot;    anim = animation.FuncAnimation(fig, doframe,\n&quot;,</td>
      </tr>
      <tr>
        <td id="L685" class="blob-num js-line-number" data-line-number="685"></td>
        <td id="LC685" class="blob-code js-file-line">      &quot;                               frames=nframes, interval=20, blit=True)\n&quot;,</td>
      </tr>
      <tr>
        <td id="L686" class="blob-num js-line-number" data-line-number="686"></td>
        <td id="LC686" class="blob-code js-file-line">      &quot;    anim.save(\&quot;%s.mp4\&quot;%filebase, fps=30)\n&quot;,</td>
      </tr>
      <tr>
        <td id="L687" class="blob-num js-line-number" data-line-number="687"></td>
        <td id="LC687" class="blob-code js-file-line">      &quot;    #ax.plot(np.array(xvals), np.array(yvals), np.array(zvals), \&quot;.\&quot;)\n&quot;,</td>
      </tr>
      <tr>
        <td id="L688" class="blob-num js-line-number" data-line-number="688"></td>
        <td id="LC688" class="blob-code js-file-line">      &quot;\n&quot;,</td>
      </tr>
      <tr>
        <td id="L689" class="blob-num js-line-number" data-line-number="689"></td>
        <td id="LC689" class="blob-code js-file-line">      &quot;\n&quot;,</td>
      </tr>
      <tr>
        <td id="L690" class="blob-num js-line-number" data-line-number="690"></td>
        <td id="LC690" class="blob-code js-file-line">      &quot;def animate_from_fs(filebase, nframes, prng=10.0, use_warehouse=True):\n&quot;,</td>
      </tr>
      <tr>
        <td id="L691" class="blob-num js-line-number" data-line-number="691"></td>
        <td id="LC691" class="blob-code js-file-line">      &quot;    import pylab as plt\n&quot;,</td>
      </tr>
      <tr>
        <td id="L692" class="blob-num js-line-number" data-line-number="692"></td>
        <td id="LC692" class="blob-code js-file-line">      &quot;    from mpl_toolkits.mplot3d import axes3d\n&quot;,</td>
      </tr>
      <tr>
        <td id="L693" class="blob-num js-line-number" data-line-number="693"></td>
        <td id="LC693" class="blob-code js-file-line">      &quot;    fig = plt.figure(figsize=(10,10))\n&quot;,</td>
      </tr>
      <tr>
        <td id="L694" class="blob-num js-line-number" data-line-number="694"></td>
        <td id="LC694" class="blob-code js-file-line">      &quot;    fig.subplots_adjust(left=0, right=1, bottom=0, top=1)\n&quot;,</td>
      </tr>
      <tr>
        <td id="L695" class="blob-num js-line-number" data-line-number="695"></td>
        <td id="LC695" class="blob-code js-file-line">      &quot;    ax = fig.gca(projection=&#39;3d&#39;)\n&quot;,</td>
      </tr>
      <tr>
        <td id="L696" class="blob-num js-line-number" data-line-number="696"></td>
        <td id="LC696" class="blob-code js-file-line">      &quot;    ax.set_autoscale_on(False)\n&quot;,</td>
      </tr>
      <tr>
        <td id="L697" class="blob-num js-line-number" data-line-number="697"></td>
        <td id="LC697" class="blob-code js-file-line">      &quot;\n&quot;,</td>
      </tr>
      <tr>
        <td id="L698" class="blob-num js-line-number" data-line-number="698"></td>
        <td id="LC698" class="blob-code js-file-line">      &quot;    mcomfield, = ax.plot([], [], [],&#39;go&#39;, ms=7)\n&quot;,</td>
      </tr>
      <tr>
        <td id="L699" class="blob-num js-line-number" data-line-number="699"></td>
        <td id="LC699" class="blob-code js-file-line">      &quot;    ax.set_xlim3d(-prng, prng)\n&quot;,</td>
      </tr>
      <tr>
        <td id="L700" class="blob-num js-line-number" data-line-number="700"></td>
        <td id="LC700" class="blob-code js-file-line">      &quot;    ax.set_ylim3d(-prng, prng)\n&quot;,</td>
      </tr>
      <tr>
        <td id="L701" class="blob-num js-line-number" data-line-number="701"></td>
        <td id="LC701" class="blob-code js-file-line">      &quot;    ax.set_zlim3d(-prng, prng)\n&quot;,</td>
      </tr>
      <tr>
        <td id="L702" class="blob-num js-line-number" data-line-number="702"></td>
        <td id="LC702" class="blob-code js-file-line">      &quot;\n&quot;,</td>
      </tr>
      <tr>
        <td id="L703" class="blob-num js-line-number" data-line-number="703"></td>
        <td id="LC703" class="blob-code js-file-line">      &quot;    def init():\n&quot;,</td>
      </tr>
      <tr>
        <td id="L704" class="blob-num js-line-number" data-line-number="704"></td>
        <td id="LC704" class="blob-code js-file-line">      &quot;        \&quot;\&quot;\&quot;initialize animation\&quot;\&quot;\&quot;\n&quot;,</td>
      </tr>
      <tr>
        <td id="L705" class="blob-num js-line-number" data-line-number="705"></td>
        <td id="LC705" class="blob-code js-file-line">      &quot;        mcomfield.set_data([], [])\n&quot;,</td>
      </tr>
      <tr>
        <td id="L706" class="blob-num js-line-number" data-line-number="706"></td>
        <td id="LC706" class="blob-code js-file-line">      &quot;        mcomfield.set_3d_properties(zs=[])\n&quot;,</td>
      </tr>
      <tr>
        <td id="L707" class="blob-num js-line-number" data-line-number="707"></td>
        <td id="LC707" class="blob-code js-file-line">      &quot;        return (mcomfield)\n&quot;,</td>
      </tr>
      <tr>
        <td id="L708" class="blob-num js-line-number" data-line-number="708"></td>
        <td id="LC708" class="blob-code js-file-line">      &quot;    \n&quot;,</td>
      </tr>
      <tr>
        <td id="L709" class="blob-num js-line-number" data-line-number="709"></td>
        <td id="LC709" class="blob-code js-file-line">      &quot;    def doframe(n):\n&quot;,</td>
      </tr>
      <tr>
        <td id="L710" class="blob-num js-line-number" data-line-number="710"></td>
        <td id="LC710" class="blob-code js-file-line">      &quot;        xvals = []\n&quot;,</td>
      </tr>
      <tr>
        <td id="L711" class="blob-num js-line-number" data-line-number="711"></td>
        <td id="LC711" class="blob-code js-file-line">      &quot;        yvals = []\n&quot;,</td>
      </tr>
      <tr>
        <td id="L712" class="blob-num js-line-number" data-line-number="712"></td>
        <td id="LC712" class="blob-code js-file-line">      &quot;        zvals = []\n&quot;,</td>
      </tr>
      <tr>
        <td id="L713" class="blob-num js-line-number" data-line-number="713"></td>
        <td id="LC713" class="blob-code js-file-line">      &quot;        masses = []\n&quot;,</td>
      </tr>
      <tr>
        <td id="L714" class="blob-num js-line-number" data-line-number="714"></td>
        <td id="LC714" class="blob-code js-file-line">      &quot;        \n&quot;,</td>
      </tr>
      <tr>
        <td id="L715" class="blob-num js-line-number" data-line-number="715"></td>
        <td id="LC715" class="blob-code js-file-line">      &quot;        if use_warehouse:\n&quot;,</td>
      </tr>
      <tr>
        <td id="L716" class="blob-num js-line-number" data-line-number="716"></td>
        <td id="LC716" class="blob-code js-file-line">      &quot;            xmlname = warehousepath + filebase + \&quot;.%d.xml\&quot;% n\n&quot;,</td>
      </tr>
      <tr>
        <td id="L717" class="blob-num js-line-number" data-line-number="717"></td>
        <td id="LC717" class="blob-code js-file-line">      &quot;        else:\n&quot;,</td>
      </tr>
      <tr>
        <td id="L718" class="blob-num js-line-number" data-line-number="718"></td>
        <td id="LC718" class="blob-code js-file-line">      &quot;            xmlname = filebase + \&quot;.%d.xml\&quot;% n\n&quot;,</td>
      </tr>
      <tr>
        <td id="L719" class="blob-num js-line-number" data-line-number="719"></td>
        <td id="LC719" class="blob-code js-file-line">      &quot;            \n&quot;,</td>
      </tr>
      <tr>
        <td id="L720" class="blob-num js-line-number" data-line-number="720"></td>
        <td id="LC720" class="blob-code js-file-line">      &quot;        dataframe, time, nparticles = process_frame(xmlname)\n&quot;,</td>
      </tr>
      <tr>
        <td id="L721" class="blob-num js-line-number" data-line-number="721"></td>
        <td id="LC721" class="blob-code js-file-line">      &quot;        \n&quot;,</td>
      </tr>
      <tr>
        <td id="L722" class="blob-num js-line-number" data-line-number="722"></td>
        <td id="LC722" class="blob-code js-file-line">      &quot;        xvals = dataframe.xs(&#39;x&#39;).values\n&quot;,</td>
      </tr>
      <tr>
        <td id="L723" class="blob-num js-line-number" data-line-number="723"></td>
        <td id="LC723" class="blob-code js-file-line">      &quot;        yvals = dataframe.xs(&#39;y&#39;).values\n&quot;,</td>
      </tr>
      <tr>
        <td id="L724" class="blob-num js-line-number" data-line-number="724"></td>
        <td id="LC724" class="blob-code js-file-line">      &quot;        zvals = dataframe.xs(&#39;z&#39;).values\n&quot;,</td>
      </tr>
      <tr>
        <td id="L725" class="blob-num js-line-number" data-line-number="725"></td>
        <td id="LC725" class="blob-code js-file-line">      &quot;        \n&quot;,</td>
      </tr>
      <tr>
        <td id="L726" class="blob-num js-line-number" data-line-number="726"></td>
        <td id="LC726" class="blob-code js-file-line">      &quot;        mcomfield.set_data(dataframe.xs(&#39;x_mcom&#39;).values, dataframe.xs(&#39;y_mcom&#39;).values)\n&quot;,</td>
      </tr>
      <tr>
        <td id="L727" class="blob-num js-line-number" data-line-number="727"></td>
        <td id="LC727" class="blob-code js-file-line">      &quot;        mcomfield.set_3d_properties(zs=np.array(dataframe.xs(&#39;z_mcom&#39;).values))\n&quot;,</td>
      </tr>
      <tr>
        <td id="L728" class="blob-num js-line-number" data-line-number="728"></td>
        <td id="LC728" class="blob-code js-file-line">      &quot;        return (mcomfield)\n&quot;,</td>
      </tr>
      <tr>
        <td id="L729" class="blob-num js-line-number" data-line-number="729"></td>
        <td id="LC729" class="blob-code js-file-line">      &quot;\n&quot;,</td>
      </tr>
      <tr>
        <td id="L730" class="blob-num js-line-number" data-line-number="730"></td>
        <td id="LC730" class="blob-code js-file-line">      &quot;    anim = animation.FuncAnimation(fig, doframe,\n&quot;,</td>
      </tr>
      <tr>
        <td id="L731" class="blob-num js-line-number" data-line-number="731"></td>
        <td id="LC731" class="blob-code js-file-line">      &quot;                               frames=nframes, interval=20, blit=True)\n&quot;,</td>
      </tr>
      <tr>
        <td id="L732" class="blob-num js-line-number" data-line-number="732"></td>
        <td id="LC732" class="blob-code js-file-line">      &quot;    moviename = \&quot;%s.mp4\&quot;%filebase\n&quot;,</td>
      </tr>
      <tr>
        <td id="L733" class="blob-num js-line-number" data-line-number="733"></td>
        <td id="LC733" class="blob-code js-file-line">      &quot;    anim.save(moviename, fps=30, bitrate=4000)\n&quot;,</td>
      </tr>
      <tr>
        <td id="L734" class="blob-num js-line-number" data-line-number="734"></td>
        <td id="LC734" class="blob-code js-file-line">      &quot;    return moviename\n&quot;,</td>
      </tr>
      <tr>
        <td id="L735" class="blob-num js-line-number" data-line-number="735"></td>
        <td id="LC735" class="blob-code js-file-line">      &quot;\n&quot;,</td>
      </tr>
      <tr>
        <td id="L736" class="blob-num js-line-number" data-line-number="736"></td>
        <td id="LC736" class="blob-code js-file-line">      &quot;def str_to_vect(vectstr):\n&quot;,</td>
      </tr>
      <tr>
        <td id="L737" class="blob-num js-line-number" data-line-number="737"></td>
        <td id="LC737" class="blob-code js-file-line">      &quot;    return np.array(vectstr.split(\&quot; \&quot;), float)\n&quot;,</td>
      </tr>
      <tr>
        <td id="L738" class="blob-num js-line-number" data-line-number="738"></td>
        <td id="LC738" class="blob-code js-file-line">      &quot;\n&quot;,</td>
      </tr>
      <tr>
        <td id="L739" class="blob-num js-line-number" data-line-number="739"></td>
        <td id="LC739" class="blob-code js-file-line">      &quot;def process_frame(xmlname):\n&quot;,</td>
      </tr>
      <tr>
        <td id="L740" class="blob-num js-line-number" data-line-number="740"></td>
        <td id="LC740" class="blob-code js-file-line">      &quot;    frame = etree.parse(xmlname)\n&quot;,</td>
      </tr>
      <tr>
        <td id="L741" class="blob-num js-line-number" data-line-number="741"></td>
        <td id="LC741" class="blob-code js-file-line">      &quot;    nparticles = int(frame.xpath(&#39;/Particle/value[@ N]/@ N&#39;)[0])\n&quot;,</td>
      </tr>
      <tr>
        <td id="L742" class="blob-num js-line-number" data-line-number="742"></td>
        <td id="LC742" class="blob-code js-file-line">      &quot;    time = float(frame.xpath(&#39;/Particle/Dynamics/value[@ t]/@ t&#39;)[0])\n&quot;,</td>
      </tr>
      <tr>
        <td id="L743" class="blob-num js-line-number" data-line-number="743"></td>
        <td id="LC743" class="blob-code js-file-line">      &quot;    \n&quot;,</td>
      </tr>
      <tr>
        <td id="L744" class="blob-num js-line-number" data-line-number="744"></td>
        <td id="LC744" class="blob-code js-file-line">      &quot;    center_r = str_to_vect(frame.xpath(&#39;/Particle/Dynamics/value[@ r]/@ r&#39;)[0])\n&quot;,</td>
      </tr>
      <tr>
        <td id="L745" class="blob-num js-line-number" data-line-number="745"></td>
        <td id="LC745" class="blob-code js-file-line">      &quot;    com_pos = str_to_vect(frame.xpath(&#39;/Particle/Dynamics/value[@ com_pos]/@ com_pos&#39;)[0])\n&quot;,</td>
      </tr>
      <tr>
        <td id="L746" class="blob-num js-line-number" data-line-number="746"></td>
        <td id="LC746" class="blob-code js-file-line">      &quot;    mcom_pos = str_to_vect(frame.xpath(&#39;/Particle/Dynamics/value[@ mcom_pos]/@ mcom_pos&#39;)[0])\n&quot;,</td>
      </tr>
      <tr>
        <td id="L747" class="blob-num js-line-number" data-line-number="747"></td>
        <td id="LC747" class="blob-code js-file-line">      &quot;    mass_scale = float(frame.xpath(&#39;/Particle/Star/value[@ mass_scale]/@ mass_scale&#39;)[0])\n&quot;,</td>
      </tr>
      <tr>
        <td id="L748" class="blob-num js-line-number" data-line-number="748"></td>
        <td id="LC748" class="blob-code js-file-line">      &quot;    time_scale = float(frame.xpath(&#39;/Particle/Star/value[@ time_scale]/@ time_scale&#39;)[0])\n&quot;,</td>
      </tr>
      <tr>
        <td id="L749" class="blob-num js-line-number" data-line-number="749"></td>
        <td id="LC749" class="blob-code js-file-line">      &quot;    size_scale = float(frame.xpath(&#39;/Particle/Star/value[@ size_scale]/@ size_scale&#39;)[0])\n&quot;,</td>
      </tr>
      <tr>
        <td id="L750" class="blob-num js-line-number" data-line-number="750"></td>
        <td id="LC750" class="blob-code js-file-line">      &quot;\n&quot;,</td>
      </tr>
      <tr>
        <td id="L751" class="blob-num js-line-number" data-line-number="751"></td>
        <td id="LC751" class="blob-code js-file-line">      &quot;    particledict = {}\n&quot;,</td>
      </tr>
      <tr>
        <td id="L752" class="blob-num js-line-number" data-line-number="752"></td>
        <td id="LC752" class="blob-code js-file-line">      &quot;    for part in frame.xpath(&#39;/Particle/Particle&#39;):\n&quot;,</td>
      </tr>
      <tr>
        <td id="L753" class="blob-num js-line-number" data-line-number="753"></td>
        <td id="LC753" class="blob-code js-file-line">      &quot;        subpartdict = flatten_particle(part)\n&quot;,</td>
      </tr>
      <tr>
        <td id="L754" class="blob-num js-line-number" data-line-number="754"></td>
        <td id="LC754" class="blob-code js-file-line">      &quot;        particledict.update(subpartdict)\n&quot;,</td>
      </tr>
      <tr>
        <td id="L755" class="blob-num js-line-number" data-line-number="755"></td>
        <td id="LC755" class="blob-code js-file-line">      &quot;    for key in particledict.keys():\n&quot;,</td>
      </tr>
      <tr>
        <td id="L756" class="blob-num js-line-number" data-line-number="756"></td>
        <td id="LC756" class="blob-code js-file-line">      &quot;        particledict[key][&#39;x_mcom&#39;] = particledict[key][&#39;x&#39;] - mcom_pos[0] + center_r[0]\n&quot;,</td>
      </tr>
      <tr>
        <td id="L757" class="blob-num js-line-number" data-line-number="757"></td>
        <td id="LC757" class="blob-code js-file-line">      &quot;        particledict[key][&#39;y_mcom&#39;] = particledict[key][&#39;y&#39;] - mcom_pos[1] + center_r[1]\n&quot;,</td>
      </tr>
      <tr>
        <td id="L758" class="blob-num js-line-number" data-line-number="758"></td>
        <td id="LC758" class="blob-code js-file-line">      &quot;        particledict[key][&#39;z_mcom&#39;] = particledict[key][&#39;z&#39;] - mcom_pos[2] + center_r[2]\n&quot;,</td>
      </tr>
      <tr>
        <td id="L759" class="blob-num js-line-number" data-line-number="759"></td>
        <td id="LC759" class="blob-code js-file-line">      &quot;        particledict[key][&#39;x_com&#39;] = particledict[key][&#39;x&#39;] - com_pos[0] + center_r[0]\n&quot;,</td>
      </tr>
      <tr>
        <td id="L760" class="blob-num js-line-number" data-line-number="760"></td>
        <td id="LC760" class="blob-code js-file-line">      &quot;        particledict[key][&#39;y_com&#39;] = particledict[key][&#39;y&#39;] - com_pos[1] + center_r[1]\n&quot;,</td>
      </tr>
      <tr>
        <td id="L761" class="blob-num js-line-number" data-line-number="761"></td>
        <td id="LC761" class="blob-code js-file-line">      &quot;        particledict[key][&#39;z_com&#39;] = particledict[key][&#39;z&#39;] - com_pos[2] + center_r[2]\n&quot;,</td>
      </tr>
      <tr>
        <td id="L762" class="blob-num js-line-number" data-line-number="762"></td>
        <td id="LC762" class="blob-code js-file-line">      &quot;    framedataframe = pd.DataFrame(particledict)\n&quot;,</td>
      </tr>
      <tr>
        <td id="L763" class="blob-num js-line-number" data-line-number="763"></td>
        <td id="LC763" class="blob-code js-file-line">      &quot;    \n&quot;,</td>
      </tr>
      <tr>
        <td id="L764" class="blob-num js-line-number" data-line-number="764"></td>
        <td id="LC764" class="blob-code js-file-line">      &quot;    return framedataframe, time, nparticles\n&quot;,</td>
      </tr>
      <tr>
        <td id="L765" class="blob-num js-line-number" data-line-number="765"></td>
        <td id="LC765" class="blob-code js-file-line">      &quot;\n&quot;,</td>
      </tr>
      <tr>
        <td id="L766" class="blob-num js-line-number" data-line-number="766"></td>
        <td id="LC766" class="blob-code js-file-line">      &quot;def xml_to_panel(basename, nframes):\n&quot;,</td>
      </tr>
      <tr>
        <td id="L767" class="blob-num js-line-number" data-line-number="767"></td>
        <td id="LC767" class="blob-code js-file-line">      &quot;    paneldict = {}\n&quot;,</td>
      </tr>
      <tr>
        <td id="L768" class="blob-num js-line-number" data-line-number="768"></td>
        <td id="LC768" class="blob-code js-file-line">      &quot;    for frame in xrange(nframes):\n&quot;,</td>
      </tr>
      <tr>
        <td id="L769" class="blob-num js-line-number" data-line-number="769"></td>
        <td id="LC769" class="blob-code js-file-line">      &quot;        xmlname = basename + \&quot;.%d.xml\&quot;%frame\n&quot;,</td>
      </tr>
      <tr>
        <td id="L770" class="blob-num js-line-number" data-line-number="770"></td>
        <td id="LC770" class="blob-code js-file-line">      &quot;        df, time, nparticles = process_frame(xmlname)\n&quot;,</td>
      </tr>
      <tr>
        <td id="L771" class="blob-num js-line-number" data-line-number="771"></td>
        <td id="LC771" class="blob-code js-file-line">      &quot;        paneldict[time] = df\n&quot;,</td>
      </tr>
      <tr>
        <td id="L772" class="blob-num js-line-number" data-line-number="772"></td>
        <td id="LC772" class="blob-code js-file-line">      &quot;    thepanel = pd.Panel(paneldict)\n&quot;,</td>
      </tr>
      <tr>
        <td id="L773" class="blob-num js-line-number" data-line-number="773"></td>
        <td id="LC773" class="blob-code js-file-line">      &quot;    return thepanel.transpose(items=&#39;minor&#39;, major=&#39;items&#39;, minor=&#39;major&#39;)\n&quot;,</td>
      </tr>
      <tr>
        <td id="L774" class="blob-num js-line-number" data-line-number="774"></td>
        <td id="LC774" class="blob-code js-file-line">      &quot;    \n&quot;,</td>
      </tr>
      <tr>
        <td id="L775" class="blob-num js-line-number" data-line-number="775"></td>
        <td id="LC775" class="blob-code js-file-line">      &quot;\n&quot;,</td>
      </tr>
      <tr>
        <td id="L776" class="blob-num js-line-number" data-line-number="776"></td>
        <td id="LC776" class="blob-code js-file-line">      &quot;\n&quot;,</td>
      </tr>
      <tr>
        <td id="L777" class="blob-num js-line-number" data-line-number="777"></td>
        <td id="LC777" class="blob-code js-file-line">      &quot;\n&quot;,</td>
      </tr>
      <tr>
        <td id="L778" class="blob-num js-line-number" data-line-number="778"></td>
        <td id="LC778" class="blob-code js-file-line">      &quot;def process_commands(cmds):\n&quot;,</td>
      </tr>
      <tr>
        <td id="L779" class="blob-num js-line-number" data-line-number="779"></td>
        <td id="LC779" class="blob-code js-file-line">      &quot;    procs = []\n&quot;,</td>
      </tr>
      <tr>
        <td id="L780" class="blob-num js-line-number" data-line-number="780"></td>
        <td id="LC780" class="blob-code js-file-line">      &quot;    for index, cmd in enumerate(cmds):\n&quot;,</td>
      </tr>
      <tr>
        <td id="L781" class="blob-num js-line-number" data-line-number="781"></td>
        <td id="LC781" class="blob-code js-file-line">      &quot;        if index &gt; 0:\n&quot;,</td>
      </tr>
      <tr>
        <td id="L782" class="blob-num js-line-number" data-line-number="782"></td>
        <td id="LC782" class="blob-code js-file-line">      &quot;            procs.append(Popen(cmd, stdout=PIPE, stderr=PIPE, stdin=procs[index-1].stdout))\n&quot;,</td>
      </tr>
      <tr>
        <td id="L783" class="blob-num js-line-number" data-line-number="783"></td>
        <td id="LC783" class="blob-code js-file-line">      &quot;        else:\n&quot;,</td>
      </tr>
      <tr>
        <td id="L784" class="blob-num js-line-number" data-line-number="784"></td>
        <td id="LC784" class="blob-code js-file-line">      &quot;            procs.append(Popen(cmd, stdout=PIPE, stderr=PIPE))\n&quot;,</td>
      </tr>
      <tr>
        <td id="L785" class="blob-num js-line-number" data-line-number="785"></td>
        <td id="LC785" class="blob-code js-file-line">      &quot;        inp = procs[-1].stdout\n&quot;,</td>
      </tr>
      <tr>
        <td id="L786" class="blob-num js-line-number" data-line-number="786"></td>
        <td id="LC786" class="blob-code js-file-line">      &quot;    \n&quot;,</td>
      </tr>
      <tr>
        <td id="L787" class="blob-num js-line-number" data-line-number="787"></td>
        <td id="LC787" class="blob-code js-file-line">      &quot;    result = procs[-1].communicate()\n&quot;,</td>
      </tr>
      <tr>
        <td id="L788" class="blob-num js-line-number" data-line-number="788"></td>
        <td id="LC788" class="blob-code js-file-line">      &quot;    return result\n&quot;,</td>
      </tr>
      <tr>
        <td id="L789" class="blob-num js-line-number" data-line-number="789"></td>
        <td id="LC789" class="blob-code js-file-line">      &quot;\n&quot;,</td>
      </tr>
      <tr>
        <td id="L790" class="blob-num js-line-number" data-line-number="790"></td>
        <td id="LC790" class="blob-code js-file-line">      &quot;def story_list_to_panel(slist):\n&quot;,</td>
      </tr>
      <tr>
        <td id="L791" class="blob-num js-line-number" data-line-number="791"></td>
        <td id="LC791" class="blob-code js-file-line">      &quot;    nsnaps = len(slist)\n&quot;,</td>
      </tr>
      <tr>
        <td id="L792" class="blob-num js-line-number" data-line-number="792"></td>
        <td id="LC792" class="blob-code js-file-line">      &quot;    nstars = slist[0].story_vals[&#39;N&#39;]\n&quot;,</td>
      </tr>
      <tr>
        <td id="L793" class="blob-num js-line-number" data-line-number="793"></td>
        <td id="LC793" class="blob-code js-file-line">      &quot;    dict_for_panel = {}\n&quot;,</td>
      </tr>
      <tr>
        <td id="L794" class="blob-num js-line-number" data-line-number="794"></td>
        <td id="LC794" class="blob-code js-file-line">      &quot;    \n&quot;,</td>
      </tr>
      <tr>
        <td id="L795" class="blob-num js-line-number" data-line-number="795"></td>
        <td id="LC795" class="blob-code js-file-line">      &quot;    for snapnum, snapstory in enumerate(slist):\n&quot;,</td>
      </tr>
      <tr>
        <td id="L796" class="blob-num js-line-number" data-line-number="796"></td>
        <td id="LC796" class="blob-code js-file-line">      &quot;        partlist = flatten_parts(snapstory.story_subobjects[4:], snapstory.story_subobjects[1])\n&quot;,</td>
      </tr>
      <tr>
        <td id="L797" class="blob-num js-line-number" data-line-number="797"></td>
        <td id="LC797" class="blob-code js-file-line">      &quot;        for part in partlist:\n&quot;,</td>
      </tr>
      <tr>
        <td id="L798" class="blob-num js-line-number" data-line-number="798"></td>
        <td id="LC798" class="blob-code js-file-line">      &quot;            # make the star dict if necessary\n&quot;,</td>
      </tr>
      <tr>
        <td id="L799" class="blob-num js-line-number" data-line-number="799"></td>
        <td id="LC799" class="blob-code js-file-line">      &quot;            starlabel = part[\&quot;i\&quot;]\n&quot;,</td>
      </tr>
      <tr>
        <td id="L800" class="blob-num js-line-number" data-line-number="800"></td>
        <td id="LC800" class="blob-code js-file-line">      &quot;            pos = part[&#39;r&#39;]\n&quot;,</td>
      </tr>
      <tr>
        <td id="L801" class="blob-num js-line-number" data-line-number="801"></td>
        <td id="LC801" class="blob-code js-file-line">      &quot;            radius = np.sqrt(pos.dot(pos))\n&quot;,</td>
      </tr>
      <tr>
        <td id="L802" class="blob-num js-line-number" data-line-number="802"></td>
        <td id="LC802" class="blob-code js-file-line">      &quot;            if dict_for_panel.get(starlabel,None) == None:\n&quot;,</td>
      </tr>
      <tr>
        <td id="L803" class="blob-num js-line-number" data-line-number="803"></td>
        <td id="LC803" class="blob-code js-file-line">      &quot;                dict_for_panel[starlabel] = {}\n&quot;,</td>
      </tr>
      <tr>
        <td id="L804" class="blob-num js-line-number" data-line-number="804"></td>
        <td id="LC804" class="blob-code js-file-line">      &quot;                for key in part.keys():\n&quot;,</td>
      </tr>
      <tr>
        <td id="L805" class="blob-num js-line-number" data-line-number="805"></td>
        <td id="LC805" class="blob-code js-file-line">      &quot;                    dict_for_panel[starlabel][key] = [ part[key] ]\n&quot;,</td>
      </tr>
      <tr>
        <td id="L806" class="blob-num js-line-number" data-line-number="806"></td>
        <td id="LC806" class="blob-code js-file-line">      &quot;                dict_for_panel[starlabel][&#39;radius&#39;] = [ radius ]\n&quot;,</td>
      </tr>
      <tr>
        <td id="L807" class="blob-num js-line-number" data-line-number="807"></td>
        <td id="LC807" class="blob-code js-file-line">      &quot;            else:\n&quot;,</td>
      </tr>
      <tr>
        <td id="L808" class="blob-num js-line-number" data-line-number="808"></td>
        <td id="LC808" class="blob-code js-file-line">      &quot;                for key in part.keys():\n&quot;,</td>
      </tr>
      <tr>
        <td id="L809" class="blob-num js-line-number" data-line-number="809"></td>
        <td id="LC809" class="blob-code js-file-line">      &quot;                    try:\n&quot;,</td>
      </tr>
      <tr>
        <td id="L810" class="blob-num js-line-number" data-line-number="810"></td>
        <td id="LC810" class="blob-code js-file-line">      &quot;                        dict_for_panel[starlabel][key].append(part[key])\n&quot;,</td>
      </tr>
      <tr>
        <td id="L811" class="blob-num js-line-number" data-line-number="811"></td>
        <td id="LC811" class="blob-code js-file-line">      &quot;                    except KeyError:\n&quot;,</td>
      </tr>
      <tr>
        <td id="L812" class="blob-num js-line-number" data-line-number="812"></td>
        <td id="LC812" class="blob-code js-file-line">      &quot;                        dict_for_panel[starlabel][key] = [ None ] * snapnum\n&quot;,</td>
      </tr>
      <tr>
        <td id="L813" class="blob-num js-line-number" data-line-number="813"></td>
        <td id="LC813" class="blob-code js-file-line">      &quot;                        dict_for_panel[starlabel][key].append(part[key])\n&quot;,</td>
      </tr>
      <tr>
        <td id="L814" class="blob-num js-line-number" data-line-number="814"></td>
        <td id="LC814" class="blob-code js-file-line">      &quot;                dict_for_panel[starlabel][&#39;radius&#39;].append(radius)\n&quot;,</td>
      </tr>
      <tr>
        <td id="L815" class="blob-num js-line-number" data-line-number="815"></td>
        <td id="LC815" class="blob-code js-file-line">      &quot;            # check to see if anything is missing...\n&quot;,</td>
      </tr>
      <tr>
        <td id="L816" class="blob-num js-line-number" data-line-number="816"></td>
        <td id="LC816" class="blob-code js-file-line">      &quot;            reflength = len(dict_for_panel[starlabel][&#39;radius&#39;])\n&quot;,</td>
      </tr>
      <tr>
        <td id="L817" class="blob-num js-line-number" data-line-number="817"></td>
        <td id="LC817" class="blob-code js-file-line">      &quot;            for key in dict_for_panel[starlabel].keys():\n&quot;,</td>
      </tr>
      <tr>
        <td id="L818" class="blob-num js-line-number" data-line-number="818"></td>
        <td id="LC818" class="blob-code js-file-line">      &quot;                if len(dict_for_panel[starlabel][key]) &lt; reflength:\n&quot;,</td>
      </tr>
      <tr>
        <td id="L819" class="blob-num js-line-number" data-line-number="819"></td>
        <td id="LC819" class="blob-code js-file-line">      &quot;                       #print \&quot;Whoa. problem. i=%s, t=%s, key=%s\&quot; % (starlabel, snapnum, key)\n&quot;,</td>
      </tr>
      <tr>
        <td id="L820" class="blob-num js-line-number" data-line-number="820"></td>
        <td id="LC820" class="blob-code js-file-line">      &quot;                       dict_for_panel[starlabel][key].append(None)\n&quot;,</td>
      </tr>
      <tr>
        <td id="L821" class="blob-num js-line-number" data-line-number="821"></td>
        <td id="LC821" class="blob-code js-file-line">      &quot;\n&quot;,</td>
      </tr>
      <tr>
        <td id="L822" class="blob-num js-line-number" data-line-number="822"></td>
        <td id="LC822" class="blob-code js-file-line">      &quot;#    print \&quot;number of stars: \&quot;,len(dict_for_panel.keys())\n&quot;,</td>
      </tr>
      <tr>
        <td id="L823" class="blob-num js-line-number" data-line-number="823"></td>
        <td id="LC823" class="blob-code js-file-line">      &quot;#    for key in dict_for_panel.keys():\n&quot;,</td>
      </tr>
      <tr>
        <td id="L824" class="blob-num js-line-number" data-line-number="824"></td>
        <td id="LC824" class="blob-code js-file-line">      &quot;#        lengthlist = [len(dict_for_panel[key][subkey]) for subkey in dict_for_panel[key].keys()]\n&quot;,</td>
      </tr>
      <tr>
        <td id="L825" class="blob-num js-line-number" data-line-number="825"></td>
        <td id="LC825" class="blob-code js-file-line">      &quot;#        print key, lengthlist\n&quot;,</td>
      </tr>
      <tr>
        <td id="L826" class="blob-num js-line-number" data-line-number="826"></td>
        <td id="LC826" class="blob-code js-file-line">      &quot;#        print dict_for_panel[key].keys()\n&quot;,</td>
      </tr>
      <tr>
        <td id="L827" class="blob-num js-line-number" data-line-number="827"></td>
        <td id="LC827" class="blob-code js-file-line">      &quot;#        print \&quot;-------------------------\\n\\n\&quot;\n&quot;,</td>
      </tr>
      <tr>
        <td id="L828" class="blob-num js-line-number" data-line-number="828"></td>
        <td id="LC828" class="blob-code js-file-line">      &quot;        \n&quot;,</td>
      </tr>
      <tr>
        <td id="L829" class="blob-num js-line-number" data-line-number="829"></td>
        <td id="LC829" class="blob-code js-file-line">      &quot;    thepanel = pd.Panel(dict_for_panel)\n&quot;,</td>
      </tr>
      <tr>
        <td id="L830" class="blob-num js-line-number" data-line-number="830"></td>
        <td id="LC830" class="blob-code js-file-line">      &quot;    return thepanel\n&quot;,</td>
      </tr>
      <tr>
        <td id="L831" class="blob-num js-line-number" data-line-number="831"></td>
        <td id="LC831" class="blob-code js-file-line">      &quot;\n&quot;,</td>
      </tr>
      <tr>
        <td id="L832" class="blob-num js-line-number" data-line-number="832"></td>
        <td id="LC832" class="blob-code js-file-line">      &quot;def flatten_parts(partlist, parentinfo):\n&quot;,</td>
      </tr>
      <tr>
        <td id="L833" class="blob-num js-line-number" data-line-number="833"></td>
        <td id="LC833" class="blob-code js-file-line">      &quot;    flattened = []\n&quot;,</td>
      </tr>
      <tr>
        <td id="L834" class="blob-num js-line-number" data-line-number="834"></td>
        <td id="LC834" class="blob-code js-file-line">      &quot;    for partnum, part in enumerate(partlist):\n&quot;,</td>
      </tr>
      <tr>
        <td id="L835" class="blob-num js-line-number" data-line-number="835"></td>
        <td id="LC835" class="blob-code js-file-line">      &quot;        if len(part.story_subobjects) &gt; 4:\n&quot;,</td>
      </tr>
      <tr>
        <td id="L836" class="blob-num js-line-number" data-line-number="836"></td>
        <td id="LC836" class="blob-code js-file-line">      &quot;            flattened.extend(flatten_parts(part.story_subobjects[4:], part.story_subobjects[1]))\n&quot;,</td>
      </tr>
      <tr>
        <td id="L837" class="blob-num js-line-number" data-line-number="837"></td>
        <td id="LC837" class="blob-code js-file-line">      &quot;        else:\n&quot;,</td>
      </tr>
      <tr>
        <td id="L838" class="blob-num js-line-number" data-line-number="838"></td>
        <td id="LC838" class="blob-code js-file-line">      &quot;            partdict = dict(part.story_vals, **part.story_subobjects[1].story_vals)\n&quot;,</td>
      </tr>
      <tr>
        <td id="L839" class="blob-num js-line-number" data-line-number="839"></td>
        <td id="LC839" class="blob-code js-file-line">      &quot;            flattened.append(partdict)\n&quot;,</td>
      </tr>
      <tr>
        <td id="L840" class="blob-num js-line-number" data-line-number="840"></td>
        <td id="LC840" class="blob-code js-file-line">      &quot;    # deal with positions\n&quot;,</td>
      </tr>
      <tr>
        <td id="L841" class="blob-num js-line-number" data-line-number="841"></td>
        <td id="LC841" class="blob-code js-file-line">      &quot;    pos = np.array(parentinfo.story_vals[&#39;r&#39;].split(\&quot; \&quot;), float)\n&quot;,</td>
      </tr>
      <tr>
        <td id="L842" class="blob-num js-line-number" data-line-number="842"></td>
        <td id="LC842" class="blob-code js-file-line">      &quot;    for part in flattened:\n&quot;,</td>
      </tr>
      <tr>
        <td id="L843" class="blob-num js-line-number" data-line-number="843"></td>
        <td id="LC843" class="blob-code js-file-line">      &quot;        try:\n&quot;,</td>
      </tr>
      <tr>
        <td id="L844" class="blob-num js-line-number" data-line-number="844"></td>
        <td id="LC844" class="blob-code js-file-line">      &quot;            part[&#39;r&#39;] = part[&#39;r&#39;] + pos\n&quot;,</td>
      </tr>
      <tr>
        <td id="L845" class="blob-num js-line-number" data-line-number="845"></td>
        <td id="LC845" class="blob-code js-file-line">      &quot;        except TypeError:\n&quot;,</td>
      </tr>
      <tr>
        <td id="L846" class="blob-num js-line-number" data-line-number="846"></td>
        <td id="LC846" class="blob-code js-file-line">      &quot;            part[&#39;r&#39;] = np.array(part[&#39;r&#39;].split(\&quot; \&quot;), float) + pos\n&quot;,</td>
      </tr>
      <tr>
        <td id="L847" class="blob-num js-line-number" data-line-number="847"></td>
        <td id="LC847" class="blob-code js-file-line">      &quot;    return flattened\n&quot;,</td>
      </tr>
      <tr>
        <td id="L848" class="blob-num js-line-number" data-line-number="848"></td>
        <td id="LC848" class="blob-code js-file-line">      &quot;\n&quot;,</td>
      </tr>
      <tr>
        <td id="L849" class="blob-num js-line-number" data-line-number="849"></td>
        <td id="LC849" class="blob-code js-file-line">      &quot;\n&quot;,</td>
      </tr>
      <tr>
        <td id="L850" class="blob-num js-line-number" data-line-number="850"></td>
        <td id="LC850" class="blob-code js-file-line">      &quot;def single_run(therun):\n&quot;,</td>
      </tr>
      <tr>
        <td id="L851" class="blob-num js-line-number" data-line-number="851"></td>
        <td id="LC851" class="blob-code js-file-line">      &quot;    \&quot;\&quot;\&quot;Perform a single run from a Run object.\&quot;\&quot;\&quot;\n&quot;,</td>
      </tr>
      <tr>
        <td id="L852" class="blob-num js-line-number" data-line-number="852"></td>
        <td id="LC852" class="blob-code js-file-line">      &quot;    cmds = []\n&quot;,</td>
      </tr>
      <tr>
        <td id="L853" class="blob-num js-line-number" data-line-number="853"></td>
        <td id="LC853" class="blob-code js-file-line">      &quot;\n&quot;,</td>
      </tr>
      <tr>
        <td id="L854" class="blob-num js-line-number" data-line-number="854"></td>
        <td id="LC854" class="blob-code js-file-line">      &quot;    if therun.kingmodel:\n&quot;,</td>
      </tr>
      <tr>
        <td id="L855" class="blob-num js-line-number" data-line-number="855"></td>
        <td id="LC855" class="blob-code js-file-line">      &quot;        cmds.append([\&quot;makeking\&quot;,\n&quot;,</td>
      </tr>
      <tr>
        <td id="L856" class="blob-num js-line-number" data-line-number="856"></td>
        <td id="LC856" class="blob-code js-file-line">      &quot;                      \&quot;-n\&quot;, \&quot;%d\&quot;%therun.nstars,\n&quot;,</td>
      </tr>
      <tr>
        <td id="L857" class="blob-num js-line-number" data-line-number="857"></td>
        <td id="LC857" class="blob-code js-file-line">      &quot;                      \&quot;-w\&quot;, \&quot;%3.1f\&quot;%therun.w0,\n&quot;,</td>
      </tr>
      <tr>
        <td id="L858" class="blob-num js-line-number" data-line-number="858"></td>
        <td id="LC858" class="blob-code js-file-line">      &quot;                      \&quot;-i\&quot;])\n&quot;,</td>
      </tr>
      <tr>
        <td id="L859" class="blob-num js-line-number" data-line-number="859"></td>
        <td id="LC859" class="blob-code js-file-line">      &quot;    else:\n&quot;,</td>
      </tr>
      <tr>
        <td id="L860" class="blob-num js-line-number" data-line-number="860"></td>
        <td id="LC860" class="blob-code js-file-line">      &quot;        cmds.append([\&quot;makeplummer\&quot;,\n&quot;,</td>
      </tr>
      <tr>
        <td id="L861" class="blob-num js-line-number" data-line-number="861"></td>
        <td id="LC861" class="blob-code js-file-line">      &quot;                      \&quot;-n\&quot;, \&quot;%d\&quot;%therun.nstars,\n&quot;,</td>
      </tr>
      <tr>
        <td id="L862" class="blob-num js-line-number" data-line-number="862"></td>
        <td id="LC862" class="blob-code js-file-line">      &quot;                      \&quot;-i\&quot;])\n&quot;,</td>
      </tr>
      <tr>
        <td id="L863" class="blob-num js-line-number" data-line-number="863"></td>
        <td id="LC863" class="blob-code js-file-line">      &quot;\n&quot;,</td>
      </tr>
      <tr>
        <td id="L864" class="blob-num js-line-number" data-line-number="864"></td>
        <td id="LC864" class="blob-code js-file-line">      &quot;    cmds.append([\&quot;makemass\&quot;,\n&quot;,</td>
      </tr>
      <tr>
        <td id="L865" class="blob-num js-line-number" data-line-number="865"></td>
        <td id="LC865" class="blob-code js-file-line">      &quot;                  \&quot;-f\&quot;, \&quot;%d\&quot;%therun.masstype,\n&quot;,</td>
      </tr>
      <tr>
        <td id="L866" class="blob-num js-line-number" data-line-number="866"></td>
        <td id="LC866" class="blob-code js-file-line">      &quot;                  \&quot;-l\&quot;, \&quot;%f\&quot;%therun.lowerlimit,\n&quot;,</td>
      </tr>
      <tr>
        <td id="L867" class="blob-num js-line-number" data-line-number="867"></td>
        <td id="LC867" class="blob-code js-file-line">      &quot;                  \&quot;-u\&quot;, \&quot;%f\&quot;%therun.upperlimit,\n&quot;,</td>
      </tr>
      <tr>
        <td id="L868" class="blob-num js-line-number" data-line-number="868"></td>
        <td id="LC868" class="blob-code js-file-line">      &quot;                  \&quot;-i\&quot;])\n&quot;,</td>
      </tr>
      <tr>
        <td id="L869" class="blob-num js-line-number" data-line-number="869"></td>
        <td id="LC869" class="blob-code js-file-line">      &quot;\n&quot;,</td>
      </tr>
      <tr>
        <td id="L870" class="blob-num js-line-number" data-line-number="870"></td>
        <td id="LC870" class="blob-code js-file-line">      &quot;    cmds.append([\&quot;makesecondary\&quot;,\n&quot;,</td>
      </tr>
      <tr>
        <td id="L871" class="blob-num js-line-number" data-line-number="871"></td>
        <td id="LC871" class="blob-code js-file-line">      &quot;                  \&quot;-f\&quot;, \&quot;%d\&quot;%therun.binarypercent,\n&quot;,</td>
      </tr>
      <tr>
        <td id="L872" class="blob-num js-line-number" data-line-number="872"></td>
        <td id="LC872" class="blob-code js-file-line">      &quot;                  \&quot;-l\&quot;, \&quot;%f\&quot;%therun.binarylimit\n&quot;,</td>
      </tr>
      <tr>
        <td id="L873" class="blob-num js-line-number" data-line-number="873"></td>
        <td id="LC873" class="blob-code js-file-line">      &quot;\t\t])\n&quot;,</td>
      </tr>
      <tr>
        <td id="L874" class="blob-num js-line-number" data-line-number="874"></td>
        <td id="LC874" class="blob-code js-file-line">      &quot;\n&quot;,</td>
      </tr>
      <tr>
        <td id="L875" class="blob-num js-line-number" data-line-number="875"></td>
        <td id="LC875" class="blob-code js-file-line">      &quot;    cmds.append([\&quot;scale\&quot;,\n&quot;,</td>
      </tr>
      <tr>
        <td id="L876" class="blob-num js-line-number" data-line-number="876"></td>
        <td id="LC876" class="blob-code js-file-line">      &quot;                  \&quot;-m\&quot;, \&quot;1\&quot;,\n&quot;,</td>
      </tr>
      <tr>
        <td id="L877" class="blob-num js-line-number" data-line-number="877"></td>
        <td id="LC877" class="blob-code js-file-line">      &quot;                  \&quot;-e\&quot;, \&quot;-0.25\&quot;,\n&quot;,</td>
      </tr>
      <tr>
        <td id="L878" class="blob-num js-line-number" data-line-number="878"></td>
        <td id="LC878" class="blob-code js-file-line">      &quot;                  \&quot;-q\&quot;, \&quot;0.5\&quot;])\n&quot;,</td>
      </tr>
      <tr>
        <td id="L879" class="blob-num js-line-number" data-line-number="879"></td>
        <td id="LC879" class="blob-code js-file-line">      &quot;\n&quot;,</td>
      </tr>
      <tr>
        <td id="L880" class="blob-num js-line-number" data-line-number="880"></td>
        <td id="LC880" class="blob-code js-file-line">      &quot;    cmds.append([\&quot;makebinary\&quot;,\n&quot;,</td>
      </tr>
      <tr>
        <td id="L881" class="blob-num js-line-number" data-line-number="881"></td>
        <td id="LC881" class="blob-code js-file-line">      &quot;                  \&quot;-l\&quot;, \&quot;%d\&quot;%therun.binarypoplower,\n&quot;,</td>
      </tr>
      <tr>
        <td id="L882" class="blob-num js-line-number" data-line-number="882"></td>
        <td id="LC882" class="blob-code js-file-line">      &quot;                  \&quot;-u\&quot;, \&quot;%f\&quot;%therun.binarypopupper\n&quot;,</td>
      </tr>
      <tr>
        <td id="L883" class="blob-num js-line-number" data-line-number="883"></td>
        <td id="LC883" class="blob-code js-file-line">      &quot;\t\t])\n&quot;,</td>
      </tr>
      <tr>
        <td id="L884" class="blob-num js-line-number" data-line-number="884"></td>
        <td id="LC884" class="blob-code js-file-line">      &quot;\n&quot;,</td>
      </tr>
      <tr>
        <td id="L885" class="blob-num js-line-number" data-line-number="885"></td>
        <td id="LC885" class="blob-code js-file-line">      &quot;    cmds.append([\&quot;kira\&quot;, \&quot;-t\&quot;, \&quot;%d\&quot;%therun.runlength,\n&quot;,</td>
      </tr>
      <tr>
        <td id="L886" class="blob-num js-line-number" data-line-number="886"></td>
        <td id="LC886" class="blob-code js-file-line">      &quot;                  \&quot;-d\&quot;, \&quot;%f\&quot;%therun.diagout,\n&quot;,</td>
      </tr>
      <tr>
        <td id="L887" class="blob-num js-line-number" data-line-number="887"></td>
        <td id="LC887" class="blob-code js-file-line">      &quot;                  \&quot;-D\&quot;, \&quot;%f\&quot;%therun.dumpout,\n&quot;,</td>
      </tr>
      <tr>
        <td id="L888" class="blob-num js-line-number" data-line-number="888"></td>
        <td id="LC888" class="blob-code js-file-line">      &quot;                  \&quot;-n\&quot;, \&quot;10\&quot;,\n&quot;,</td>
      </tr>
      <tr>
        <td id="L889" class="blob-num js-line-number" data-line-number="889"></td>
        <td id="LC889" class="blob-code js-file-line">      &quot;                  \&quot;-q\&quot;, \&quot;0.5\&quot;])\n&quot;,</td>
      </tr>
      <tr>
        <td id="L890" class="blob-num js-line-number" data-line-number="890"></td>
        <td id="LC890" class="blob-code js-file-line">      &quot;\n&quot;,</td>
      </tr>
      <tr>
        <td id="L891" class="blob-num js-line-number" data-line-number="891"></td>
        <td id="LC891" class="blob-code js-file-line">      &quot;    therun.uuid = fs_process_commands(cmds)\n&quot;,</td>
      </tr>
      <tr>
        <td id="L892" class="blob-num js-line-number" data-line-number="892"></td>
        <td id="LC892" class="blob-code js-file-line">      &quot;    therun.nframes = kiraout_to_xml(therun.uuid)\n&quot;,</td>
      </tr>
      <tr>
        <td id="L893" class="blob-num js-line-number" data-line-number="893"></td>
        <td id="LC893" class="blob-code js-file-line">      &quot;    return therun\n&quot;,</td>
      </tr>
      <tr>
        <td id="L894" class="blob-num js-line-number" data-line-number="894"></td>
        <td id="LC894" class="blob-code js-file-line">      &quot;\n&quot;,</td>
      </tr>
      <tr>
        <td id="L895" class="blob-num js-line-number" data-line-number="895"></td>
        <td id="LC895" class="blob-code js-file-line">      &quot;def animate_run(therun):\n&quot;,</td>
      </tr>
      <tr>
        <td id="L896" class="blob-num js-line-number" data-line-number="896"></td>
        <td id="LC896" class="blob-code js-file-line">      &quot;    theuuid = therun.uuid\n&quot;,</td>
      </tr>
      <tr>
        <td id="L897" class="blob-num js-line-number" data-line-number="897"></td>
        <td id="LC897" class="blob-code js-file-line">      &quot;    moviename = animate_from_fs(str(theuuid), therun.nframes, use_warehouse=True)\n&quot;,</td>
      </tr>
      <tr>
        <td id="L898" class="blob-num js-line-number" data-line-number="898"></td>
        <td id="LC898" class="blob-code js-file-line">      &quot;    return moviename\n&quot;,</td>
      </tr>
      <tr>
        <td id="L899" class="blob-num js-line-number" data-line-number="899"></td>
        <td id="LC899" class="blob-code js-file-line">      &quot;\n&quot;,</td>
      </tr>
      <tr>
        <td id="L900" class="blob-num js-line-number" data-line-number="900"></td>
        <td id="LC900" class="blob-code js-file-line">      &quot;def flatten_particle(part):\n&quot;,</td>
      </tr>
      <tr>
        <td id="L901" class="blob-num js-line-number" data-line-number="901"></td>
        <td id="LC901" class="blob-code js-file-line">      &quot;    \&quot;\&quot;\&quot;Turn a prarticle into a dictionary with the appropriate values, recursing if necessary.\&quot;\&quot;\&quot;\n&quot;,</td>
      </tr>
      <tr>
        <td id="L902" class="blob-num js-line-number" data-line-number="902"></td>
        <td id="LC902" class="blob-code js-file-line">      &quot;    nparticles = int(part.xpath(&#39;./value[@ N]/@ N&#39;)[0])\n&quot;,</td>
      </tr>
      <tr>
        <td id="L903" class="blob-num js-line-number" data-line-number="903"></td>
        <td id="LC903" class="blob-code js-file-line">      &quot;    #print nparticles\n&quot;,</td>
      </tr>
      <tr>
        <td id="L904" class="blob-num js-line-number" data-line-number="904"></td>
        <td id="LC904" class="blob-code js-file-line">      &quot;    r = str_to_vect(part.xpath(&#39;./Dynamics/value[@ r]/@ r&#39;)[0])\n&quot;,</td>
      </tr>
      <tr>
        <td id="L905" class="blob-num js-line-number" data-line-number="905"></td>
        <td id="LC905" class="blob-code js-file-line">      &quot;    v = str_to_vect(part.xpath(&#39;./Dynamics/value[@ v]/@ v&#39;)[0])\n&quot;,</td>
      </tr>
      <tr>
        <td id="L906" class="blob-num js-line-number" data-line-number="906"></td>
        <td id="LC906" class="blob-code js-file-line">      &quot;    \n&quot;,</td>
      </tr>
      <tr>
        <td id="L907" class="blob-num js-line-number" data-line-number="907"></td>
        <td id="LC907" class="blob-code js-file-line">      &quot;    if nparticles == 1:\n&quot;,</td>
      </tr>
      <tr>
        <td id="L908" class="blob-num js-line-number" data-line-number="908"></td>
        <td id="LC908" class="blob-code js-file-line">      &quot;        parti = int(part.xpath(&#39;./value[@ i]/@ i&#39;)[0])\n&quot;,</td>
      </tr>
      <tr>
        <td id="L909" class="blob-num js-line-number" data-line-number="909"></td>
        <td id="LC909" class="blob-code js-file-line">      &quot;        m = float(part.xpath(&#39;./Dynamics/value[@ m]/@ m&#39;)[0])\n&quot;,</td>
      </tr>
      <tr>
        <td id="L910" class="blob-num js-line-number" data-line-number="910"></td>
        <td id="LC910" class="blob-code js-file-line">      &quot;        radius = np.sqrt(r.dot(r))\n&quot;,</td>
      </tr>
      <tr>
        <td id="L911" class="blob-num js-line-number" data-line-number="911"></td>
        <td id="LC911" class="blob-code js-file-line">      &quot;        pot = float(part.xpath(&#39;./Dynamics/value[@ pot]/@ pot&#39;)[0])\n&quot;,</td>
      </tr>
      <tr>
        <td id="L912" class="blob-num js-line-number" data-line-number="912"></td>
        <td id="LC912" class="blob-code js-file-line">      &quot;        partdict = {parti: {&#39;x&#39;:r[0], &#39;y&#39;:r[1], &#39;z&#39;:r[2], &#39;m&#39;:m, &#39;radius&#39;:radius} }\n&quot;,</td>
      </tr>
      <tr>
        <td id="L913" class="blob-num js-line-number" data-line-number="913"></td>
        <td id="LC913" class="blob-code js-file-line">      &quot;        partdict[parti].update({&#39;vx&#39;:v[0], &#39;vy&#39;:v[1], &#39;vz&#39;:v[2], &#39;pot&#39;:pot})\n&quot;,</td>
      </tr>
      <tr>
        <td id="L914" class="blob-num js-line-number" data-line-number="914"></td>
        <td id="LC914" class="blob-code js-file-line">      &quot;    else:\n&quot;,</td>
      </tr>
      <tr>
        <td id="L915" class="blob-num js-line-number" data-line-number="915"></td>
        <td id="LC915" class="blob-code js-file-line">      &quot;        # this node is not a leaf; we have to do the subtree\n&quot;,</td>
      </tr>
      <tr>
        <td id="L916" class="blob-num js-line-number" data-line-number="916"></td>
        <td id="LC916" class="blob-code js-file-line">      &quot;        partdict = {}\n&quot;,</td>
      </tr>
      <tr>
        <td id="L917" class="blob-num js-line-number" data-line-number="917"></td>
        <td id="LC917" class="blob-code js-file-line">      &quot;        for subpart in part.xpath(&#39;./Particle&#39;):\n&quot;,</td>
      </tr>
      <tr>
        <td id="L918" class="blob-num js-line-number" data-line-number="918"></td>
        <td id="LC918" class="blob-code js-file-line">      &quot;            tpd = flatten_particle(subpart)\n&quot;,</td>
      </tr>
      <tr>
        <td id="L919" class="blob-num js-line-number" data-line-number="919"></td>
        <td id="LC919" class="blob-code js-file-line">      &quot;            #print tpd\n&quot;,</td>
      </tr>
      <tr>
        <td id="L920" class="blob-num js-line-number" data-line-number="920"></td>
        <td id="LC920" class="blob-code js-file-line">      &quot;            partdict.update(tpd)\n&quot;,</td>
      </tr>
      <tr>
        <td id="L921" class="blob-num js-line-number" data-line-number="921"></td>
        <td id="LC921" class="blob-code js-file-line">      &quot;        for key in partdict.keys():\n&quot;,</td>
      </tr>
      <tr>
        <td id="L922" class="blob-num js-line-number" data-line-number="922"></td>
        <td id="LC922" class="blob-code js-file-line">      &quot;            partdict[key][&#39;x&#39;] += r[0]\n&quot;,</td>
      </tr>
      <tr>
        <td id="L923" class="blob-num js-line-number" data-line-number="923"></td>
        <td id="LC923" class="blob-code js-file-line">      &quot;            partdict[key][&#39;y&#39;] += r[1]\n&quot;,</td>
      </tr>
      <tr>
        <td id="L924" class="blob-num js-line-number" data-line-number="924"></td>
        <td id="LC924" class="blob-code js-file-line">      &quot;            partdict[key][&#39;z&#39;] += r[2]\n&quot;,</td>
      </tr>
      <tr>
        <td id="L925" class="blob-num js-line-number" data-line-number="925"></td>
        <td id="LC925" class="blob-code js-file-line">      &quot;            partdict[key][&#39;vx&#39;] += v[0]\n&quot;,</td>
      </tr>
      <tr>
        <td id="L926" class="blob-num js-line-number" data-line-number="926"></td>
        <td id="LC926" class="blob-code js-file-line">      &quot;            partdict[key][&#39;vy&#39;] += v[1]\n&quot;,</td>
      </tr>
      <tr>
        <td id="L927" class="blob-num js-line-number" data-line-number="927"></td>
        <td id="LC927" class="blob-code js-file-line">      &quot;            partdict[key][&#39;vz&#39;] += v[2]\n&quot;,</td>
      </tr>
      <tr>
        <td id="L928" class="blob-num js-line-number" data-line-number="928"></td>
        <td id="LC928" class="blob-code js-file-line">      &quot;            partdict[key][&#39;radius&#39;] = np.sqrt(partdict[key][&#39;x&#39;]**2+partdict[key][&#39;y&#39;]**2+partdict[key][&#39;z&#39;]**2)\n&quot;,</td>
      </tr>
      <tr>
        <td id="L929" class="blob-num js-line-number" data-line-number="929"></td>
        <td id="LC929" class="blob-code js-file-line">      &quot;            partdict[key][&#39;kinetic&#39;] = (partdict[key][&#39;vx&#39;]**2+partdict[key][&#39;vy&#39;]**2+partdict[key][&#39;vz&#39;]**2)*partdict[key][&#39;m&#39;]/2.0\n&quot;,</td>
      </tr>
      <tr>
        <td id="L930" class="blob-num js-line-number" data-line-number="930"></td>
        <td id="LC930" class="blob-code js-file-line">      &quot;    return partdict\n&quot;,</td>
      </tr>
      <tr>
        <td id="L931" class="blob-num js-line-number" data-line-number="931"></td>
        <td id="LC931" class="blob-code js-file-line">      &quot;\n&quot;,</td>
      </tr>
      <tr>
        <td id="L932" class="blob-num js-line-number" data-line-number="932"></td>
        <td id="LC932" class="blob-code js-file-line">      &quot;def extract_from_frame(therun, framenum):\n&quot;,</td>
      </tr>
      <tr>
        <td id="L933" class="blob-num js-line-number" data-line-number="933"></td>
        <td id="LC933" class="blob-code js-file-line">      &quot;    filebase = str(therun.uuid)\n&quot;,</td>
      </tr>
      <tr>
        <td id="L934" class="blob-num js-line-number" data-line-number="934"></td>
        <td id="LC934" class="blob-code js-file-line">      &quot;    xmlname = &#39;.warehouse/&#39; + filebase + \&quot;.%d.xml\&quot; % framenum\n&quot;,</td>
      </tr>
      <tr>
        <td id="L935" class="blob-num js-line-number" data-line-number="935"></td>
        <td id="LC935" class="blob-code js-file-line">      &quot;    frame = etree.parse(xmlname)\n&quot;,</td>
      </tr>
      <tr>
        <td id="L936" class="blob-num js-line-number" data-line-number="936"></td>
        <td id="LC936" class="blob-code js-file-line">      &quot;\n&quot;,</td>
      </tr>
      <tr>
        <td id="L937" class="blob-num js-line-number" data-line-number="937"></td>
        <td id="LC937" class="blob-code js-file-line">      &quot;    extracted = {}\n&quot;,</td>
      </tr>
      <tr>
        <td id="L938" class="blob-num js-line-number" data-line-number="938"></td>
        <td id="LC938" class="blob-code js-file-line">      &quot;    \n&quot;,</td>
      </tr>
      <tr>
        <td id="L939" class="blob-num js-line-number" data-line-number="939"></td>
        <td id="LC939" class="blob-code js-file-line">      &quot;    nparticles = int(frame.xpath(&#39;/Particle/value[@ N]/@ N&#39;)[0])\n&quot;,</td>
      </tr>
      <tr>
        <td id="L940" class="blob-num js-line-number" data-line-number="940"></td>
        <td id="LC940" class="blob-code js-file-line">      &quot;    time = float(frame.xpath(&#39;/Particle/Dynamics/value[@ t]/@ t&#39;)[0])\n&quot;,</td>
      </tr>
      <tr>
        <td id="L941" class="blob-num js-line-number" data-line-number="941"></td>
        <td id="LC941" class="blob-code js-file-line">      &quot;\n&quot;,</td>
      </tr>
      <tr>
        <td id="L942" class="blob-num js-line-number" data-line-number="942"></td>
        <td id="LC942" class="blob-code js-file-line">      &quot;    center_r = str_to_vect(frame.xpath(&#39;/Particle/Dynamics/value[@ r]/@ r&#39;)[0])\n&quot;,</td>
      </tr>
      <tr>
        <td id="L943" class="blob-num js-line-number" data-line-number="943"></td>
        <td id="LC943" class="blob-code js-file-line">      &quot;    com_pos = str_to_vect(frame.xpath(&#39;/Particle/Dynamics/value[@ com_pos]/@ com_pos&#39;)[0])\n&quot;,</td>
      </tr>
      <tr>
        <td id="L944" class="blob-num js-line-number" data-line-number="944"></td>
        <td id="LC944" class="blob-code js-file-line">      &quot;    mcom_pos = str_to_vect(frame.xpath(&#39;/Particle/Dynamics/value[@ mcom_pos]/@ mcom_pos&#39;)[0])\n&quot;,</td>
      </tr>
      <tr>
        <td id="L945" class="blob-num js-line-number" data-line-number="945"></td>
        <td id="LC945" class="blob-code js-file-line">      &quot;    mass_scale = float(frame.xpath(&#39;/Particle/Star/value[@ mass_scale]/@ mass_scale&#39;)[0])\n&quot;,</td>
      </tr>
      <tr>
        <td id="L946" class="blob-num js-line-number" data-line-number="946"></td>
        <td id="LC946" class="blob-code js-file-line">      &quot;    time_scale = float(frame.xpath(&#39;/Particle/Star/value[@ time_scale]/@ time_scale&#39;)[0])\n&quot;,</td>
      </tr>
      <tr>
        <td id="L947" class="blob-num js-line-number" data-line-number="947"></td>
        <td id="LC947" class="blob-code js-file-line">      &quot;    size_scale = float(frame.xpath(&#39;/Particle/Star/value[@ size_scale]/@ size_scale&#39;)[0])\n&quot;,</td>
      </tr>
      <tr>
        <td id="L948" class="blob-num js-line-number" data-line-number="948"></td>
        <td id="LC948" class="blob-code js-file-line">      &quot;\n&quot;,</td>
      </tr>
      <tr>
        <td id="L949" class="blob-num js-line-number" data-line-number="949"></td>
        <td id="LC949" class="blob-code js-file-line">      &quot;    particledict = {}\n&quot;,</td>
      </tr>
      <tr>
        <td id="L950" class="blob-num js-line-number" data-line-number="950"></td>
        <td id="LC950" class="blob-code js-file-line">      &quot;    for part in frame.xpath(&#39;/Particle/Particle&#39;):\n&quot;,</td>
      </tr>
      <tr>
        <td id="L951" class="blob-num js-line-number" data-line-number="951"></td>
        <td id="LC951" class="blob-code js-file-line">      &quot;        subpartdict = flatten_particle(part)\n&quot;,</td>
      </tr>
      <tr>
        <td id="L952" class="blob-num js-line-number" data-line-number="952"></td>
        <td id="LC952" class="blob-code js-file-line">      &quot;        particledict.update(subpartdict)\n&quot;,</td>
      </tr>
      <tr>
        <td id="L953" class="blob-num js-line-number" data-line-number="953"></td>
        <td id="LC953" class="blob-code js-file-line">      &quot;    for key in particledict.keys():\n&quot;,</td>
      </tr>
      <tr>
        <td id="L954" class="blob-num js-line-number" data-line-number="954"></td>
        <td id="LC954" class="blob-code js-file-line">      &quot;        particledict[key][&#39;x_mcom&#39;] = particledict[key][&#39;x&#39;] - mcom_pos[0] + center_r[0]\n&quot;,</td>
      </tr>
      <tr>
        <td id="L955" class="blob-num js-line-number" data-line-number="955"></td>
        <td id="LC955" class="blob-code js-file-line">      &quot;        particledict[key][&#39;y_mcom&#39;] = particledict[key][&#39;y&#39;] - mcom_pos[1] + center_r[1]\n&quot;,</td>
      </tr>
      <tr>
        <td id="L956" class="blob-num js-line-number" data-line-number="956"></td>
        <td id="LC956" class="blob-code js-file-line">      &quot;        particledict[key][&#39;z_mcom&#39;] = particledict[key][&#39;z&#39;] - mcom_pos[2] + center_r[2]\n&quot;,</td>
      </tr>
      <tr>
        <td id="L957" class="blob-num js-line-number" data-line-number="957"></td>
        <td id="LC957" class="blob-code js-file-line">      &quot;        particledict[key][&#39;x_com&#39;] = particledict[key][&#39;x&#39;] - com_pos[0] + center_r[0]\n&quot;,</td>
      </tr>
      <tr>
        <td id="L958" class="blob-num js-line-number" data-line-number="958"></td>
        <td id="LC958" class="blob-code js-file-line">      &quot;        particledict[key][&#39;y_com&#39;] = particledict[key][&#39;y&#39;] - com_pos[1] + center_r[1]\n&quot;,</td>
      </tr>
      <tr>
        <td id="L959" class="blob-num js-line-number" data-line-number="959"></td>
        <td id="LC959" class="blob-code js-file-line">      &quot;        particledict[key][&#39;z_com&#39;] = particledict[key][&#39;z&#39;] - com_pos[2] + center_r[2]\n&quot;,</td>
      </tr>
      <tr>
        <td id="L960" class="blob-num js-line-number" data-line-number="960"></td>
        <td id="LC960" class="blob-code js-file-line">      &quot;        particledict[key][&#39;radius&#39;] = np.sqrt(particledict[key][&#39;x_mcom&#39;]**2 +\n&quot;,</td>
      </tr>
      <tr>
        <td id="L961" class="blob-num js-line-number" data-line-number="961"></td>
        <td id="LC961" class="blob-code js-file-line">      &quot;                                              particledict[key][&#39;y_mcom&#39;]**2 +\n&quot;,</td>
      </tr>
      <tr>
        <td id="L962" class="blob-num js-line-number" data-line-number="962"></td>
        <td id="LC962" class="blob-code js-file-line">      &quot;                                              particledict[key][&#39;z_mcom&#39;]**2)\n&quot;,</td>
      </tr>
      <tr>
        <td id="L963" class="blob-num js-line-number" data-line-number="963"></td>
        <td id="LC963" class="blob-code js-file-line">      &quot;    framedataframe = pd.DataFrame(particledict)\n&quot;,</td>
      </tr>
      <tr>
        <td id="L964" class="blob-num js-line-number" data-line-number="964"></td>
        <td id="LC964" class="blob-code js-file-line">      &quot;\n&quot;,</td>
      </tr>
      <tr>
        <td id="L965" class="blob-num js-line-number" data-line-number="965"></td>
        <td id="LC965" class="blob-code js-file-line">      &quot;    return framedataframe, time, nparticles\n&quot;,</td>
      </tr>
      <tr>
        <td id="L966" class="blob-num js-line-number" data-line-number="966"></td>
        <td id="LC966" class="blob-code js-file-line">      &quot;\n&quot;,</td>
      </tr>
      <tr>
        <td id="L967" class="blob-num js-line-number" data-line-number="967"></td>
        <td id="LC967" class="blob-code js-file-line">      &quot;def run_to_panel(therun):\n&quot;,</td>
      </tr>
      <tr>
        <td id="L968" class="blob-num js-line-number" data-line-number="968"></td>
        <td id="LC968" class="blob-code js-file-line">      &quot;    nframes = int(therun.runlength/therun.dumpout)\n&quot;,</td>
      </tr>
      <tr>
        <td id="L969" class="blob-num js-line-number" data-line-number="969"></td>
        <td id="LC969" class="blob-code js-file-line">      &quot;    paneldict={}\n&quot;,</td>
      </tr>
      <tr>
        <td id="L970" class="blob-num js-line-number" data-line-number="970"></td>
        <td id="LC970" class="blob-code js-file-line">      &quot;    for frame in xrange(nframes):\n&quot;,</td>
      </tr>
      <tr>
        <td id="L971" class="blob-num js-line-number" data-line-number="971"></td>
        <td id="LC971" class="blob-code js-file-line">      &quot;        df, time, nparticles = extract_from_frame(therun, frame)\n&quot;,</td>
      </tr>
      <tr>
        <td id="L972" class="blob-num js-line-number" data-line-number="972"></td>
        <td id="LC972" class="blob-code js-file-line">      &quot;        paneldict[time] = df\n&quot;,</td>
      </tr>
      <tr>
        <td id="L973" class="blob-num js-line-number" data-line-number="973"></td>
        <td id="LC973" class="blob-code js-file-line">      &quot;    thepanel = pd.Panel(paneldict)\n&quot;,</td>
      </tr>
      <tr>
        <td id="L974" class="blob-num js-line-number" data-line-number="974"></td>
        <td id="LC974" class="blob-code js-file-line">      &quot;    return thepanel.transpose(items=&#39;major&#39;, major=&#39;minor&#39;, minor=&#39;items&#39;)\n&quot;,</td>
      </tr>
      <tr>
        <td id="L975" class="blob-num js-line-number" data-line-number="975"></td>
        <td id="LC975" class="blob-code js-file-line">      &quot;\n&quot;,</td>
      </tr>
      <tr>
        <td id="L976" class="blob-num js-line-number" data-line-number="976"></td>
        <td id="LC976" class="blob-code js-file-line">      &quot;def massradius(pan, quantity=&#39;radius&#39;, fraction=0.1):\n&quot;,</td>
      </tr>
      <tr>
        <td id="L977" class="blob-num js-line-number" data-line-number="977"></td>
        <td id="LC977" class="blob-code js-file-line">      &quot;    times = pan[quantity].keys()\n&quot;,</td>
      </tr>
      <tr>
        <td id="L978" class="blob-num js-line-number" data-line-number="978"></td>
        <td id="LC978" class="blob-code js-file-line">      &quot;    high_mass_radius_list = []\n&quot;,</td>
      </tr>
      <tr>
        <td id="L979" class="blob-num js-line-number" data-line-number="979"></td>
        <td id="LC979" class="blob-code js-file-line">      &quot;    low_mass_radius_list = []\n&quot;,</td>
      </tr>
      <tr>
        <td id="L980" class="blob-num js-line-number" data-line-number="980"></td>
        <td id="LC980" class="blob-code js-file-line">      &quot;    nstars = pan[quantity][times[0]].count()\n&quot;,</td>
      </tr>
      <tr>
        <td id="L981" class="blob-num js-line-number" data-line-number="981"></td>
        <td id="LC981" class="blob-code js-file-line">      &quot;    nfrac = int(nstars * fraction)\n&quot;,</td>
      </tr>
      <tr>
        <td id="L982" class="blob-num js-line-number" data-line-number="982"></td>
        <td id="LC982" class="blob-code js-file-line">      &quot;    \n&quot;,</td>
      </tr>
      <tr>
        <td id="L983" class="blob-num js-line-number" data-line-number="983"></td>
        <td id="LC983" class="blob-code js-file-line">      &quot;    hmseries = pan[quantity][0:nfrac].median()\n&quot;,</td>
      </tr>
      <tr>
        <td id="L984" class="blob-num js-line-number" data-line-number="984"></td>
        <td id="LC984" class="blob-code js-file-line">      &quot;    lmseries = pan[quantity][-nfrac:-1].median()\n&quot;,</td>
      </tr>
      <tr>
        <td id="L985" class="blob-num js-line-number" data-line-number="985"></td>
        <td id="LC985" class="blob-code js-file-line">      &quot;    ratioseries = lmseries/hmseries\n&quot;,</td>
      </tr>
      <tr>
        <td id="L986" class="blob-num js-line-number" data-line-number="986"></td>
        <td id="LC986" class="blob-code js-file-line">      &quot;        #print time, hmr, lmr\n&quot;,</td>
      </tr>
      <tr>
        <td id="L987" class="blob-num js-line-number" data-line-number="987"></td>
        <td id="LC987" class="blob-code js-file-line">      &quot;        \n&quot;,</td>
      </tr>
      <tr>
        <td id="L988" class="blob-num js-line-number" data-line-number="988"></td>
        <td id="LC988" class="blob-code js-file-line">      &quot;#    lmseries = pd.Series(data=low_mass_radius_list, index=times)\n&quot;,</td>
      </tr>
      <tr>
        <td id="L989" class="blob-num js-line-number" data-line-number="989"></td>
        <td id="LC989" class="blob-code js-file-line">      &quot;#    hmseries = pd.Series(data=high_mass_radius_list, index=times)\n&quot;,</td>
      </tr>
      <tr>
        <td id="L990" class="blob-num js-line-number" data-line-number="990"></td>
        <td id="LC990" class="blob-code js-file-line">      &quot;#    ratioseries = pd.Series(data=ratios, index=times)\n&quot;,</td>
      </tr>
      <tr>
        <td id="L991" class="blob-num js-line-number" data-line-number="991"></td>
        <td id="LC991" class="blob-code js-file-line">      &quot;    return(ratioseries, lmseries, hmseries)\n&quot;,</td>
      </tr>
      <tr>
        <td id="L992" class="blob-num js-line-number" data-line-number="992"></td>
        <td id="LC992" class="blob-code js-file-line">      &quot;\n&quot;,</td>
      </tr>
      <tr>
        <td id="L993" class="blob-num js-line-number" data-line-number="993"></td>
        <td id="LC993" class="blob-code js-file-line">      &quot;def list_ensembles():\n&quot;,</td>
      </tr>
      <tr>
        <td id="L994" class="blob-num js-line-number" data-line-number="994"></td>
        <td id="LC994" class="blob-code js-file-line">      &quot;    ensfiles= glob.glob(&#39;./*.ensemble&#39;)\n&quot;,</td>
      </tr>
      <tr>
        <td id="L995" class="blob-num js-line-number" data-line-number="995"></td>
        <td id="LC995" class="blob-code js-file-line">      &quot;    print \&quot;%d ensembles:\\n\&quot; % len(ensfiles)\n&quot;,</td>
      </tr>
      <tr>
        <td id="L996" class="blob-num js-line-number" data-line-number="996"></td>
        <td id="LC996" class="blob-code js-file-line">      &quot;    for ensf in ensfiles:\n&quot;,</td>
      </tr>
      <tr>
        <td id="L997" class="blob-num js-line-number" data-line-number="997"></td>
        <td id="LC997" class="blob-code js-file-line">      &quot;        ensfile = open(ensf, &#39;rb&#39;)\n&quot;,</td>
      </tr>
      <tr>
        <td id="L998" class="blob-num js-line-number" data-line-number="998"></td>
        <td id="LC998" class="blob-code js-file-line">      &quot;        try:\n&quot;,</td>
      </tr>
      <tr>
        <td id="L999" class="blob-num js-line-number" data-line-number="999"></td>
        <td id="LC999" class="blob-code js-file-line">      &quot;            runslist = pickle.load(ensfile)\n&quot;,</td>
      </tr>
      <tr>
        <td id="L1000" class="blob-num js-line-number" data-line-number="1000"></td>
        <td id="LC1000" class="blob-code js-file-line">      &quot;            nruns = len(runslist)\n&quot;,</td>
      </tr>
      <tr>
        <td id="L1001" class="blob-num js-line-number" data-line-number="1001"></td>
        <td id="LC1001" class="blob-code js-file-line">      &quot;            nstars = runslist[0].nstars\n&quot;,</td>
      </tr>
      <tr>
        <td id="L1002" class="blob-num js-line-number" data-line-number="1002"></td>
        <td id="LC1002" class="blob-code js-file-line">      &quot;            if runslist[0].kingmodel:\n&quot;,</td>
      </tr>
      <tr>
        <td id="L1003" class="blob-num js-line-number" data-line-number="1003"></td>
        <td id="LC1003" class="blob-code js-file-line">      &quot;                model = \&quot;King\&quot;\n&quot;,</td>
      </tr>
      <tr>
        <td id="L1004" class="blob-num js-line-number" data-line-number="1004"></td>
        <td id="LC1004" class="blob-code js-file-line">      &quot;            else:\n&quot;,</td>
      </tr>
      <tr>
        <td id="L1005" class="blob-num js-line-number" data-line-number="1005"></td>
        <td id="LC1005" class="blob-code js-file-line">      &quot;                model = \&quot;Plummer\&quot;\n&quot;,</td>
      </tr>
      <tr>
        <td id="L1006" class="blob-num js-line-number" data-line-number="1006"></td>
        <td id="LC1006" class="blob-code js-file-line">      &quot;            print \&quot;%s -- %s model; %d runs %d stars \&quot; %(ensf, model, nruns, nstars)\n&quot;,</td>
      </tr>
      <tr>
        <td id="L1007" class="blob-num js-line-number" data-line-number="1007"></td>
        <td id="LC1007" class="blob-code js-file-line">      &quot;        except EOFError:\n&quot;,</td>
      </tr>
      <tr>
        <td id="L1008" class="blob-num js-line-number" data-line-number="1008"></td>
        <td id="LC1008" class="blob-code js-file-line">      &quot;            print \&quot;%s -- No data\&quot; %ensf\n&quot;,</td>
      </tr>
      <tr>
        <td id="L1009" class="blob-num js-line-number" data-line-number="1009"></td>
        <td id="LC1009" class="blob-code js-file-line">      &quot;        ensfile.close()\n&quot;,</td>
      </tr>
      <tr>
        <td id="L1010" class="blob-num js-line-number" data-line-number="1010"></td>
        <td id="LC1010" class="blob-code js-file-line">      &quot;\n&quot;,</td>
      </tr>
      <tr>
        <td id="L1011" class="blob-num js-line-number" data-line-number="1011"></td>
        <td id="LC1011" class="blob-code js-file-line">      &quot;\n&quot;,</td>
      </tr>
      <tr>
        <td id="L1012" class="blob-num js-line-number" data-line-number="1012"></td>
        <td id="LC1012" class="blob-code js-file-line">      &quot;def avg_series(ensname, output=False):\n&quot;,</td>
      </tr>
      <tr>
        <td id="L1013" class="blob-num js-line-number" data-line-number="1013"></td>
        <td id="LC1013" class="blob-code js-file-line">      &quot;    storename = \&quot;%s-avg.h5\&quot;%ensname\n&quot;,</td>
      </tr>
      <tr>
        <td id="L1014" class="blob-num js-line-number" data-line-number="1014"></td>
        <td id="LC1014" class="blob-code js-file-line">      &quot;    store = pd.HDFStore(\&quot;%s-avg.h5\&quot;%ensname)\n&quot;,</td>
      </tr>
      <tr>
        <td id="L1015" class="blob-num js-line-number" data-line-number="1015"></td>
        <td id="LC1015" class="blob-code js-file-line">      &quot;    try:\n&quot;,</td>
      </tr>
      <tr>
        <td id="L1016" class="blob-num js-line-number" data-line-number="1016"></td>
        <td id="LC1016" class="blob-code js-file-line">      &quot;        ratiodf = store[&#39;ratiodf&#39;]\n&quot;,</td>
      </tr>
      <tr>
        <td id="L1017" class="blob-num js-line-number" data-line-number="1017"></td>
        <td id="LC1017" class="blob-code js-file-line">      &quot;        lowdf = store[&#39;lowdf&#39;]\n&quot;,</td>
      </tr>
      <tr>
        <td id="L1018" class="blob-num js-line-number" data-line-number="1018"></td>
        <td id="LC1018" class="blob-code js-file-line">      &quot;        highdf = store[&#39;highdf&#39;]\n&quot;,</td>
      </tr>
      <tr>
        <td id="L1019" class="blob-num js-line-number" data-line-number="1019"></td>
        <td id="LC1019" class="blob-code js-file-line">      &quot;    except KeyError:\n&quot;,</td>
      </tr>
      <tr>
        <td id="L1020" class="blob-num js-line-number" data-line-number="1020"></td>
        <td id="LC1020" class="blob-code js-file-line">      &quot;        ensfile = open(ensname, &#39;rb&#39;)\n&quot;,</td>
      </tr>
      <tr>
        <td id="L1021" class="blob-num js-line-number" data-line-number="1021"></td>
        <td id="LC1021" class="blob-code js-file-line">      &quot;        runlist = pickle.load(ensfile)\n&quot;,</td>
      </tr>
      <tr>
        <td id="L1022" class="blob-num js-line-number" data-line-number="1022"></td>
        <td id="LC1022" class="blob-code js-file-line">      &quot;\n&quot;,</td>
      </tr>
      <tr>
        <td id="L1023" class="blob-num js-line-number" data-line-number="1023"></td>
        <td id="LC1023" class="blob-code js-file-line">      &quot;        rsdict = {}\n&quot;,</td>
      </tr>
      <tr>
        <td id="L1024" class="blob-num js-line-number" data-line-number="1024"></td>
        <td id="LC1024" class="blob-code js-file-line">      &quot;        lsdict = {}\n&quot;,</td>
      </tr>
      <tr>
        <td id="L1025" class="blob-num js-line-number" data-line-number="1025"></td>
        <td id="LC1025" class="blob-code js-file-line">      &quot;        hsdict = {}\n&quot;,</td>
      </tr>
      <tr>
        <td id="L1026" class="blob-num js-line-number" data-line-number="1026"></td>
        <td id="LC1026" class="blob-code js-file-line">      &quot;        i = 0\n&quot;,</td>
      </tr>
      <tr>
        <td id="L1027" class="blob-num js-line-number" data-line-number="1027"></td>
        <td id="LC1027" class="blob-code js-file-line">      &quot;        for run in runlist:\n&quot;,</td>
      </tr>
      <tr>
        <td id="L1028" class="blob-num js-line-number" data-line-number="1028"></td>
        <td id="LC1028" class="blob-code js-file-line">      &quot;            key = \&quot;%d\&quot;%i\n&quot;,</td>
      </tr>
      <tr>
        <td id="L1029" class="blob-num js-line-number" data-line-number="1029"></td>
        <td id="LC1029" class="blob-code js-file-line">      &quot;            if output:\n&quot;,</td>
      </tr>
      <tr>
        <td id="L1030" class="blob-num js-line-number" data-line-number="1030"></td>
        <td id="LC1030" class="blob-code js-file-line">      &quot;                print key\n&quot;,</td>
      </tr>
      <tr>
        <td id="L1031" class="blob-num js-line-number" data-line-number="1031"></td>
        <td id="LC1031" class="blob-code js-file-line">      &quot;            try:\n&quot;,</td>
      </tr>
      <tr>
        <td id="L1032" class="blob-num js-line-number" data-line-number="1032"></td>
        <td id="LC1032" class="blob-code js-file-line">      &quot;                thepan = run_to_panel(run)\n&quot;,</td>
      </tr>
      <tr>
        <td id="L1033" class="blob-num js-line-number" data-line-number="1033"></td>
        <td id="LC1033" class="blob-code js-file-line">      &quot;                rseries, lmseries, hmseries = massradius(thepan)\n&quot;,</td>
      </tr>
      <tr>
        <td id="L1034" class="blob-num js-line-number" data-line-number="1034"></td>
        <td id="LC1034" class="blob-code js-file-line">      &quot;                rsdict[key] = rseries\n&quot;,</td>
      </tr>
      <tr>
        <td id="L1035" class="blob-num js-line-number" data-line-number="1035"></td>
        <td id="LC1035" class="blob-code js-file-line">      &quot;                lsdict[key] = lmseries\n&quot;,</td>
      </tr>
      <tr>
        <td id="L1036" class="blob-num js-line-number" data-line-number="1036"></td>
        <td id="LC1036" class="blob-code js-file-line">      &quot;                hsdict[key] = hmseries\n&quot;,</td>
      </tr>
      <tr>
        <td id="L1037" class="blob-num js-line-number" data-line-number="1037"></td>
        <td id="LC1037" class="blob-code js-file-line">      &quot;            except IOError:\n&quot;,</td>
      </tr>
      <tr>
        <td id="L1038" class="blob-num js-line-number" data-line-number="1038"></td>
        <td id="LC1038" class="blob-code js-file-line">      &quot;                pass\n&quot;,</td>
      </tr>
      <tr>
        <td id="L1039" class="blob-num js-line-number" data-line-number="1039"></td>
        <td id="LC1039" class="blob-code js-file-line">      &quot;            i+=1\n&quot;,</td>
      </tr>
      <tr>
        <td id="L1040" class="blob-num js-line-number" data-line-number="1040"></td>
        <td id="LC1040" class="blob-code js-file-line">      &quot;        highdf = pd.DataFrame(hsdict)\n&quot;,</td>
      </tr>
      <tr>
        <td id="L1041" class="blob-num js-line-number" data-line-number="1041"></td>
        <td id="LC1041" class="blob-code js-file-line">      &quot;        lowdf = pd.DataFrame(lsdict)\n&quot;,</td>
      </tr>
      <tr>
        <td id="L1042" class="blob-num js-line-number" data-line-number="1042"></td>
        <td id="LC1042" class="blob-code js-file-line">      &quot;        ratiodf = pd.DataFrame(rsdict)\n&quot;,</td>
      </tr>
      <tr>
        <td id="L1043" class="blob-num js-line-number" data-line-number="1043"></td>
        <td id="LC1043" class="blob-code js-file-line">      &quot;    \n&quot;,</td>
      </tr>
      <tr>
        <td id="L1044" class="blob-num js-line-number" data-line-number="1044"></td>
        <td id="LC1044" class="blob-code js-file-line">      &quot;        # compute averages\n&quot;,</td>
      </tr>
      <tr>
        <td id="L1045" class="blob-num js-line-number" data-line-number="1045"></td>
        <td id="LC1045" class="blob-code js-file-line">      &quot;        highdf[&#39;avg&#39;] = highdf.mean(axis=1)\n&quot;,</td>
      </tr>
      <tr>
        <td id="L1046" class="blob-num js-line-number" data-line-number="1046"></td>
        <td id="LC1046" class="blob-code js-file-line">      &quot;        lowdf[&#39;avg&#39;] = lowdf.mean(axis=1)\n&quot;,</td>
      </tr>
      <tr>
        <td id="L1047" class="blob-num js-line-number" data-line-number="1047"></td>
        <td id="LC1047" class="blob-code js-file-line">      &quot;        ratiodf[&#39;avg&#39;] = ratiodf.mean(axis=1)\n&quot;,</td>
      </tr>
      <tr>
        <td id="L1048" class="blob-num js-line-number" data-line-number="1048"></td>
        <td id="LC1048" class="blob-code js-file-line">      &quot;    \n&quot;,</td>
      </tr>
      <tr>
        <td id="L1049" class="blob-num js-line-number" data-line-number="1049"></td>
        <td id="LC1049" class="blob-code js-file-line">      &quot;        # compute stddev\n&quot;,</td>
      </tr>
      <tr>
        <td id="L1050" class="blob-num js-line-number" data-line-number="1050"></td>
        <td id="LC1050" class="blob-code js-file-line">      &quot;        highdf[&#39;stddev&#39;] = highdf.std(axis=1)\n&quot;,</td>
      </tr>
      <tr>
        <td id="L1051" class="blob-num js-line-number" data-line-number="1051"></td>
        <td id="LC1051" class="blob-code js-file-line">      &quot;        lowdf[&#39;stddev&#39;] = lowdf.std(axis=1)\n&quot;,</td>
      </tr>
      <tr>
        <td id="L1052" class="blob-num js-line-number" data-line-number="1052"></td>
        <td id="LC1052" class="blob-code js-file-line">      &quot;        ratiodf[&#39;stddev&#39;] = ratiodf.std(axis=1)\n&quot;,</td>
      </tr>
      <tr>
        <td id="L1053" class="blob-num js-line-number" data-line-number="1053"></td>
        <td id="LC1053" class="blob-code js-file-line">      &quot; \n&quot;,</td>
      </tr>
      <tr>
        <td id="L1054" class="blob-num js-line-number" data-line-number="1054"></td>
        <td id="LC1054" class="blob-code js-file-line">      &quot;        store[&#39;highdf&#39;] = highdf\n&quot;,</td>
      </tr>
      <tr>
        <td id="L1055" class="blob-num js-line-number" data-line-number="1055"></td>
        <td id="LC1055" class="blob-code js-file-line">      &quot;        store[&#39;lowdf&#39;] = lowdf\n&quot;,</td>
      </tr>
      <tr>
        <td id="L1056" class="blob-num js-line-number" data-line-number="1056"></td>
        <td id="LC1056" class="blob-code js-file-line">      &quot;        store[&#39;ratiodf&#39;] = ratiodf\n&quot;,</td>
      </tr>
      <tr>
        <td id="L1057" class="blob-num js-line-number" data-line-number="1057"></td>
        <td id="LC1057" class="blob-code js-file-line">      &quot;        \n&quot;,</td>
      </tr>
      <tr>
        <td id="L1058" class="blob-num js-line-number" data-line-number="1058"></td>
        <td id="LC1058" class="blob-code js-file-line">      &quot;    return ratiodf, lowdf, highdf\n&quot;,</td>
      </tr>
      <tr>
        <td id="L1059" class="blob-num js-line-number" data-line-number="1059"></td>
        <td id="LC1059" class="blob-code js-file-line">      &quot;\n&quot;,</td>
      </tr>
      <tr>
        <td id="L1060" class="blob-num js-line-number" data-line-number="1060"></td>
        <td id="LC1060" class="blob-code js-file-line">      &quot;def r_and_m(clusterstep):\n&quot;,</td>
      </tr>
      <tr>
        <td id="L1061" class="blob-num js-line-number" data-line-number="1061"></td>
        <td id="LC1061" class="blob-code js-file-line">      &quot;    rvals = []\n&quot;,</td>
      </tr>
      <tr>
        <td id="L1062" class="blob-num js-line-number" data-line-number="1062"></td>
        <td id="LC1062" class="blob-code js-file-line">      &quot;    masses = []\n&quot;,</td>
      </tr>
      <tr>
        <td id="L1063" class="blob-num js-line-number" data-line-number="1063"></td>
        <td id="LC1063" class="blob-code js-file-line">      &quot;    \n&quot;,</td>
      </tr>
      <tr>
        <td id="L1064" class="blob-num js-line-number" data-line-number="1064"></td>
        <td id="LC1064" class="blob-code js-file-line">      &quot;# determine the radii and masses of stars for a timestep in kira output\n&quot;,</td>
      </tr>
      <tr>
        <td id="L1065" class="blob-num js-line-number" data-line-number="1065"></td>
        <td id="LC1065" class="blob-code js-file-line">      &quot;# uses extract_particle_dynamics to open story and create lists of stars\n&quot;,</td>
      </tr>
      <tr>
        <td id="L1066" class="blob-num js-line-number" data-line-number="1066"></td>
        <td id="LC1066" class="blob-code js-file-line">      &quot;    \n&quot;,</td>
      </tr>
      <tr>
        <td id="L1067" class="blob-num js-line-number" data-line-number="1067"></td>
        <td id="LC1067" class="blob-code js-file-line">      &quot;    partlist = extract_particle_dynamics(clusterstep)\n&quot;,</td>
      </tr>
      <tr>
        <td id="L1068" class="blob-num js-line-number" data-line-number="1068"></td>
        <td id="LC1068" class="blob-code js-file-line">      &quot;    \n&quot;,</td>
      </tr>
      <tr>
        <td id="L1069" class="blob-num js-line-number" data-line-number="1069"></td>
        <td id="LC1069" class="blob-code js-file-line">      &quot;    for particle in partlist:\n&quot;,</td>
      </tr>
      <tr>
        <td id="L1070" class="blob-num js-line-number" data-line-number="1070"></td>
        <td id="LC1070" class="blob-code js-file-line">      &quot;        masses.append(particle[6])\n&quot;,</td>
      </tr>
      <tr>
        <td id="L1071" class="blob-num js-line-number" data-line-number="1071"></td>
        <td id="LC1071" class="blob-code js-file-line">      &quot;        x = particle[0]\n&quot;,</td>
      </tr>
      <tr>
        <td id="L1072" class="blob-num js-line-number" data-line-number="1072"></td>
        <td id="LC1072" class="blob-code js-file-line">      &quot;        y = particle[1]\n&quot;,</td>
      </tr>
      <tr>
        <td id="L1073" class="blob-num js-line-number" data-line-number="1073"></td>
        <td id="LC1073" class="blob-code js-file-line">      &quot;        z = particle[2]\n&quot;,</td>
      </tr>
      <tr>
        <td id="L1074" class="blob-num js-line-number" data-line-number="1074"></td>
        <td id="LC1074" class="blob-code js-file-line">      &quot;        r = np.sqrt(x*x + y*y + z*z)\n&quot;,</td>
      </tr>
      <tr>
        <td id="L1075" class="blob-num js-line-number" data-line-number="1075"></td>
        <td id="LC1075" class="blob-code js-file-line">      &quot;        rvals.append(r)\n&quot;,</td>
      </tr>
      <tr>
        <td id="L1076" class="blob-num js-line-number" data-line-number="1076"></td>
        <td id="LC1076" class="blob-code js-file-line">      &quot;#        print r, particle[6]\n&quot;,</td>
      </tr>
      <tr>
        <td id="L1077" class="blob-num js-line-number" data-line-number="1077"></td>
        <td id="LC1077" class="blob-code js-file-line">      &quot;        \n&quot;,</td>
      </tr>
      <tr>
        <td id="L1078" class="blob-num js-line-number" data-line-number="1078"></td>
        <td id="LC1078" class="blob-code js-file-line">      &quot;    return rvals, masses\n&quot;,</td>
      </tr>
      <tr>
        <td id="L1079" class="blob-num js-line-number" data-line-number="1079"></td>
        <td id="LC1079" class="blob-code js-file-line">      &quot;\n&quot;,</td>
      </tr>
      <tr>
        <td id="L1080" class="blob-num js-line-number" data-line-number="1080"></td>
        <td id="LC1080" class="blob-code js-file-line">      &quot;def medianpos(mlow, mhigh, rad, masses):\n&quot;,</td>
      </tr>
      <tr>
        <td id="L1081" class="blob-num js-line-number" data-line-number="1081"></td>
        <td id="LC1081" class="blob-code js-file-line">      &quot;    index = 0\n&quot;,</td>
      </tr>
      <tr>
        <td id="L1082" class="blob-num js-line-number" data-line-number="1082"></td>
        <td id="LC1082" class="blob-code js-file-line">      &quot;    r_lowmass = []\n&quot;,</td>
      </tr>
      <tr>
        <td id="L1083" class="blob-num js-line-number" data-line-number="1083"></td>
        <td id="LC1083" class="blob-code js-file-line">      &quot;    r_highmass = []\n&quot;,</td>
      </tr>
      <tr>
        <td id="L1084" class="blob-num js-line-number" data-line-number="1084"></td>
        <td id="LC1084" class="blob-code js-file-line">      &quot;    \n&quot;,</td>
      </tr>
      <tr>
        <td id="L1085" class="blob-num js-line-number" data-line-number="1085"></td>
        <td id="LC1085" class="blob-code js-file-line">      &quot;# find median radius for stars below a low mass cut-off and above\n&quot;,</td>
      </tr>
      <tr>
        <td id="L1086" class="blob-num js-line-number" data-line-number="1086"></td>
        <td id="LC1086" class="blob-code js-file-line">      &quot;# a high-mass cut-off given the desired cut-offs as well as lists of\n&quot;,</td>
      </tr>
      <tr>
        <td id="L1087" class="blob-num js-line-number" data-line-number="1087"></td>
        <td id="LC1087" class="blob-code js-file-line">      &quot;# radii and masses (ordered the same)\n&quot;,</td>
      </tr>
      <tr>
        <td id="L1088" class="blob-num js-line-number" data-line-number="1088"></td>
        <td id="LC1088" class="blob-code js-file-line">      &quot;    \n&quot;,</td>
      </tr>
      <tr>
        <td id="L1089" class="blob-num js-line-number" data-line-number="1089"></td>
        <td id="LC1089" class="blob-code js-file-line">      &quot;    for mass in masses:\n&quot;,</td>
      </tr>
      <tr>
        <td id="L1090" class="blob-num js-line-number" data-line-number="1090"></td>
        <td id="LC1090" class="blob-code js-file-line">      &quot;        if mass &lt;= mlow:\n&quot;,</td>
      </tr>
      <tr>
        <td id="L1091" class="blob-num js-line-number" data-line-number="1091"></td>
        <td id="LC1091" class="blob-code js-file-line">      &quot;            r_lowmass.append(rad[index])\n&quot;,</td>
      </tr>
      <tr>
        <td id="L1092" class="blob-num js-line-number" data-line-number="1092"></td>
        <td id="LC1092" class="blob-code js-file-line">      &quot;        if mass &gt;= mhigh:\n&quot;,</td>
      </tr>
      <tr>
        <td id="L1093" class="blob-num js-line-number" data-line-number="1093"></td>
        <td id="LC1093" class="blob-code js-file-line">      &quot;            r_highmass.append(rad[index])\n&quot;,</td>
      </tr>
      <tr>
        <td id="L1094" class="blob-num js-line-number" data-line-number="1094"></td>
        <td id="LC1094" class="blob-code js-file-line">      &quot;        index = index + 1\n&quot;,</td>
      </tr>
      <tr>
        <td id="L1095" class="blob-num js-line-number" data-line-number="1095"></td>
        <td id="LC1095" class="blob-code js-file-line">      &quot;        \n&quot;,</td>
      </tr>
      <tr>
        <td id="L1096" class="blob-num js-line-number" data-line-number="1096"></td>
        <td id="LC1096" class="blob-code js-file-line">      &quot;    medlow = np.median(r_lowmass)\n&quot;,</td>
      </tr>
      <tr>
        <td id="L1097" class="blob-num js-line-number" data-line-number="1097"></td>
        <td id="LC1097" class="blob-code js-file-line">      &quot;    medhigh = np.median(r_highmass)\n&quot;,</td>
      </tr>
      <tr>
        <td id="L1098" class="blob-num js-line-number" data-line-number="1098"></td>
        <td id="LC1098" class="blob-code js-file-line">      &quot;    \n&quot;,</td>
      </tr>
      <tr>
        <td id="L1099" class="blob-num js-line-number" data-line-number="1099"></td>
        <td id="LC1099" class="blob-code js-file-line">      &quot;    return medlow, medhigh\n&quot;,</td>
      </tr>
      <tr>
        <td id="L1100" class="blob-num js-line-number" data-line-number="1100"></td>
        <td id="LC1100" class="blob-code js-file-line">      &quot;\n&quot;,</td>
      </tr>
      <tr>
        <td id="L1101" class="blob-num js-line-number" data-line-number="1101"></td>
        <td id="LC1101" class="blob-code js-file-line">      &quot;def medianpos_percentile(storylist):\n&quot;,</td>
      </tr>
      <tr>
        <td id="L1102" class="blob-num js-line-number" data-line-number="1102"></td>
        <td id="LC1102" class="blob-code js-file-line">      &quot;    masscut = 0.1\n&quot;,</td>
      </tr>
      <tr>
        <td id="L1103" class="blob-num js-line-number" data-line-number="1103"></td>
        <td id="LC1103" class="blob-code js-file-line">      &quot;    first = 1\n&quot;,</td>
      </tr>
      <tr>
        <td id="L1104" class="blob-num js-line-number" data-line-number="1104"></td>
        <td id="LC1104" class="blob-code js-file-line">      &quot;    median_low = []\n&quot;,</td>
      </tr>
      <tr>
        <td id="L1105" class="blob-num js-line-number" data-line-number="1105"></td>
        <td id="LC1105" class="blob-code js-file-line">      &quot;    median_high = []\n&quot;,</td>
      </tr>
      <tr>
        <td id="L1106" class="blob-num js-line-number" data-line-number="1106"></td>
        <td id="LC1106" class="blob-code js-file-line">      &quot;    \n&quot;,</td>
      </tr>
      <tr>
        <td id="L1107" class="blob-num js-line-number" data-line-number="1107"></td>
        <td id="LC1107" class="blob-code js-file-line">      &quot;# takes a storylist generated from kira output and produces a list of\n&quot;,</td>
      </tr>
      <tr>
        <td id="L1108" class="blob-num js-line-number" data-line-number="1108"></td>
        <td id="LC1108" class="blob-code js-file-line">      &quot;# median star positions for stars in the upper &amp; lower percentile as\n&quot;,</td>
      </tr>
      <tr>
        <td id="L1109" class="blob-num js-line-number" data-line-number="1109"></td>
        <td id="LC1109" class="blob-code js-file-line">      &quot;# set in the parameter \&quot;masscut\&quot;, above\n&quot;,</td>
      </tr>
      <tr>
        <td id="L1110" class="blob-num js-line-number" data-line-number="1110"></td>
        <td id="LC1110" class="blob-code js-file-line">      &quot;\n&quot;,</td>
      </tr>
      <tr>
        <td id="L1111" class="blob-num js-line-number" data-line-number="1111"></td>
        <td id="LC1111" class="blob-code js-file-line">      &quot;# when looking at the initial timestep, it uses the percentile to figure\n&quot;,</td>
      </tr>
      <tr>
        <td id="L1112" class="blob-num js-line-number" data-line-number="1112"></td>
        <td id="LC1112" class="blob-code js-file-line">      &quot;# out actual cut-offs in mass.  This way, we do not have to worry about \n&quot;,</td>
      </tr>
      <tr>
        <td id="L1113" class="blob-num js-line-number" data-line-number="1113"></td>
        <td id="LC1113" class="blob-code js-file-line">      &quot;# evaporation changing which stars fall in our observed bins.  \n&quot;,</td>
      </tr>
      <tr>
        <td id="L1114" class="blob-num js-line-number" data-line-number="1114"></td>
        <td id="LC1114" class="blob-code js-file-line">      &quot;    \n&quot;,</td>
      </tr>
      <tr>
        <td id="L1115" class="blob-num js-line-number" data-line-number="1115"></td>
        <td id="LC1115" class="blob-code js-file-line">      &quot;    for story in storylist:\n&quot;,</td>
      </tr>
      <tr>
        <td id="L1116" class="blob-num js-line-number" data-line-number="1116"></td>
        <td id="LC1116" class="blob-code js-file-line">      &quot;        (radii, masses) = r_and_m(story)\n&quot;,</td>
      </tr>
      <tr>
        <td id="L1117" class="blob-num js-line-number" data-line-number="1117"></td>
        <td id="LC1117" class="blob-code js-file-line">      &quot;        if first == 1:\n&quot;,</td>
      </tr>
      <tr>
        <td id="L1118" class="blob-num js-line-number" data-line-number="1118"></td>
        <td id="LC1118" class="blob-code js-file-line">      &quot;            masssort = np.sort(masses)\n&quot;,</td>
      </tr>
      <tr>
        <td id="L1119" class="blob-num js-line-number" data-line-number="1119"></td>
        <td id="LC1119" class="blob-code js-file-line">      &quot;            nummass = len(masses)\n&quot;,</td>
      </tr>
      <tr>
        <td id="L1120" class="blob-num js-line-number" data-line-number="1120"></td>
        <td id="LC1120" class="blob-code js-file-line">      &quot;            indexlo = int(np.floor(masscut * nummass))\n&quot;,</td>
      </tr>
      <tr>
        <td id="L1121" class="blob-num js-line-number" data-line-number="1121"></td>
        <td id="LC1121" class="blob-code js-file-line">      &quot;            indexhi = int(np.floor(nummass - indexlo))\n&quot;,</td>
      </tr>
      <tr>
        <td id="L1122" class="blob-num js-line-number" data-line-number="1122"></td>
        <td id="LC1122" class="blob-code js-file-line">      &quot;            masslow = masssort[indexlo]\n&quot;,</td>
      </tr>
      <tr>
        <td id="L1123" class="blob-num js-line-number" data-line-number="1123"></td>
        <td id="LC1123" class="blob-code js-file-line">      &quot;            masshigh = masssort[indexhi]\n&quot;,</td>
      </tr>
      <tr>
        <td id="L1124" class="blob-num js-line-number" data-line-number="1124"></td>
        <td id="LC1124" class="blob-code js-file-line">      &quot;            print masslow, masshigh\n&quot;,</td>
      </tr>
      <tr>
        <td id="L1125" class="blob-num js-line-number" data-line-number="1125"></td>
        <td id="LC1125" class="blob-code js-file-line">      &quot;            first = 0\n&quot;,</td>
      </tr>
      <tr>
        <td id="L1126" class="blob-num js-line-number" data-line-number="1126"></td>
        <td id="LC1126" class="blob-code js-file-line">      &quot;        (medlow, medhigh) = medianpos(masslow, masshigh, radii, masses)\n&quot;,</td>
      </tr>
      <tr>
        <td id="L1127" class="blob-num js-line-number" data-line-number="1127"></td>
        <td id="LC1127" class="blob-code js-file-line">      &quot;        median_low.append(medlow)\n&quot;,</td>
      </tr>
      <tr>
        <td id="L1128" class="blob-num js-line-number" data-line-number="1128"></td>
        <td id="LC1128" class="blob-code js-file-line">      &quot;        median_high.append(medhigh)\n&quot;,</td>
      </tr>
      <tr>
        <td id="L1129" class="blob-num js-line-number" data-line-number="1129"></td>
        <td id="LC1129" class="blob-code js-file-line">      &quot;    return median_low, median_high\n&quot;,</td>
      </tr>
      <tr>
        <td id="L1130" class="blob-num js-line-number" data-line-number="1130"></td>
        <td id="LC1130" class="blob-code js-file-line">      &quot;    \n&quot;</td>
      </tr>
      <tr>
        <td id="L1131" class="blob-num js-line-number" data-line-number="1131"></td>
        <td id="LC1131" class="blob-code js-file-line">     ],</td>
      </tr>
      <tr>
        <td id="L1132" class="blob-num js-line-number" data-line-number="1132"></td>
        <td id="LC1132" class="blob-code js-file-line">     &quot;language&quot;: &quot;python&quot;,</td>
      </tr>
      <tr>
        <td id="L1133" class="blob-num js-line-number" data-line-number="1133"></td>
        <td id="LC1133" class="blob-code js-file-line">     &quot;metadata&quot;: {},</td>
      </tr>
      <tr>
        <td id="L1134" class="blob-num js-line-number" data-line-number="1134"></td>
        <td id="LC1134" class="blob-code js-file-line">     &quot;outputs&quot;: []</td>
      </tr>
      <tr>
        <td id="L1135" class="blob-num js-line-number" data-line-number="1135"></td>
        <td id="LC1135" class="blob-code js-file-line">    },</td>
      </tr>
      <tr>
        <td id="L1136" class="blob-num js-line-number" data-line-number="1136"></td>
        <td id="LC1136" class="blob-code js-file-line">    {</td>
      </tr>
      <tr>
        <td id="L1137" class="blob-num js-line-number" data-line-number="1137"></td>
        <td id="LC1137" class="blob-code js-file-line">     &quot;cell_type&quot;: &quot;code&quot;,</td>
      </tr>
      <tr>
        <td id="L1138" class="blob-num js-line-number" data-line-number="1138"></td>
        <td id="LC1138" class="blob-code js-file-line">     &quot;collapsed&quot;: false,</td>
      </tr>
      <tr>
        <td id="L1139" class="blob-num js-line-number" data-line-number="1139"></td>
        <td id="LC1139" class="blob-code js-file-line">     &quot;input&quot;: [],</td>
      </tr>
      <tr>
        <td id="L1140" class="blob-num js-line-number" data-line-number="1140"></td>
        <td id="LC1140" class="blob-code js-file-line">     &quot;language&quot;: &quot;python&quot;,</td>
      </tr>
      <tr>
        <td id="L1141" class="blob-num js-line-number" data-line-number="1141"></td>
        <td id="LC1141" class="blob-code js-file-line">     &quot;metadata&quot;: {},</td>
      </tr>
      <tr>
        <td id="L1142" class="blob-num js-line-number" data-line-number="1142"></td>
        <td id="LC1142" class="blob-code js-file-line">     &quot;outputs&quot;: []</td>
      </tr>
      <tr>
        <td id="L1143" class="blob-num js-line-number" data-line-number="1143"></td>
        <td id="LC1143" class="blob-code js-file-line">    }</td>
      </tr>
      <tr>
        <td id="L1144" class="blob-num js-line-number" data-line-number="1144"></td>
        <td id="LC1144" class="blob-code js-file-line">   ],</td>
      </tr>
      <tr>
        <td id="L1145" class="blob-num js-line-number" data-line-number="1145"></td>
        <td id="LC1145" class="blob-code js-file-line">   &quot;metadata&quot;: {}</td>
      </tr>
      <tr>
        <td id="L1146" class="blob-num js-line-number" data-line-number="1146"></td>
        <td id="LC1146" class="blob-code js-file-line">  }</td>
      </tr>
      <tr>
        <td id="L1147" class="blob-num js-line-number" data-line-number="1147"></td>
        <td id="LC1147" class="blob-code js-file-line"> ]</td>
      </tr>
      <tr>
        <td id="L1148" class="blob-num js-line-number" data-line-number="1148"></td>
        <td id="LC1148" class="blob-code js-file-line">}</td>
      </tr>
</table>

  </div>

  </div>
</div>

<a href="#jump-to-line" rel="facebox[.linejump]" data-hotkey="l" style="display:none">Jump to Line</a>
<div id="jump-to-line" style="display:none">
  <form accept-charset="UTF-8" class="js-jump-to-line-form">
    <input class="linejump-input js-jump-to-line-field" type="text" placeholder="Jump to line&hellip;" autofocus>
    <button type="submit" class="button">Go</button>
  </form>
</div>

        </div>

      </div><!-- /.repo-container -->
      <div class="modal-backdrop"></div>
    </div><!-- /.container -->
  </div><!-- /.site -->


    </div><!-- /.wrapper -->

      <div class="container">
  <div class="site-footer" role="contentinfo">
    <ul class="site-footer-links right">
      <li><a href="https://status.github.com/">Status</a></li>
      <li><a href="http://developer.github.com">API</a></li>
      <li><a href="http://training.github.com">Training</a></li>
      <li><a href="http://shop.github.com">Shop</a></li>
      <li><a href="/blog">Blog</a></li>
      <li><a href="/about">About</a></li>

    </ul>

    <a href="/" aria-label="Homepage">
      <span class="mega-octicon octicon-mark-github" title="GitHub"></span>
    </a>

    <ul class="site-footer-links">
      <li>&copy; 2014 <span title="0.09101s from github-fe136-cp1-prd.iad.github.net">GitHub</span>, Inc.</li>
        <li><a href="/site/terms">Terms</a></li>
        <li><a href="/site/privacy">Privacy</a></li>
        <li><a href="/security">Security</a></li>
        <li><a href="/contact">Contact</a></li>
    </ul>
  </div><!-- /.site-footer -->
</div><!-- /.container -->


    <div class="fullscreen-overlay js-fullscreen-overlay" id="fullscreen_overlay">
  <div class="fullscreen-container js-suggester-container">
    <div class="textarea-wrap">
      <textarea name="fullscreen-contents" id="fullscreen-contents" class="fullscreen-contents js-fullscreen-contents js-suggester-field" placeholder=""></textarea>
    </div>
  </div>
  <div class="fullscreen-sidebar">
    <a href="#" class="exit-fullscreen js-exit-fullscreen tooltipped tooltipped-w" aria-label="Exit Zen Mode">
      <span class="mega-octicon octicon-screen-normal"></span>
    </a>
    <a href="#" class="theme-switcher js-theme-switcher tooltipped tooltipped-w"
      aria-label="Switch themes">
      <span class="octicon octicon-color-mode"></span>
    </a>
  </div>
</div>



    <div id="ajax-error-message" class="flash flash-error">
      <span class="octicon octicon-alert"></span>
      <a href="#" class="octicon octicon-x flash-close js-ajax-error-dismiss" aria-label="Dismiss error"></a>
      Something went wrong with that request. Please try again.
    </div>


      <script crossorigin="anonymous" src="https://assets-cdn.github.com/assets/frameworks-2ca75bd6de4d6f3a8eeb377733291df7640443efb6b4da70511814bc6736214a.js" type="text/javascript"></script>
      <script async="async" crossorigin="anonymous" src="https://assets-cdn.github.com/assets/github-46598ff4921b5f44caa27cf47724fdd581124b92f9b4e02aecc97b76fbe9b603.js" type="text/javascript"></script>
      
      
  </body>
</html>

